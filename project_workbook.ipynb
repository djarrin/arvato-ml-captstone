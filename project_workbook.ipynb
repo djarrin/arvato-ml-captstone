{
 "cells": [
  {
   "cell_type": "markdown",
   "metadata": {},
   "source": [
    "# Capstone Project: Create a Customer Segmentation Report for Arvato Financial Services\n",
    "\n",
    "In this project, you will analyze demographics data for customers of a mail-order sales company in Germany, comparing it against demographics information for the general population. You'll use unsupervised learning techniques to perform customer segmentation, identifying the parts of the population that best describe the core customer base of the company. Then, you'll apply what you've learned on a third dataset with demographics information for targets of a marketing campaign for the company, and use a model to predict which individuals are most likely to convert into becoming customers for the company. The data that you will use has been provided by our partners at Bertelsmann Arvato Analytics, and represents a real-life data science task.\n",
    "\n",
    "If you completed the first term of this program, you will be familiar with the first part of this project, from the unsupervised learning project. The versions of those two datasets used in this project will include many more features and has not been pre-cleaned. You are also free to choose whatever approach you'd like to analyzing the data rather than follow pre-determined steps. In your work on this project, make sure that you carefully document your steps and decisions, since your main deliverable for this project will be a blog post reporting your findings."
   ]
  },
  {
   "cell_type": "code",
   "execution_count": 1,
   "metadata": {
    "tags": []
   },
   "outputs": [
    {
     "name": "stderr",
     "output_type": "stream",
     "text": [
      "/home/ec2-user/anaconda3/envs/python3/lib/python3.10/site-packages/pandas/core/computation/expressions.py:21: UserWarning: Pandas requires version '2.8.0' or newer of 'numexpr' (version '2.7.3' currently installed).\n",
      "  from pandas.core.computation.check import NUMEXPR_INSTALLED\n",
      "Matplotlib is building the font cache; this may take a moment.\n"
     ]
    },
    {
     "name": "stdout",
     "output_type": "stream",
     "text": [
      "sagemaker.config INFO - Not applying SDK defaults from location: /etc/xdg/sagemaker/config.yaml\n",
      "sagemaker.config INFO - Not applying SDK defaults from location: /home/ec2-user/.config/sagemaker/config.yaml\n"
     ]
    }
   ],
   "source": [
    "# import libraries here; add more as necessary\n",
    "import numpy as np\n",
    "import pandas as pd\n",
    "import matplotlib.pyplot as plt\n",
    "import seaborn as sns\n",
    "import os\n",
    "import shutil\n",
    "import sagemaker\n",
    "from sagemaker import get_execution_role\n",
    "import subprocess\n",
    "import json\n",
    "from sklearn.model_selection import train_test_split\n",
    "\n",
    "\n",
    "\n",
    "# magic word for producing visualizations in notebook\n",
    "%matplotlib inline"
   ]
  },
  {
   "cell_type": "code",
   "execution_count": 2,
   "metadata": {
    "tags": []
   },
   "outputs": [
    {
     "name": "stdout",
     "output_type": "stream",
     "text": [
      "sagemaker.config INFO - Not applying SDK defaults from location: /etc/xdg/sagemaker/config.yaml\n",
      "sagemaker.config INFO - Not applying SDK defaults from location: /home/ec2-user/.config/sagemaker/config.yaml\n",
      "sagemaker.config INFO - Not applying SDK defaults from location: /etc/xdg/sagemaker/config.yaml\n",
      "sagemaker.config INFO - Not applying SDK defaults from location: /home/ec2-user/.config/sagemaker/config.yaml\n"
     ]
    }
   ],
   "source": [
    "# Setup Sagemaker Session\n",
    "sagemaker_session = sagemaker.Session()\n",
    "bucket = sagemaker_session.default_bucket()\n",
    "execution_role = sagemaker.session.get_execution_role()\n",
    "region = sagemaker_session.boto_region_name"
   ]
  },
  {
   "cell_type": "code",
   "execution_count": 3,
   "metadata": {
    "tags": []
   },
   "outputs": [],
   "source": [
    "#download data to notebook\n",
    "#define data location constants\n",
    "local_data_dir = 'data'\n",
    "s3_data_path = f's3://{bucket}/data' \n",
    "s3_model_path = f's3://{bucket}/model'"
   ]
  },
  {
   "cell_type": "markdown",
   "metadata": {
    "tags": []
   },
   "source": [
    "## Initial Model and Kaggle Submission\n",
    "\n",
    "Below I will be setting up the an initial AutoGluon run without any refienment of the data. Then I'll be submitting to Kaggle."
   ]
  },
  {
   "cell_type": "code",
   "execution_count": 4,
   "metadata": {
    "tags": []
   },
   "outputs": [],
   "source": [
    "%%capture\n",
    "\n",
    "!pip install -U pip\n",
    "!pip install -U setuptools wheel\n",
    "!pip install -U \"mxnet<2.0.0\" bokeh==2.0.1\n",
    "!pip install autogluon #--no-cache-dir\n",
    "!pip install kaggle\n",
    "!pip install python-dotenv\n",
    "from autogluon.tabular import TabularPredictor\n"
   ]
  },
  {
   "cell_type": "markdown",
   "metadata": {},
   "source": [
    "### Setting up Kaggle Creds\n"
   ]
  },
  {
   "cell_type": "code",
   "execution_count": 12,
   "metadata": {
    "tags": []
   },
   "outputs": [
    {
     "name": "stdout",
     "output_type": "stream",
     "text": [
      "env: KAGGLE_CONFIG_DIR=kaggle\n"
     ]
    }
   ],
   "source": [
    "!mkdir -p kaggle\n",
    "!touch kaggle/kaggle.json\n",
    "!chmod 600 kaggle/kaggle.json"
   ]
  },
  {
   "cell_type": "code",
   "execution_count": 5,
   "metadata": {
    "tags": []
   },
   "outputs": [
    {
     "name": "stdout",
     "output_type": "stream",
     "text": [
      "env: KAGGLE_CONFIG_DIR=kaggle\n"
     ]
    }
   ],
   "source": [
    "%env KAGGLE_CONFIG_DIR=kaggle"
   ]
  },
  {
   "cell_type": "code",
   "execution_count": 21,
   "metadata": {
    "tags": []
   },
   "outputs": [],
   "source": [
    "from dotenv import dotenv_values\n",
    "\n",
    "CONFIG = dotenv_values('env.txt')\n",
    "kaggle_username = CONFIG['KAGGLE_USERNAME']\n",
    "kaggle_key = CONFIG['KAGGLE_KEY']\n",
    "\n",
    "# Save API token the kaggle.json file\n",
    "with open(\"kaggle/kaggle.json\", \"w\") as f:\n",
    "    f.write(json.dumps({\"username\": kaggle_username, \"key\": kaggle_key}))"
   ]
  },
  {
   "cell_type": "markdown",
   "metadata": {},
   "source": [
    "### Downloading and Prepping Data"
   ]
  },
  {
   "cell_type": "code",
   "execution_count": 138,
   "metadata": {
    "tags": []
   },
   "outputs": [
    {
     "name": "stderr",
     "output_type": "stream",
     "text": [
      "/tmp/ipykernel_9940/3792393069.py:1: DtypeWarning: Columns (18,19) have mixed types. Specify dtype option on import or set low_memory=False.\n",
      "  train_data = pd.read_csv(f'{s3_data_path}/train.csv')\n"
     ]
    }
   ],
   "source": [
    "train_data = pd.read_csv(f'{s3_data_path}/train.csv')"
   ]
  },
  {
   "cell_type": "code",
   "execution_count": 139,
   "metadata": {
    "tags": []
   },
   "outputs": [
    {
     "data": {
      "text/html": [
       "<div>\n",
       "<style scoped>\n",
       "    .dataframe tbody tr th:only-of-type {\n",
       "        vertical-align: middle;\n",
       "    }\n",
       "\n",
       "    .dataframe tbody tr th {\n",
       "        vertical-align: top;\n",
       "    }\n",
       "\n",
       "    .dataframe thead th {\n",
       "        text-align: right;\n",
       "    }\n",
       "</style>\n",
       "<table border=\"1\" class=\"dataframe\">\n",
       "  <thead>\n",
       "    <tr style=\"text-align: right;\">\n",
       "      <th></th>\n",
       "      <th>LNR</th>\n",
       "      <th>AGER_TYP</th>\n",
       "      <th>AKT_DAT_KL</th>\n",
       "      <th>ALTER_HH</th>\n",
       "      <th>ALTER_KIND1</th>\n",
       "      <th>ALTER_KIND2</th>\n",
       "      <th>ALTER_KIND3</th>\n",
       "      <th>ALTER_KIND4</th>\n",
       "      <th>ALTERSKATEGORIE_FEIN</th>\n",
       "      <th>ANZ_HAUSHALTE_AKTIV</th>\n",
       "      <th>...</th>\n",
       "      <th>VK_DHT4A</th>\n",
       "      <th>VK_DISTANZ</th>\n",
       "      <th>VK_ZG11</th>\n",
       "      <th>W_KEIT_KIND_HH</th>\n",
       "      <th>WOHNDAUER_2008</th>\n",
       "      <th>WOHNLAGE</th>\n",
       "      <th>ZABEOTYP</th>\n",
       "      <th>RESPONSE</th>\n",
       "      <th>ANREDE_KZ</th>\n",
       "      <th>ALTERSKATEGORIE_GROB</th>\n",
       "    </tr>\n",
       "  </thead>\n",
       "  <tbody>\n",
       "    <tr>\n",
       "      <th>0</th>\n",
       "      <td>1763</td>\n",
       "      <td>2</td>\n",
       "      <td>1.0</td>\n",
       "      <td>8.0</td>\n",
       "      <td>NaN</td>\n",
       "      <td>NaN</td>\n",
       "      <td>NaN</td>\n",
       "      <td>NaN</td>\n",
       "      <td>8.0</td>\n",
       "      <td>15.0</td>\n",
       "      <td>...</td>\n",
       "      <td>5.0</td>\n",
       "      <td>2.0</td>\n",
       "      <td>1.0</td>\n",
       "      <td>6.0</td>\n",
       "      <td>9.0</td>\n",
       "      <td>3.0</td>\n",
       "      <td>3</td>\n",
       "      <td>0</td>\n",
       "      <td>2</td>\n",
       "      <td>4</td>\n",
       "    </tr>\n",
       "    <tr>\n",
       "      <th>1</th>\n",
       "      <td>1771</td>\n",
       "      <td>1</td>\n",
       "      <td>4.0</td>\n",
       "      <td>13.0</td>\n",
       "      <td>NaN</td>\n",
       "      <td>NaN</td>\n",
       "      <td>NaN</td>\n",
       "      <td>NaN</td>\n",
       "      <td>13.0</td>\n",
       "      <td>1.0</td>\n",
       "      <td>...</td>\n",
       "      <td>1.0</td>\n",
       "      <td>2.0</td>\n",
       "      <td>1.0</td>\n",
       "      <td>4.0</td>\n",
       "      <td>9.0</td>\n",
       "      <td>7.0</td>\n",
       "      <td>1</td>\n",
       "      <td>0</td>\n",
       "      <td>2</td>\n",
       "      <td>3</td>\n",
       "    </tr>\n",
       "    <tr>\n",
       "      <th>2</th>\n",
       "      <td>1776</td>\n",
       "      <td>1</td>\n",
       "      <td>1.0</td>\n",
       "      <td>9.0</td>\n",
       "      <td>NaN</td>\n",
       "      <td>NaN</td>\n",
       "      <td>NaN</td>\n",
       "      <td>NaN</td>\n",
       "      <td>7.0</td>\n",
       "      <td>0.0</td>\n",
       "      <td>...</td>\n",
       "      <td>6.0</td>\n",
       "      <td>4.0</td>\n",
       "      <td>2.0</td>\n",
       "      <td>NaN</td>\n",
       "      <td>9.0</td>\n",
       "      <td>2.0</td>\n",
       "      <td>3</td>\n",
       "      <td>0</td>\n",
       "      <td>1</td>\n",
       "      <td>4</td>\n",
       "    </tr>\n",
       "    <tr>\n",
       "      <th>3</th>\n",
       "      <td>1460</td>\n",
       "      <td>2</td>\n",
       "      <td>1.0</td>\n",
       "      <td>6.0</td>\n",
       "      <td>NaN</td>\n",
       "      <td>NaN</td>\n",
       "      <td>NaN</td>\n",
       "      <td>NaN</td>\n",
       "      <td>6.0</td>\n",
       "      <td>4.0</td>\n",
       "      <td>...</td>\n",
       "      <td>8.0</td>\n",
       "      <td>11.0</td>\n",
       "      <td>11.0</td>\n",
       "      <td>6.0</td>\n",
       "      <td>9.0</td>\n",
       "      <td>1.0</td>\n",
       "      <td>3</td>\n",
       "      <td>0</td>\n",
       "      <td>2</td>\n",
       "      <td>4</td>\n",
       "    </tr>\n",
       "    <tr>\n",
       "      <th>4</th>\n",
       "      <td>1783</td>\n",
       "      <td>2</td>\n",
       "      <td>1.0</td>\n",
       "      <td>9.0</td>\n",
       "      <td>NaN</td>\n",
       "      <td>NaN</td>\n",
       "      <td>NaN</td>\n",
       "      <td>NaN</td>\n",
       "      <td>9.0</td>\n",
       "      <td>53.0</td>\n",
       "      <td>...</td>\n",
       "      <td>2.0</td>\n",
       "      <td>2.0</td>\n",
       "      <td>1.0</td>\n",
       "      <td>6.0</td>\n",
       "      <td>9.0</td>\n",
       "      <td>3.0</td>\n",
       "      <td>3</td>\n",
       "      <td>0</td>\n",
       "      <td>1</td>\n",
       "      <td>3</td>\n",
       "    </tr>\n",
       "  </tbody>\n",
       "</table>\n",
       "<p>5 rows × 367 columns</p>\n",
       "</div>"
      ],
      "text/plain": [
       "    LNR  AGER_TYP  AKT_DAT_KL  ALTER_HH  ALTER_KIND1  ALTER_KIND2  \\\n",
       "0  1763         2         1.0       8.0          NaN          NaN   \n",
       "1  1771         1         4.0      13.0          NaN          NaN   \n",
       "2  1776         1         1.0       9.0          NaN          NaN   \n",
       "3  1460         2         1.0       6.0          NaN          NaN   \n",
       "4  1783         2         1.0       9.0          NaN          NaN   \n",
       "\n",
       "   ALTER_KIND3  ALTER_KIND4  ALTERSKATEGORIE_FEIN  ANZ_HAUSHALTE_AKTIV  ...  \\\n",
       "0          NaN          NaN                   8.0                 15.0  ...   \n",
       "1          NaN          NaN                  13.0                  1.0  ...   \n",
       "2          NaN          NaN                   7.0                  0.0  ...   \n",
       "3          NaN          NaN                   6.0                  4.0  ...   \n",
       "4          NaN          NaN                   9.0                 53.0  ...   \n",
       "\n",
       "   VK_DHT4A  VK_DISTANZ  VK_ZG11  W_KEIT_KIND_HH  WOHNDAUER_2008  WOHNLAGE  \\\n",
       "0       5.0         2.0      1.0             6.0             9.0       3.0   \n",
       "1       1.0         2.0      1.0             4.0             9.0       7.0   \n",
       "2       6.0         4.0      2.0             NaN             9.0       2.0   \n",
       "3       8.0        11.0     11.0             6.0             9.0       1.0   \n",
       "4       2.0         2.0      1.0             6.0             9.0       3.0   \n",
       "\n",
       "   ZABEOTYP RESPONSE ANREDE_KZ ALTERSKATEGORIE_GROB  \n",
       "0         3        0         2                    4  \n",
       "1         1        0         2                    3  \n",
       "2         3        0         1                    4  \n",
       "3         3        0         2                    4  \n",
       "4         3        0         1                    3  \n",
       "\n",
       "[5 rows x 367 columns]"
      ]
     },
     "execution_count": 139,
     "metadata": {},
     "output_type": "execute_result"
    }
   ],
   "source": [
    "train_data.head()"
   ]
  },
  {
   "cell_type": "code",
   "execution_count": 140,
   "metadata": {
    "tags": []
   },
   "outputs": [
    {
     "name": "stdout",
     "output_type": "stream",
     "text": [
      "<class 'pandas.core.frame.DataFrame'>\n",
      "RangeIndex: 42962 entries, 0 to 42961\n",
      "Columns: 367 entries, LNR to ALTERSKATEGORIE_GROB\n",
      "dtypes: float64(267), int64(94), object(6)\n",
      "memory usage: 120.3+ MB\n"
     ]
    }
   ],
   "source": [
    "train_data.info()"
   ]
  },
  {
   "cell_type": "markdown",
   "metadata": {},
   "source": [
    "### Doing Simple Training\n",
    "To start for our first submission we're going to drop all the columns but the ones explored in the proposal section, this is simply to get a basic submission and baseline to compare against at the end of the project."
   ]
  },
  {
   "cell_type": "code",
   "execution_count": 141,
   "metadata": {
    "tags": []
   },
   "outputs": [
    {
     "data": {
      "text/html": [
       "<div>\n",
       "<style scoped>\n",
       "    .dataframe tbody tr th:only-of-type {\n",
       "        vertical-align: middle;\n",
       "    }\n",
       "\n",
       "    .dataframe tbody tr th {\n",
       "        vertical-align: top;\n",
       "    }\n",
       "\n",
       "    .dataframe thead th {\n",
       "        text-align: right;\n",
       "    }\n",
       "</style>\n",
       "<table border=\"1\" class=\"dataframe\">\n",
       "  <thead>\n",
       "    <tr style=\"text-align: right;\">\n",
       "      <th></th>\n",
       "      <th>LNR</th>\n",
       "      <th>RESPONSE</th>\n",
       "      <th>LP_LEBENSPHASE_FEIN</th>\n",
       "      <th>LP_LEBENSPHASE_GROB</th>\n",
       "      <th>LP_STATUS_FEIN</th>\n",
       "      <th>ANREDE_KZ</th>\n",
       "    </tr>\n",
       "  </thead>\n",
       "  <tbody>\n",
       "    <tr>\n",
       "      <th>count</th>\n",
       "      <td>42962.000000</td>\n",
       "      <td>42962.000000</td>\n",
       "      <td>42357.000000</td>\n",
       "      <td>42357.000000</td>\n",
       "      <td>42357.000000</td>\n",
       "      <td>42962.000000</td>\n",
       "    </tr>\n",
       "    <tr>\n",
       "      <th>mean</th>\n",
       "      <td>42803.120129</td>\n",
       "      <td>0.012383</td>\n",
       "      <td>17.661071</td>\n",
       "      <td>5.274996</td>\n",
       "      <td>5.927001</td>\n",
       "      <td>1.595084</td>\n",
       "    </tr>\n",
       "    <tr>\n",
       "      <th>std</th>\n",
       "      <td>24778.339984</td>\n",
       "      <td>0.110589</td>\n",
       "      <td>14.085702</td>\n",
       "      <td>4.470538</td>\n",
       "      <td>3.398336</td>\n",
       "      <td>0.490881</td>\n",
       "    </tr>\n",
       "    <tr>\n",
       "      <th>min</th>\n",
       "      <td>1.000000</td>\n",
       "      <td>0.000000</td>\n",
       "      <td>0.000000</td>\n",
       "      <td>0.000000</td>\n",
       "      <td>1.000000</td>\n",
       "      <td>1.000000</td>\n",
       "    </tr>\n",
       "    <tr>\n",
       "      <th>25%</th>\n",
       "      <td>21284.250000</td>\n",
       "      <td>0.000000</td>\n",
       "      <td>6.000000</td>\n",
       "      <td>2.000000</td>\n",
       "      <td>3.000000</td>\n",
       "      <td>1.000000</td>\n",
       "    </tr>\n",
       "    <tr>\n",
       "      <th>50%</th>\n",
       "      <td>42710.000000</td>\n",
       "      <td>0.000000</td>\n",
       "      <td>15.000000</td>\n",
       "      <td>4.000000</td>\n",
       "      <td>5.000000</td>\n",
       "      <td>2.000000</td>\n",
       "    </tr>\n",
       "    <tr>\n",
       "      <th>75%</th>\n",
       "      <td>64340.500000</td>\n",
       "      <td>0.000000</td>\n",
       "      <td>32.000000</td>\n",
       "      <td>10.000000</td>\n",
       "      <td>9.000000</td>\n",
       "      <td>2.000000</td>\n",
       "    </tr>\n",
       "    <tr>\n",
       "      <th>max</th>\n",
       "      <td>85795.000000</td>\n",
       "      <td>1.000000</td>\n",
       "      <td>40.000000</td>\n",
       "      <td>12.000000</td>\n",
       "      <td>10.000000</td>\n",
       "      <td>2.000000</td>\n",
       "    </tr>\n",
       "  </tbody>\n",
       "</table>\n",
       "</div>"
      ],
      "text/plain": [
       "                LNR      RESPONSE  LP_LEBENSPHASE_FEIN  LP_LEBENSPHASE_GROB  \\\n",
       "count  42962.000000  42962.000000         42357.000000         42357.000000   \n",
       "mean   42803.120129      0.012383            17.661071             5.274996   \n",
       "std    24778.339984      0.110589            14.085702             4.470538   \n",
       "min        1.000000      0.000000             0.000000             0.000000   \n",
       "25%    21284.250000      0.000000             6.000000             2.000000   \n",
       "50%    42710.000000      0.000000            15.000000             4.000000   \n",
       "75%    64340.500000      0.000000            32.000000            10.000000   \n",
       "max    85795.000000      1.000000            40.000000            12.000000   \n",
       "\n",
       "       LP_STATUS_FEIN     ANREDE_KZ  \n",
       "count    42357.000000  42962.000000  \n",
       "mean         5.927001      1.595084  \n",
       "std          3.398336      0.490881  \n",
       "min          1.000000      1.000000  \n",
       "25%          3.000000      1.000000  \n",
       "50%          5.000000      2.000000  \n",
       "75%          9.000000      2.000000  \n",
       "max         10.000000      2.000000  "
      ]
     },
     "execution_count": 141,
     "metadata": {},
     "output_type": "execute_result"
    }
   ],
   "source": [
    "train_data[['LNR', 'RESPONSE', 'LP_LEBENSPHASE_FEIN', 'LP_LEBENSPHASE_GROB', 'LP_STATUS_FEIN', 'ANREDE_KZ']].describe()"
   ]
  },
  {
   "cell_type": "code",
   "execution_count": 142,
   "metadata": {
    "tags": []
   },
   "outputs": [],
   "source": [
    "selected_columns = ['LNR', 'RESPONSE', 'LP_LEBENSPHASE_FEIN', 'LP_LEBENSPHASE_GROB', 'LP_STATUS_FEIN', 'ANREDE_KZ']\n",
    "init_train = train_data[selected_columns]"
   ]
  },
  {
   "cell_type": "code",
   "execution_count": 143,
   "metadata": {
    "tags": []
   },
   "outputs": [
    {
     "data": {
      "text/html": [
       "<div>\n",
       "<style scoped>\n",
       "    .dataframe tbody tr th:only-of-type {\n",
       "        vertical-align: middle;\n",
       "    }\n",
       "\n",
       "    .dataframe tbody tr th {\n",
       "        vertical-align: top;\n",
       "    }\n",
       "\n",
       "    .dataframe thead th {\n",
       "        text-align: right;\n",
       "    }\n",
       "</style>\n",
       "<table border=\"1\" class=\"dataframe\">\n",
       "  <thead>\n",
       "    <tr style=\"text-align: right;\">\n",
       "      <th></th>\n",
       "      <th>LNR</th>\n",
       "      <th>RESPONSE</th>\n",
       "      <th>LP_LEBENSPHASE_FEIN</th>\n",
       "      <th>LP_LEBENSPHASE_GROB</th>\n",
       "      <th>LP_STATUS_FEIN</th>\n",
       "      <th>ANREDE_KZ</th>\n",
       "    </tr>\n",
       "  </thead>\n",
       "  <tbody>\n",
       "    <tr>\n",
       "      <th>0</th>\n",
       "      <td>1763</td>\n",
       "      <td>0</td>\n",
       "      <td>8.0</td>\n",
       "      <td>2.0</td>\n",
       "      <td>3.0</td>\n",
       "      <td>2</td>\n",
       "    </tr>\n",
       "    <tr>\n",
       "      <th>1</th>\n",
       "      <td>1771</td>\n",
       "      <td>0</td>\n",
       "      <td>19.0</td>\n",
       "      <td>5.0</td>\n",
       "      <td>9.0</td>\n",
       "      <td>2</td>\n",
       "    </tr>\n",
       "    <tr>\n",
       "      <th>2</th>\n",
       "      <td>1776</td>\n",
       "      <td>0</td>\n",
       "      <td>0.0</td>\n",
       "      <td>0.0</td>\n",
       "      <td>10.0</td>\n",
       "      <td>1</td>\n",
       "    </tr>\n",
       "    <tr>\n",
       "      <th>3</th>\n",
       "      <td>1460</td>\n",
       "      <td>0</td>\n",
       "      <td>16.0</td>\n",
       "      <td>4.0</td>\n",
       "      <td>3.0</td>\n",
       "      <td>2</td>\n",
       "    </tr>\n",
       "    <tr>\n",
       "      <th>4</th>\n",
       "      <td>1783</td>\n",
       "      <td>0</td>\n",
       "      <td>9.0</td>\n",
       "      <td>3.0</td>\n",
       "      <td>6.0</td>\n",
       "      <td>1</td>\n",
       "    </tr>\n",
       "  </tbody>\n",
       "</table>\n",
       "</div>"
      ],
      "text/plain": [
       "    LNR  RESPONSE  LP_LEBENSPHASE_FEIN  LP_LEBENSPHASE_GROB  LP_STATUS_FEIN  \\\n",
       "0  1763         0                  8.0                  2.0             3.0   \n",
       "1  1771         0                 19.0                  5.0             9.0   \n",
       "2  1776         0                  0.0                  0.0            10.0   \n",
       "3  1460         0                 16.0                  4.0             3.0   \n",
       "4  1783         0                  9.0                  3.0             6.0   \n",
       "\n",
       "   ANREDE_KZ  \n",
       "0          2  \n",
       "1          2  \n",
       "2          1  \n",
       "3          2  \n",
       "4          1  "
      ]
     },
     "execution_count": 143,
     "metadata": {},
     "output_type": "execute_result"
    }
   ],
   "source": [
    "init_train.head()"
   ]
  },
  {
   "cell_type": "code",
   "execution_count": 144,
   "metadata": {
    "tags": []
   },
   "outputs": [
    {
     "name": "stdout",
     "output_type": "stream",
     "text": [
      "<class 'pandas.core.frame.DataFrame'>\n",
      "RangeIndex: 42962 entries, 0 to 42961\n",
      "Data columns (total 6 columns):\n",
      " #   Column               Non-Null Count  Dtype  \n",
      "---  ------               --------------  -----  \n",
      " 0   LNR                  42962 non-null  int64  \n",
      " 1   RESPONSE             42962 non-null  int64  \n",
      " 2   LP_LEBENSPHASE_FEIN  42357 non-null  float64\n",
      " 3   LP_LEBENSPHASE_GROB  42357 non-null  float64\n",
      " 4   LP_STATUS_FEIN       42357 non-null  float64\n",
      " 5   ANREDE_KZ            42962 non-null  int64  \n",
      "dtypes: float64(3), int64(3)\n",
      "memory usage: 2.0 MB\n"
     ]
    }
   ],
   "source": [
    "init_train.info()"
   ]
  },
  {
   "cell_type": "code",
   "execution_count": 145,
   "metadata": {
    "tags": []
   },
   "outputs": [],
   "source": [
    "features = ['LP_LEBENSPHASE_FEIN', 'LP_LEBENSPHASE_GROB', 'LP_STATUS_FEIN', 'ANREDE_KZ']\n",
    "init_train = init_train.dropna(subset=features).copy()"
   ]
  },
  {
   "cell_type": "code",
   "execution_count": 146,
   "metadata": {
    "tags": []
   },
   "outputs": [
    {
     "name": "stdout",
     "output_type": "stream",
     "text": [
      "<class 'pandas.core.frame.DataFrame'>\n",
      "Index: 42357 entries, 0 to 42961\n",
      "Data columns (total 6 columns):\n",
      " #   Column               Non-Null Count  Dtype  \n",
      "---  ------               --------------  -----  \n",
      " 0   LNR                  42357 non-null  int64  \n",
      " 1   RESPONSE             42357 non-null  int64  \n",
      " 2   LP_LEBENSPHASE_FEIN  42357 non-null  float64\n",
      " 3   LP_LEBENSPHASE_GROB  42357 non-null  float64\n",
      " 4   LP_STATUS_FEIN       42357 non-null  float64\n",
      " 5   ANREDE_KZ            42357 non-null  int64  \n",
      "dtypes: float64(3), int64(3)\n",
      "memory usage: 2.3 MB\n"
     ]
    }
   ],
   "source": [
    "init_train.info()"
   ]
  },
  {
   "cell_type": "code",
   "execution_count": 147,
   "metadata": {
    "tags": []
   },
   "outputs": [],
   "source": [
    "# Normalize key values\n",
    "from sklearn.preprocessing import StandardScaler\n",
    "\n",
    "scaler = StandardScaler()\n",
    "columns_to_normalize = ['LP_LEBENSPHASE_FEIN', 'LP_LEBENSPHASE_GROB', 'LP_STATUS_FEIN']\n",
    "init_train[columns_to_normalize] = scaler.fit_transform(init_train[columns_to_normalize])\n"
   ]
  },
  {
   "cell_type": "code",
   "execution_count": 148,
   "metadata": {
    "tags": []
   },
   "outputs": [
    {
     "data": {
      "text/html": [
       "<div>\n",
       "<style scoped>\n",
       "    .dataframe tbody tr th:only-of-type {\n",
       "        vertical-align: middle;\n",
       "    }\n",
       "\n",
       "    .dataframe tbody tr th {\n",
       "        vertical-align: top;\n",
       "    }\n",
       "\n",
       "    .dataframe thead th {\n",
       "        text-align: right;\n",
       "    }\n",
       "</style>\n",
       "<table border=\"1\" class=\"dataframe\">\n",
       "  <thead>\n",
       "    <tr style=\"text-align: right;\">\n",
       "      <th></th>\n",
       "      <th>LNR</th>\n",
       "      <th>RESPONSE</th>\n",
       "      <th>LP_LEBENSPHASE_FEIN</th>\n",
       "      <th>LP_LEBENSPHASE_GROB</th>\n",
       "      <th>LP_STATUS_FEIN</th>\n",
       "      <th>ANREDE_KZ</th>\n",
       "    </tr>\n",
       "  </thead>\n",
       "  <tbody>\n",
       "    <tr>\n",
       "      <th>count</th>\n",
       "      <td>42357.000000</td>\n",
       "      <td>42357.000000</td>\n",
       "      <td>4.235700e+04</td>\n",
       "      <td>4.235700e+04</td>\n",
       "      <td>4.235700e+04</td>\n",
       "      <td>42357.000000</td>\n",
       "    </tr>\n",
       "    <tr>\n",
       "      <th>mean</th>\n",
       "      <td>42801.576764</td>\n",
       "      <td>0.012442</td>\n",
       "      <td>-1.087026e-16</td>\n",
       "      <td>6.106135e-17</td>\n",
       "      <td>4.579601e-17</td>\n",
       "      <td>1.595510</td>\n",
       "    </tr>\n",
       "    <tr>\n",
       "      <th>std</th>\n",
       "      <td>24780.834820</td>\n",
       "      <td>0.110848</td>\n",
       "      <td>1.000012e+00</td>\n",
       "      <td>1.000012e+00</td>\n",
       "      <td>1.000012e+00</td>\n",
       "      <td>0.490799</td>\n",
       "    </tr>\n",
       "    <tr>\n",
       "      <th>min</th>\n",
       "      <td>1.000000</td>\n",
       "      <td>0.000000</td>\n",
       "      <td>-1.253845e+00</td>\n",
       "      <td>-1.179960e+00</td>\n",
       "      <td>-1.449845e+00</td>\n",
       "      <td>1.000000</td>\n",
       "    </tr>\n",
       "    <tr>\n",
       "      <th>25%</th>\n",
       "      <td>21275.000000</td>\n",
       "      <td>0.000000</td>\n",
       "      <td>-8.278756e-01</td>\n",
       "      <td>-7.325817e-01</td>\n",
       "      <td>-8.613144e-01</td>\n",
       "      <td>1.000000</td>\n",
       "    </tr>\n",
       "    <tr>\n",
       "      <th>50%</th>\n",
       "      <td>42709.000000</td>\n",
       "      <td>0.000000</td>\n",
       "      <td>-1.889223e-01</td>\n",
       "      <td>-2.852030e-01</td>\n",
       "      <td>-2.727842e-01</td>\n",
       "      <td>2.000000</td>\n",
       "    </tr>\n",
       "    <tr>\n",
       "      <th>75%</th>\n",
       "      <td>64347.000000</td>\n",
       "      <td>0.000000</td>\n",
       "      <td>1.017990e+00</td>\n",
       "      <td>1.056933e+00</td>\n",
       "      <td>9.042763e-01</td>\n",
       "      <td>2.000000</td>\n",
       "    </tr>\n",
       "    <tr>\n",
       "      <th>max</th>\n",
       "      <td>85795.000000</td>\n",
       "      <td>1.000000</td>\n",
       "      <td>1.585948e+00</td>\n",
       "      <td>1.504312e+00</td>\n",
       "      <td>1.198541e+00</td>\n",
       "      <td>2.000000</td>\n",
       "    </tr>\n",
       "  </tbody>\n",
       "</table>\n",
       "</div>"
      ],
      "text/plain": [
       "                LNR      RESPONSE  LP_LEBENSPHASE_FEIN  LP_LEBENSPHASE_GROB  \\\n",
       "count  42357.000000  42357.000000         4.235700e+04         4.235700e+04   \n",
       "mean   42801.576764      0.012442        -1.087026e-16         6.106135e-17   \n",
       "std    24780.834820      0.110848         1.000012e+00         1.000012e+00   \n",
       "min        1.000000      0.000000        -1.253845e+00        -1.179960e+00   \n",
       "25%    21275.000000      0.000000        -8.278756e-01        -7.325817e-01   \n",
       "50%    42709.000000      0.000000        -1.889223e-01        -2.852030e-01   \n",
       "75%    64347.000000      0.000000         1.017990e+00         1.056933e+00   \n",
       "max    85795.000000      1.000000         1.585948e+00         1.504312e+00   \n",
       "\n",
       "       LP_STATUS_FEIN     ANREDE_KZ  \n",
       "count    4.235700e+04  42357.000000  \n",
       "mean     4.579601e-17      1.595510  \n",
       "std      1.000012e+00      0.490799  \n",
       "min     -1.449845e+00      1.000000  \n",
       "25%     -8.613144e-01      1.000000  \n",
       "50%     -2.727842e-01      2.000000  \n",
       "75%      9.042763e-01      2.000000  \n",
       "max      1.198541e+00      2.000000  "
      ]
     },
     "execution_count": 148,
     "metadata": {},
     "output_type": "execute_result"
    }
   ],
   "source": [
    "init_train.describe()"
   ]
  },
  {
   "cell_type": "code",
   "execution_count": 149,
   "metadata": {
    "tags": []
   },
   "outputs": [],
   "source": [
    "#categorize sex\n",
    "init_train['ANREDE_KZ'] = init_train['ANREDE_KZ'].map({1: 'Male', 2: 'Female'}).astype('category')"
   ]
  },
  {
   "cell_type": "code",
   "execution_count": 150,
   "metadata": {
    "tags": []
   },
   "outputs": [
    {
     "name": "stdout",
     "output_type": "stream",
     "text": [
      "<class 'pandas.core.frame.DataFrame'>\n",
      "Index: 42357 entries, 0 to 42961\n",
      "Data columns (total 6 columns):\n",
      " #   Column               Non-Null Count  Dtype   \n",
      "---  ------               --------------  -----   \n",
      " 0   LNR                  42357 non-null  int64   \n",
      " 1   RESPONSE             42357 non-null  int64   \n",
      " 2   LP_LEBENSPHASE_FEIN  42357 non-null  float64 \n",
      " 3   LP_LEBENSPHASE_GROB  42357 non-null  float64 \n",
      " 4   LP_STATUS_FEIN       42357 non-null  float64 \n",
      " 5   ANREDE_KZ            42357 non-null  category\n",
      "dtypes: category(1), float64(3), int64(2)\n",
      "memory usage: 2.0 MB\n"
     ]
    }
   ],
   "source": [
    "init_train.info()"
   ]
  },
  {
   "cell_type": "code",
   "execution_count": 151,
   "metadata": {
    "tags": []
   },
   "outputs": [
    {
     "data": {
      "text/html": [
       "<div>\n",
       "<style scoped>\n",
       "    .dataframe tbody tr th:only-of-type {\n",
       "        vertical-align: middle;\n",
       "    }\n",
       "\n",
       "    .dataframe tbody tr th {\n",
       "        vertical-align: top;\n",
       "    }\n",
       "\n",
       "    .dataframe thead th {\n",
       "        text-align: right;\n",
       "    }\n",
       "</style>\n",
       "<table border=\"1\" class=\"dataframe\">\n",
       "  <thead>\n",
       "    <tr style=\"text-align: right;\">\n",
       "      <th></th>\n",
       "      <th>LNR</th>\n",
       "      <th>RESPONSE</th>\n",
       "      <th>LP_LEBENSPHASE_FEIN</th>\n",
       "      <th>LP_LEBENSPHASE_GROB</th>\n",
       "      <th>LP_STATUS_FEIN</th>\n",
       "      <th>ANREDE_KZ</th>\n",
       "    </tr>\n",
       "  </thead>\n",
       "  <tbody>\n",
       "    <tr>\n",
       "      <th>0</th>\n",
       "      <td>1763</td>\n",
       "      <td>0</td>\n",
       "      <td>-0.685886</td>\n",
       "      <td>-0.732582</td>\n",
       "      <td>-0.861314</td>\n",
       "      <td>Female</td>\n",
       "    </tr>\n",
       "    <tr>\n",
       "      <th>1</th>\n",
       "      <td>1771</td>\n",
       "      <td>0</td>\n",
       "      <td>0.095057</td>\n",
       "      <td>-0.061514</td>\n",
       "      <td>0.904276</td>\n",
       "      <td>Female</td>\n",
       "    </tr>\n",
       "    <tr>\n",
       "      <th>2</th>\n",
       "      <td>1776</td>\n",
       "      <td>0</td>\n",
       "      <td>-1.253845</td>\n",
       "      <td>-1.179960</td>\n",
       "      <td>1.198541</td>\n",
       "      <td>Male</td>\n",
       "    </tr>\n",
       "    <tr>\n",
       "      <th>3</th>\n",
       "      <td>1460</td>\n",
       "      <td>0</td>\n",
       "      <td>-0.117927</td>\n",
       "      <td>-0.285203</td>\n",
       "      <td>-0.861314</td>\n",
       "      <td>Female</td>\n",
       "    </tr>\n",
       "    <tr>\n",
       "      <th>4</th>\n",
       "      <td>1783</td>\n",
       "      <td>0</td>\n",
       "      <td>-0.614891</td>\n",
       "      <td>-0.508892</td>\n",
       "      <td>0.021481</td>\n",
       "      <td>Male</td>\n",
       "    </tr>\n",
       "  </tbody>\n",
       "</table>\n",
       "</div>"
      ],
      "text/plain": [
       "    LNR  RESPONSE  LP_LEBENSPHASE_FEIN  LP_LEBENSPHASE_GROB  LP_STATUS_FEIN  \\\n",
       "0  1763         0            -0.685886            -0.732582       -0.861314   \n",
       "1  1771         0             0.095057            -0.061514        0.904276   \n",
       "2  1776         0            -1.253845            -1.179960        1.198541   \n",
       "3  1460         0            -0.117927            -0.285203       -0.861314   \n",
       "4  1783         0            -0.614891            -0.508892        0.021481   \n",
       "\n",
       "  ANREDE_KZ  \n",
       "0    Female  \n",
       "1    Female  \n",
       "2      Male  \n",
       "3    Female  \n",
       "4      Male  "
      ]
     },
     "execution_count": 151,
     "metadata": {},
     "output_type": "execute_result"
    }
   ],
   "source": [
    "init_train.head()"
   ]
  },
  {
   "cell_type": "code",
   "execution_count": 152,
   "metadata": {
    "tags": []
   },
   "outputs": [
    {
     "name": "stdout",
     "output_type": "stream",
     "text": [
      "<class 'pandas.core.frame.DataFrame'>\n",
      "Index: 42357 entries, 0 to 42961\n",
      "Data columns (total 6 columns):\n",
      " #   Column               Non-Null Count  Dtype   \n",
      "---  ------               --------------  -----   \n",
      " 0   LNR                  42357 non-null  int64   \n",
      " 1   RESPONSE             42357 non-null  category\n",
      " 2   LP_LEBENSPHASE_FEIN  42357 non-null  float64 \n",
      " 3   LP_LEBENSPHASE_GROB  42357 non-null  float64 \n",
      " 4   LP_STATUS_FEIN       42357 non-null  float64 \n",
      " 5   ANREDE_KZ            42357 non-null  category\n",
      "dtypes: category(2), float64(3), int64(1)\n",
      "memory usage: 1.7 MB\n"
     ]
    }
   ],
   "source": [
    "init_train['RESPONSE'] = init_train['RESPONSE'].map({0: 'NOPURCHASE', 1: 'PURCHASE'}).astype('category')\n",
    "init_train.info()"
   ]
  },
  {
   "cell_type": "code",
   "execution_count": 153,
   "metadata": {
    "tags": []
   },
   "outputs": [
    {
     "data": {
      "text/html": [
       "<div>\n",
       "<style scoped>\n",
       "    .dataframe tbody tr th:only-of-type {\n",
       "        vertical-align: middle;\n",
       "    }\n",
       "\n",
       "    .dataframe tbody tr th {\n",
       "        vertical-align: top;\n",
       "    }\n",
       "\n",
       "    .dataframe thead th {\n",
       "        text-align: right;\n",
       "    }\n",
       "</style>\n",
       "<table border=\"1\" class=\"dataframe\">\n",
       "  <thead>\n",
       "    <tr style=\"text-align: right;\">\n",
       "      <th></th>\n",
       "      <th>LNR</th>\n",
       "      <th>RESPONSE</th>\n",
       "      <th>LP_LEBENSPHASE_FEIN</th>\n",
       "      <th>LP_LEBENSPHASE_GROB</th>\n",
       "      <th>LP_STATUS_FEIN</th>\n",
       "      <th>ANREDE_KZ</th>\n",
       "    </tr>\n",
       "  </thead>\n",
       "  <tbody>\n",
       "    <tr>\n",
       "      <th>0</th>\n",
       "      <td>1763</td>\n",
       "      <td>NOPURCHASE</td>\n",
       "      <td>-0.685886</td>\n",
       "      <td>-0.732582</td>\n",
       "      <td>-0.861314</td>\n",
       "      <td>Female</td>\n",
       "    </tr>\n",
       "    <tr>\n",
       "      <th>1</th>\n",
       "      <td>1771</td>\n",
       "      <td>NOPURCHASE</td>\n",
       "      <td>0.095057</td>\n",
       "      <td>-0.061514</td>\n",
       "      <td>0.904276</td>\n",
       "      <td>Female</td>\n",
       "    </tr>\n",
       "    <tr>\n",
       "      <th>2</th>\n",
       "      <td>1776</td>\n",
       "      <td>NOPURCHASE</td>\n",
       "      <td>-1.253845</td>\n",
       "      <td>-1.179960</td>\n",
       "      <td>1.198541</td>\n",
       "      <td>Male</td>\n",
       "    </tr>\n",
       "    <tr>\n",
       "      <th>3</th>\n",
       "      <td>1460</td>\n",
       "      <td>NOPURCHASE</td>\n",
       "      <td>-0.117927</td>\n",
       "      <td>-0.285203</td>\n",
       "      <td>-0.861314</td>\n",
       "      <td>Female</td>\n",
       "    </tr>\n",
       "    <tr>\n",
       "      <th>4</th>\n",
       "      <td>1783</td>\n",
       "      <td>NOPURCHASE</td>\n",
       "      <td>-0.614891</td>\n",
       "      <td>-0.508892</td>\n",
       "      <td>0.021481</td>\n",
       "      <td>Male</td>\n",
       "    </tr>\n",
       "  </tbody>\n",
       "</table>\n",
       "</div>"
      ],
      "text/plain": [
       "    LNR    RESPONSE  LP_LEBENSPHASE_FEIN  LP_LEBENSPHASE_GROB  LP_STATUS_FEIN  \\\n",
       "0  1763  NOPURCHASE            -0.685886            -0.732582       -0.861314   \n",
       "1  1771  NOPURCHASE             0.095057            -0.061514        0.904276   \n",
       "2  1776  NOPURCHASE            -1.253845            -1.179960        1.198541   \n",
       "3  1460  NOPURCHASE            -0.117927            -0.285203       -0.861314   \n",
       "4  1783  NOPURCHASE            -0.614891            -0.508892        0.021481   \n",
       "\n",
       "  ANREDE_KZ  \n",
       "0    Female  \n",
       "1    Female  \n",
       "2      Male  \n",
       "3    Female  \n",
       "4      Male  "
      ]
     },
     "execution_count": 153,
     "metadata": {},
     "output_type": "execute_result"
    }
   ],
   "source": [
    "init_train.head()"
   ]
  },
  {
   "cell_type": "code",
   "execution_count": 154,
   "metadata": {
    "tags": []
   },
   "outputs": [
    {
     "data": {
      "text/html": [
       "<div>\n",
       "<style scoped>\n",
       "    .dataframe tbody tr th:only-of-type {\n",
       "        vertical-align: middle;\n",
       "    }\n",
       "\n",
       "    .dataframe tbody tr th {\n",
       "        vertical-align: top;\n",
       "    }\n",
       "\n",
       "    .dataframe thead th {\n",
       "        text-align: right;\n",
       "    }\n",
       "</style>\n",
       "<table border=\"1\" class=\"dataframe\">\n",
       "  <thead>\n",
       "    <tr style=\"text-align: right;\">\n",
       "      <th></th>\n",
       "      <th>LNR</th>\n",
       "      <th>RESPONSE</th>\n",
       "      <th>LP_LEBENSPHASE_FEIN</th>\n",
       "      <th>LP_LEBENSPHASE_GROB</th>\n",
       "      <th>LP_STATUS_FEIN</th>\n",
       "      <th>ANREDE_KZ</th>\n",
       "    </tr>\n",
       "  </thead>\n",
       "  <tbody>\n",
       "    <tr>\n",
       "      <th>90</th>\n",
       "      <td>21511</td>\n",
       "      <td>PURCHASE</td>\n",
       "      <td>1.585948</td>\n",
       "      <td>1.504312</td>\n",
       "      <td>1.198541</td>\n",
       "      <td>Female</td>\n",
       "    </tr>\n",
       "    <tr>\n",
       "      <th>129</th>\n",
       "      <td>61905</td>\n",
       "      <td>PURCHASE</td>\n",
       "      <td>-0.614891</td>\n",
       "      <td>-0.508892</td>\n",
       "      <td>0.315746</td>\n",
       "      <td>Male</td>\n",
       "    </tr>\n",
       "    <tr>\n",
       "      <th>173</th>\n",
       "      <td>15467</td>\n",
       "      <td>PURCHASE</td>\n",
       "      <td>1.514953</td>\n",
       "      <td>1.504312</td>\n",
       "      <td>1.198541</td>\n",
       "      <td>Male</td>\n",
       "    </tr>\n",
       "    <tr>\n",
       "      <th>205</th>\n",
       "      <td>25211</td>\n",
       "      <td>PURCHASE</td>\n",
       "      <td>-0.117927</td>\n",
       "      <td>-0.285203</td>\n",
       "      <td>-0.861314</td>\n",
       "      <td>Male</td>\n",
       "    </tr>\n",
       "    <tr>\n",
       "      <th>248</th>\n",
       "      <td>83461</td>\n",
       "      <td>PURCHASE</td>\n",
       "      <td>0.166052</td>\n",
       "      <td>-0.061514</td>\n",
       "      <td>1.198541</td>\n",
       "      <td>Male</td>\n",
       "    </tr>\n",
       "  </tbody>\n",
       "</table>\n",
       "</div>"
      ],
      "text/plain": [
       "       LNR  RESPONSE  LP_LEBENSPHASE_FEIN  LP_LEBENSPHASE_GROB  \\\n",
       "90   21511  PURCHASE             1.585948             1.504312   \n",
       "129  61905  PURCHASE            -0.614891            -0.508892   \n",
       "173  15467  PURCHASE             1.514953             1.504312   \n",
       "205  25211  PURCHASE            -0.117927            -0.285203   \n",
       "248  83461  PURCHASE             0.166052            -0.061514   \n",
       "\n",
       "     LP_STATUS_FEIN ANREDE_KZ  \n",
       "90         1.198541    Female  \n",
       "129        0.315746      Male  \n",
       "173        1.198541      Male  \n",
       "205       -0.861314      Male  \n",
       "248        1.198541      Male  "
      ]
     },
     "execution_count": 154,
     "metadata": {},
     "output_type": "execute_result"
    }
   ],
   "source": [
    "#Get Buyers\n",
    "purchase_records = init_train[init_train['RESPONSE'] == 'PURCHASE']\n",
    "purchase_records.head()"
   ]
  },
  {
   "cell_type": "code",
   "execution_count": 155,
   "metadata": {
    "tags": []
   },
   "outputs": [],
   "source": [
    "init_train['RECORD_WEIGHT'] = np.where(init_train.index.isin(purchase_records.index), 100, 1)"
   ]
  },
  {
   "cell_type": "code",
   "execution_count": 156,
   "metadata": {
    "tags": []
   },
   "outputs": [
    {
     "data": {
      "text/html": [
       "<div>\n",
       "<style scoped>\n",
       "    .dataframe tbody tr th:only-of-type {\n",
       "        vertical-align: middle;\n",
       "    }\n",
       "\n",
       "    .dataframe tbody tr th {\n",
       "        vertical-align: top;\n",
       "    }\n",
       "\n",
       "    .dataframe thead th {\n",
       "        text-align: right;\n",
       "    }\n",
       "</style>\n",
       "<table border=\"1\" class=\"dataframe\">\n",
       "  <thead>\n",
       "    <tr style=\"text-align: right;\">\n",
       "      <th></th>\n",
       "      <th>LNR</th>\n",
       "      <th>LP_LEBENSPHASE_FEIN</th>\n",
       "      <th>LP_LEBENSPHASE_GROB</th>\n",
       "      <th>LP_STATUS_FEIN</th>\n",
       "      <th>RECORD_WEIGHT</th>\n",
       "    </tr>\n",
       "  </thead>\n",
       "  <tbody>\n",
       "    <tr>\n",
       "      <th>count</th>\n",
       "      <td>42357.000000</td>\n",
       "      <td>4.235700e+04</td>\n",
       "      <td>4.235700e+04</td>\n",
       "      <td>4.235700e+04</td>\n",
       "      <td>42357.000000</td>\n",
       "    </tr>\n",
       "    <tr>\n",
       "      <th>mean</th>\n",
       "      <td>42801.576764</td>\n",
       "      <td>-1.087026e-16</td>\n",
       "      <td>6.106135e-17</td>\n",
       "      <td>4.579601e-17</td>\n",
       "      <td>2.231744</td>\n",
       "    </tr>\n",
       "    <tr>\n",
       "      <th>std</th>\n",
       "      <td>24780.834820</td>\n",
       "      <td>1.000012e+00</td>\n",
       "      <td>1.000012e+00</td>\n",
       "      <td>1.000012e+00</td>\n",
       "      <td>10.973985</td>\n",
       "    </tr>\n",
       "    <tr>\n",
       "      <th>min</th>\n",
       "      <td>1.000000</td>\n",
       "      <td>-1.253845e+00</td>\n",
       "      <td>-1.179960e+00</td>\n",
       "      <td>-1.449845e+00</td>\n",
       "      <td>1.000000</td>\n",
       "    </tr>\n",
       "    <tr>\n",
       "      <th>25%</th>\n",
       "      <td>21275.000000</td>\n",
       "      <td>-8.278756e-01</td>\n",
       "      <td>-7.325817e-01</td>\n",
       "      <td>-8.613144e-01</td>\n",
       "      <td>1.000000</td>\n",
       "    </tr>\n",
       "    <tr>\n",
       "      <th>50%</th>\n",
       "      <td>42709.000000</td>\n",
       "      <td>-1.889223e-01</td>\n",
       "      <td>-2.852030e-01</td>\n",
       "      <td>-2.727842e-01</td>\n",
       "      <td>1.000000</td>\n",
       "    </tr>\n",
       "    <tr>\n",
       "      <th>75%</th>\n",
       "      <td>64347.000000</td>\n",
       "      <td>1.017990e+00</td>\n",
       "      <td>1.056933e+00</td>\n",
       "      <td>9.042763e-01</td>\n",
       "      <td>1.000000</td>\n",
       "    </tr>\n",
       "    <tr>\n",
       "      <th>max</th>\n",
       "      <td>85795.000000</td>\n",
       "      <td>1.585948e+00</td>\n",
       "      <td>1.504312e+00</td>\n",
       "      <td>1.198541e+00</td>\n",
       "      <td>100.000000</td>\n",
       "    </tr>\n",
       "  </tbody>\n",
       "</table>\n",
       "</div>"
      ],
      "text/plain": [
       "                LNR  LP_LEBENSPHASE_FEIN  LP_LEBENSPHASE_GROB  LP_STATUS_FEIN  \\\n",
       "count  42357.000000         4.235700e+04         4.235700e+04    4.235700e+04   \n",
       "mean   42801.576764        -1.087026e-16         6.106135e-17    4.579601e-17   \n",
       "std    24780.834820         1.000012e+00         1.000012e+00    1.000012e+00   \n",
       "min        1.000000        -1.253845e+00        -1.179960e+00   -1.449845e+00   \n",
       "25%    21275.000000        -8.278756e-01        -7.325817e-01   -8.613144e-01   \n",
       "50%    42709.000000        -1.889223e-01        -2.852030e-01   -2.727842e-01   \n",
       "75%    64347.000000         1.017990e+00         1.056933e+00    9.042763e-01   \n",
       "max    85795.000000         1.585948e+00         1.504312e+00    1.198541e+00   \n",
       "\n",
       "       RECORD_WEIGHT  \n",
       "count   42357.000000  \n",
       "mean        2.231744  \n",
       "std        10.973985  \n",
       "min         1.000000  \n",
       "25%         1.000000  \n",
       "50%         1.000000  \n",
       "75%         1.000000  \n",
       "max       100.000000  "
      ]
     },
     "execution_count": 156,
     "metadata": {},
     "output_type": "execute_result"
    }
   ],
   "source": [
    "init_train.describe()"
   ]
  },
  {
   "cell_type": "code",
   "execution_count": 157,
   "metadata": {
    "tags": []
   },
   "outputs": [
    {
     "data": {
      "text/html": [
       "<div>\n",
       "<style scoped>\n",
       "    .dataframe tbody tr th:only-of-type {\n",
       "        vertical-align: middle;\n",
       "    }\n",
       "\n",
       "    .dataframe tbody tr th {\n",
       "        vertical-align: top;\n",
       "    }\n",
       "\n",
       "    .dataframe thead th {\n",
       "        text-align: right;\n",
       "    }\n",
       "</style>\n",
       "<table border=\"1\" class=\"dataframe\">\n",
       "  <thead>\n",
       "    <tr style=\"text-align: right;\">\n",
       "      <th></th>\n",
       "      <th>LNR</th>\n",
       "      <th>RESPONSE</th>\n",
       "      <th>LP_LEBENSPHASE_FEIN</th>\n",
       "      <th>LP_LEBENSPHASE_GROB</th>\n",
       "      <th>LP_STATUS_FEIN</th>\n",
       "      <th>ANREDE_KZ</th>\n",
       "      <th>RECORD_WEIGHT</th>\n",
       "    </tr>\n",
       "  </thead>\n",
       "  <tbody>\n",
       "    <tr>\n",
       "      <th>0</th>\n",
       "      <td>1763</td>\n",
       "      <td>NOPURCHASE</td>\n",
       "      <td>-0.685886</td>\n",
       "      <td>-0.732582</td>\n",
       "      <td>-0.861314</td>\n",
       "      <td>Female</td>\n",
       "      <td>1</td>\n",
       "    </tr>\n",
       "    <tr>\n",
       "      <th>1</th>\n",
       "      <td>1771</td>\n",
       "      <td>NOPURCHASE</td>\n",
       "      <td>0.095057</td>\n",
       "      <td>-0.061514</td>\n",
       "      <td>0.904276</td>\n",
       "      <td>Female</td>\n",
       "      <td>1</td>\n",
       "    </tr>\n",
       "    <tr>\n",
       "      <th>2</th>\n",
       "      <td>1776</td>\n",
       "      <td>NOPURCHASE</td>\n",
       "      <td>-1.253845</td>\n",
       "      <td>-1.179960</td>\n",
       "      <td>1.198541</td>\n",
       "      <td>Male</td>\n",
       "      <td>1</td>\n",
       "    </tr>\n",
       "    <tr>\n",
       "      <th>3</th>\n",
       "      <td>1460</td>\n",
       "      <td>NOPURCHASE</td>\n",
       "      <td>-0.117927</td>\n",
       "      <td>-0.285203</td>\n",
       "      <td>-0.861314</td>\n",
       "      <td>Female</td>\n",
       "      <td>1</td>\n",
       "    </tr>\n",
       "    <tr>\n",
       "      <th>4</th>\n",
       "      <td>1783</td>\n",
       "      <td>NOPURCHASE</td>\n",
       "      <td>-0.614891</td>\n",
       "      <td>-0.508892</td>\n",
       "      <td>0.021481</td>\n",
       "      <td>Male</td>\n",
       "      <td>1</td>\n",
       "    </tr>\n",
       "  </tbody>\n",
       "</table>\n",
       "</div>"
      ],
      "text/plain": [
       "    LNR    RESPONSE  LP_LEBENSPHASE_FEIN  LP_LEBENSPHASE_GROB  LP_STATUS_FEIN  \\\n",
       "0  1763  NOPURCHASE            -0.685886            -0.732582       -0.861314   \n",
       "1  1771  NOPURCHASE             0.095057            -0.061514        0.904276   \n",
       "2  1776  NOPURCHASE            -1.253845            -1.179960        1.198541   \n",
       "3  1460  NOPURCHASE            -0.117927            -0.285203       -0.861314   \n",
       "4  1783  NOPURCHASE            -0.614891            -0.508892        0.021481   \n",
       "\n",
       "  ANREDE_KZ  RECORD_WEIGHT  \n",
       "0    Female              1  \n",
       "1    Female              1  \n",
       "2      Male              1  \n",
       "3    Female              1  \n",
       "4      Male              1  "
      ]
     },
     "execution_count": 157,
     "metadata": {},
     "output_type": "execute_result"
    }
   ],
   "source": [
    "init_train.head()"
   ]
  },
  {
   "cell_type": "code",
   "execution_count": 158,
   "metadata": {
    "tags": []
   },
   "outputs": [
    {
     "data": {
      "text/html": [
       "<div>\n",
       "<style scoped>\n",
       "    .dataframe tbody tr th:only-of-type {\n",
       "        vertical-align: middle;\n",
       "    }\n",
       "\n",
       "    .dataframe tbody tr th {\n",
       "        vertical-align: top;\n",
       "    }\n",
       "\n",
       "    .dataframe thead th {\n",
       "        text-align: right;\n",
       "    }\n",
       "</style>\n",
       "<table border=\"1\" class=\"dataframe\">\n",
       "  <thead>\n",
       "    <tr style=\"text-align: right;\">\n",
       "      <th></th>\n",
       "      <th>LNR</th>\n",
       "      <th>RESPONSE</th>\n",
       "      <th>LP_LEBENSPHASE_FEIN</th>\n",
       "      <th>LP_LEBENSPHASE_GROB</th>\n",
       "      <th>LP_STATUS_FEIN</th>\n",
       "      <th>ANREDE_KZ</th>\n",
       "      <th>RECORD_WEIGHT</th>\n",
       "    </tr>\n",
       "  </thead>\n",
       "  <tbody>\n",
       "    <tr>\n",
       "      <th>90</th>\n",
       "      <td>21511</td>\n",
       "      <td>PURCHASE</td>\n",
       "      <td>1.585948</td>\n",
       "      <td>1.504312</td>\n",
       "      <td>1.198541</td>\n",
       "      <td>Female</td>\n",
       "      <td>100</td>\n",
       "    </tr>\n",
       "    <tr>\n",
       "      <th>129</th>\n",
       "      <td>61905</td>\n",
       "      <td>PURCHASE</td>\n",
       "      <td>-0.614891</td>\n",
       "      <td>-0.508892</td>\n",
       "      <td>0.315746</td>\n",
       "      <td>Male</td>\n",
       "      <td>100</td>\n",
       "    </tr>\n",
       "    <tr>\n",
       "      <th>173</th>\n",
       "      <td>15467</td>\n",
       "      <td>PURCHASE</td>\n",
       "      <td>1.514953</td>\n",
       "      <td>1.504312</td>\n",
       "      <td>1.198541</td>\n",
       "      <td>Male</td>\n",
       "      <td>100</td>\n",
       "    </tr>\n",
       "    <tr>\n",
       "      <th>205</th>\n",
       "      <td>25211</td>\n",
       "      <td>PURCHASE</td>\n",
       "      <td>-0.117927</td>\n",
       "      <td>-0.285203</td>\n",
       "      <td>-0.861314</td>\n",
       "      <td>Male</td>\n",
       "      <td>100</td>\n",
       "    </tr>\n",
       "    <tr>\n",
       "      <th>248</th>\n",
       "      <td>83461</td>\n",
       "      <td>PURCHASE</td>\n",
       "      <td>0.166052</td>\n",
       "      <td>-0.061514</td>\n",
       "      <td>1.198541</td>\n",
       "      <td>Male</td>\n",
       "      <td>100</td>\n",
       "    </tr>\n",
       "  </tbody>\n",
       "</table>\n",
       "</div>"
      ],
      "text/plain": [
       "       LNR  RESPONSE  LP_LEBENSPHASE_FEIN  LP_LEBENSPHASE_GROB  \\\n",
       "90   21511  PURCHASE             1.585948             1.504312   \n",
       "129  61905  PURCHASE            -0.614891            -0.508892   \n",
       "173  15467  PURCHASE             1.514953             1.504312   \n",
       "205  25211  PURCHASE            -0.117927            -0.285203   \n",
       "248  83461  PURCHASE             0.166052            -0.061514   \n",
       "\n",
       "     LP_STATUS_FEIN ANREDE_KZ  RECORD_WEIGHT  \n",
       "90         1.198541    Female            100  \n",
       "129        0.315746      Male            100  \n",
       "173        1.198541      Male            100  \n",
       "205       -0.861314      Male            100  \n",
       "248        1.198541      Male            100  "
      ]
     },
     "execution_count": 158,
     "metadata": {},
     "output_type": "execute_result"
    }
   ],
   "source": [
    "purchase_records_sample = init_train[init_train['RESPONSE'] == 'PURCHASE']\n",
    "purchase_records_sample.head()"
   ]
  },
  {
   "cell_type": "code",
   "execution_count": 159,
   "metadata": {
    "tags": []
   },
   "outputs": [
    {
     "data": {
      "text/html": [
       "<div>\n",
       "<style scoped>\n",
       "    .dataframe tbody tr th:only-of-type {\n",
       "        vertical-align: middle;\n",
       "    }\n",
       "\n",
       "    .dataframe tbody tr th {\n",
       "        vertical-align: top;\n",
       "    }\n",
       "\n",
       "    .dataframe thead th {\n",
       "        text-align: right;\n",
       "    }\n",
       "</style>\n",
       "<table border=\"1\" class=\"dataframe\">\n",
       "  <thead>\n",
       "    <tr style=\"text-align: right;\">\n",
       "      <th></th>\n",
       "      <th>LNR</th>\n",
       "      <th>RESPONSE</th>\n",
       "      <th>LP_LEBENSPHASE_FEIN</th>\n",
       "      <th>LP_LEBENSPHASE_GROB</th>\n",
       "      <th>LP_STATUS_FEIN</th>\n",
       "      <th>ANREDE_KZ</th>\n",
       "      <th>RECORD_WEIGHT</th>\n",
       "    </tr>\n",
       "  </thead>\n",
       "  <tbody>\n",
       "    <tr>\n",
       "      <th>0</th>\n",
       "      <td>1763</td>\n",
       "      <td>NOPURCHASE</td>\n",
       "      <td>-0.685886</td>\n",
       "      <td>-0.732582</td>\n",
       "      <td>-0.861314</td>\n",
       "      <td>Female</td>\n",
       "      <td>0.000011</td>\n",
       "    </tr>\n",
       "    <tr>\n",
       "      <th>1</th>\n",
       "      <td>1771</td>\n",
       "      <td>NOPURCHASE</td>\n",
       "      <td>0.095057</td>\n",
       "      <td>-0.061514</td>\n",
       "      <td>0.904276</td>\n",
       "      <td>Female</td>\n",
       "      <td>0.000011</td>\n",
       "    </tr>\n",
       "    <tr>\n",
       "      <th>2</th>\n",
       "      <td>1776</td>\n",
       "      <td>NOPURCHASE</td>\n",
       "      <td>-1.253845</td>\n",
       "      <td>-1.179960</td>\n",
       "      <td>1.198541</td>\n",
       "      <td>Male</td>\n",
       "      <td>0.000011</td>\n",
       "    </tr>\n",
       "    <tr>\n",
       "      <th>3</th>\n",
       "      <td>1460</td>\n",
       "      <td>NOPURCHASE</td>\n",
       "      <td>-0.117927</td>\n",
       "      <td>-0.285203</td>\n",
       "      <td>-0.861314</td>\n",
       "      <td>Female</td>\n",
       "      <td>0.000011</td>\n",
       "    </tr>\n",
       "    <tr>\n",
       "      <th>4</th>\n",
       "      <td>1783</td>\n",
       "      <td>NOPURCHASE</td>\n",
       "      <td>-0.614891</td>\n",
       "      <td>-0.508892</td>\n",
       "      <td>0.021481</td>\n",
       "      <td>Male</td>\n",
       "      <td>0.000011</td>\n",
       "    </tr>\n",
       "  </tbody>\n",
       "</table>\n",
       "</div>"
      ],
      "text/plain": [
       "    LNR    RESPONSE  LP_LEBENSPHASE_FEIN  LP_LEBENSPHASE_GROB  LP_STATUS_FEIN  \\\n",
       "0  1763  NOPURCHASE            -0.685886            -0.732582       -0.861314   \n",
       "1  1771  NOPURCHASE             0.095057            -0.061514        0.904276   \n",
       "2  1776  NOPURCHASE            -1.253845            -1.179960        1.198541   \n",
       "3  1460  NOPURCHASE            -0.117927            -0.285203       -0.861314   \n",
       "4  1783  NOPURCHASE            -0.614891            -0.508892        0.021481   \n",
       "\n",
       "  ANREDE_KZ  RECORD_WEIGHT  \n",
       "0    Female       0.000011  \n",
       "1    Female       0.000011  \n",
       "2      Male       0.000011  \n",
       "3    Female       0.000011  \n",
       "4      Male       0.000011  "
      ]
     },
     "execution_count": 159,
     "metadata": {},
     "output_type": "execute_result"
    }
   ],
   "source": [
    "# Normalize the weights\n",
    "init_train['RECORD_WEIGHT'] /= init_train['RECORD_WEIGHT'].sum()\n",
    "init_train.head()"
   ]
  },
  {
   "cell_type": "code",
   "execution_count": 160,
   "metadata": {
    "tags": []
   },
   "outputs": [
    {
     "data": {
      "text/html": [
       "<div>\n",
       "<style scoped>\n",
       "    .dataframe tbody tr th:only-of-type {\n",
       "        vertical-align: middle;\n",
       "    }\n",
       "\n",
       "    .dataframe tbody tr th {\n",
       "        vertical-align: top;\n",
       "    }\n",
       "\n",
       "    .dataframe thead th {\n",
       "        text-align: right;\n",
       "    }\n",
       "</style>\n",
       "<table border=\"1\" class=\"dataframe\">\n",
       "  <thead>\n",
       "    <tr style=\"text-align: right;\">\n",
       "      <th></th>\n",
       "      <th>LNR</th>\n",
       "      <th>RESPONSE</th>\n",
       "      <th>LP_LEBENSPHASE_FEIN</th>\n",
       "      <th>LP_LEBENSPHASE_GROB</th>\n",
       "      <th>LP_STATUS_FEIN</th>\n",
       "      <th>ANREDE_KZ</th>\n",
       "      <th>RECORD_WEIGHT</th>\n",
       "    </tr>\n",
       "  </thead>\n",
       "  <tbody>\n",
       "    <tr>\n",
       "      <th>90</th>\n",
       "      <td>21511</td>\n",
       "      <td>PURCHASE</td>\n",
       "      <td>1.585948</td>\n",
       "      <td>1.504312</td>\n",
       "      <td>1.198541</td>\n",
       "      <td>Female</td>\n",
       "      <td>0.001058</td>\n",
       "    </tr>\n",
       "    <tr>\n",
       "      <th>129</th>\n",
       "      <td>61905</td>\n",
       "      <td>PURCHASE</td>\n",
       "      <td>-0.614891</td>\n",
       "      <td>-0.508892</td>\n",
       "      <td>0.315746</td>\n",
       "      <td>Male</td>\n",
       "      <td>0.001058</td>\n",
       "    </tr>\n",
       "    <tr>\n",
       "      <th>173</th>\n",
       "      <td>15467</td>\n",
       "      <td>PURCHASE</td>\n",
       "      <td>1.514953</td>\n",
       "      <td>1.504312</td>\n",
       "      <td>1.198541</td>\n",
       "      <td>Male</td>\n",
       "      <td>0.001058</td>\n",
       "    </tr>\n",
       "    <tr>\n",
       "      <th>205</th>\n",
       "      <td>25211</td>\n",
       "      <td>PURCHASE</td>\n",
       "      <td>-0.117927</td>\n",
       "      <td>-0.285203</td>\n",
       "      <td>-0.861314</td>\n",
       "      <td>Male</td>\n",
       "      <td>0.001058</td>\n",
       "    </tr>\n",
       "    <tr>\n",
       "      <th>248</th>\n",
       "      <td>83461</td>\n",
       "      <td>PURCHASE</td>\n",
       "      <td>0.166052</td>\n",
       "      <td>-0.061514</td>\n",
       "      <td>1.198541</td>\n",
       "      <td>Male</td>\n",
       "      <td>0.001058</td>\n",
       "    </tr>\n",
       "  </tbody>\n",
       "</table>\n",
       "</div>"
      ],
      "text/plain": [
       "       LNR  RESPONSE  LP_LEBENSPHASE_FEIN  LP_LEBENSPHASE_GROB  \\\n",
       "90   21511  PURCHASE             1.585948             1.504312   \n",
       "129  61905  PURCHASE            -0.614891            -0.508892   \n",
       "173  15467  PURCHASE             1.514953             1.504312   \n",
       "205  25211  PURCHASE            -0.117927            -0.285203   \n",
       "248  83461  PURCHASE             0.166052            -0.061514   \n",
       "\n",
       "     LP_STATUS_FEIN ANREDE_KZ  RECORD_WEIGHT  \n",
       "90         1.198541    Female       0.001058  \n",
       "129        0.315746      Male       0.001058  \n",
       "173        1.198541      Male       0.001058  \n",
       "205       -0.861314      Male       0.001058  \n",
       "248        1.198541      Male       0.001058  "
      ]
     },
     "execution_count": 160,
     "metadata": {},
     "output_type": "execute_result"
    }
   ],
   "source": [
    "purchase_records_sample = init_train[init_train['RESPONSE'] == 'PURCHASE']\n",
    "purchase_records_sample.head()"
   ]
  },
  {
   "cell_type": "code",
   "execution_count": 161,
   "metadata": {
    "tags": []
   },
   "outputs": [
    {
     "name": "stdout",
     "output_type": "stream",
     "text": [
      "<class 'pandas.core.frame.DataFrame'>\n",
      "Index: 42357 entries, 0 to 42961\n",
      "Data columns (total 6 columns):\n",
      " #   Column               Non-Null Count  Dtype   \n",
      "---  ------               --------------  -----   \n",
      " 0   RESPONSE             42357 non-null  category\n",
      " 1   LP_LEBENSPHASE_FEIN  42357 non-null  float64 \n",
      " 2   LP_LEBENSPHASE_GROB  42357 non-null  float64 \n",
      " 3   LP_STATUS_FEIN       42357 non-null  float64 \n",
      " 4   ANREDE_KZ            42357 non-null  category\n",
      " 5   RECORD_WEIGHT        42357 non-null  float64 \n",
      "dtypes: category(2), float64(4)\n",
      "memory usage: 1.7 MB\n"
     ]
    }
   ],
   "source": [
    "init_train.drop(columns=['LNR'], inplace=True)\n",
    "init_train.info()"
   ]
  },
  {
   "cell_type": "code",
   "execution_count": 162,
   "metadata": {
    "tags": []
   },
   "outputs": [],
   "source": [
    "## Split Data into Training and Validation sets\n",
    "init_train_data, init_valid_data = train_test_split(init_train, test_size=0.2, random_state=1)"
   ]
  },
  {
   "cell_type": "code",
   "execution_count": 163,
   "metadata": {
    "tags": []
   },
   "outputs": [
    {
     "name": "stdout",
     "output_type": "stream",
     "text": [
      "<class 'pandas.core.frame.DataFrame'>\n",
      "Index: 33885 entries, 39087 to 16011\n",
      "Data columns (total 6 columns):\n",
      " #   Column               Non-Null Count  Dtype   \n",
      "---  ------               --------------  -----   \n",
      " 0   RESPONSE             33885 non-null  category\n",
      " 1   LP_LEBENSPHASE_FEIN  33885 non-null  float64 \n",
      " 2   LP_LEBENSPHASE_GROB  33885 non-null  float64 \n",
      " 3   LP_STATUS_FEIN       33885 non-null  float64 \n",
      " 4   ANREDE_KZ            33885 non-null  category\n",
      " 5   RECORD_WEIGHT        33885 non-null  float64 \n",
      "dtypes: category(2), float64(4)\n",
      "memory usage: 1.4 MB\n"
     ]
    }
   ],
   "source": [
    "init_train_data.info()"
   ]
  },
  {
   "cell_type": "code",
   "execution_count": 164,
   "metadata": {
    "tags": []
   },
   "outputs": [],
   "source": [
    "predictor = TabularPredictor(label=\"RESPONSE\", verbosity=4, sample_weight='RECORD_WEIGHT').fit(\n",
    "    train_data=init_train_data,\n",
    "    time_limit=600,\n",
    "    presets=\"best_quality\"\n",
    ")"
   ]
  },
  {
   "cell_type": "code",
   "execution_count": 165,
   "metadata": {
    "tags": []
   },
   "outputs": [
    {
     "name": "stderr",
     "output_type": "stream",
     "text": [
      "/home/ec2-user/anaconda3/envs/python3/lib/python3.10/site-packages/sklearn/metrics/_classification.py:1471: UndefinedMetricWarning: Precision is ill-defined and being set to 0.0 due to no predicted samples. Use `zero_division` parameter to control this behavior.\n",
      "  _warn_prf(average, modifier, msg_start, len(result))\n"
     ]
    }
   ],
   "source": [
    "results = predictor.evaluate(init_valid_data)"
   ]
  },
  {
   "cell_type": "code",
   "execution_count": 166,
   "metadata": {
    "tags": []
   },
   "outputs": [
    {
     "name": "stdout",
     "output_type": "stream",
     "text": [
      "*** Summary of fit() ***\n",
      "Estimated performance of each model:\n",
      "                      model  score_val eval_metric  pred_time_val    fit_time  pred_time_val_marginal  fit_time_marginal  stack_level  can_infer  fit_order\n",
      "0       WeightedEnsemble_L3   0.990822    accuracy      11.232841  331.159106                0.086079          21.868798            3       True         18\n",
      "1   RandomForestEntr_BAG_L2   0.990350    accuracy       9.832861  276.697928                1.108165          14.902271            2       True         16\n",
      "2   RandomForestGini_BAG_L2   0.989671    accuracy       9.960351  273.347094                1.235655          11.551436            2       True         15\n",
      "3    NeuralNetFastAI_BAG_L1   0.987546    accuracy       0.737310  162.591293                0.737310         162.591293            1       True         10\n",
      "4     KNeighborsDist_BAG_L1   0.987546    accuracy       0.881267    0.063840                0.881267           0.063840            1       True          2\n",
      "5     KNeighborsUnif_BAG_L1   0.987546    accuracy       0.975036    0.070640                0.975036           0.070640            1       True          1\n",
      "6       WeightedEnsemble_L2   0.987546    accuracy       1.033988   14.179724                0.058952          14.109084            2       True         12\n",
      "7           LightGBM_BAG_L2   0.914239    accuracy       9.242586  288.805851                0.517890          27.010193            2       True         14\n",
      "8         LightGBMXT_BAG_L2   0.905386    accuracy      10.038598  294.388037                1.313902          32.592379            2       True         13\n",
      "9           CatBoost_BAG_L2   0.742541    accuracy       8.885671  281.310868                0.160975          19.515211            2       True         17\n",
      "10    ExtraTreesGini_BAG_L1   0.434558    accuracy       1.115598    2.845371                1.115598           2.845371            1       True          8\n",
      "11    ExtraTreesEntr_BAG_L1   0.434558    accuracy       1.126184    2.741812                1.126184           2.741812            1       True          9\n",
      "12  RandomForestGini_BAG_L1   0.434529    accuracy       1.117695    3.753643                1.117695           3.753643            1       True          5\n",
      "13  RandomForestEntr_BAG_L1   0.434529    accuracy       1.346707    3.102100                1.346707           3.102100            1       True          6\n",
      "14           XGBoost_BAG_L1   0.377542    accuracy       1.011968   22.686834                1.011968          22.686834            1       True         11\n",
      "15          CatBoost_BAG_L1   0.134838    accuracy       0.164253   20.883948                0.164253          20.883948            1       True          7\n",
      "16          LightGBM_BAG_L1   0.129585    accuracy       0.074215   21.213486                0.074215          21.213486            1       True          4\n",
      "17        LightGBMXT_BAG_L1   0.097860    accuracy       0.174464   21.842690                0.174464          21.842690            1       True          3\n",
      "Number of models trained: 18\n",
      "Types of models trained:\n",
      "{'WeightedEnsembleModel', 'StackerEnsembleModel_LGB', 'StackerEnsembleModel_KNN', 'StackerEnsembleModel_XT', 'StackerEnsembleModel_CatBoost', 'StackerEnsembleModel_NNFastAiTabular', 'StackerEnsembleModel_RF', 'StackerEnsembleModel_XGBoost'}\n",
      "Bagging used: True  (with 8 folds)\n",
      "Multi-layer stack-ensembling used: True  (with 3 levels)\n",
      "Feature Metadata (Processed):\n",
      "(raw dtype, special dtypes):\n",
      "('float', [])     : 3 | ['LP_LEBENSPHASE_FEIN', 'LP_LEBENSPHASE_GROB', 'LP_STATUS_FEIN']\n",
      "('int', ['bool']) : 1 | ['ANREDE_KZ']\n",
      "*** End of fit() summary ***\n"
     ]
    },
    {
     "name": "stderr",
     "output_type": "stream",
     "text": [
      "/home/ec2-user/anaconda3/envs/python3/lib/python3.10/site-packages/autogluon/core/utils/plots.py:169: UserWarning: AutoGluon summary plots cannot be created because bokeh is not installed. To see plots, please do: \"pip install bokeh==2.0.1\"\n",
      "  warnings.warn('AutoGluon summary plots cannot be created because bokeh is not installed. To see plots, please do: \"pip install bokeh==2.0.1\"')\n"
     ]
    },
    {
     "data": {
      "text/plain": [
       "{'model_types': {'KNeighborsUnif_BAG_L1': 'StackerEnsembleModel_KNN',\n",
       "  'KNeighborsDist_BAG_L1': 'StackerEnsembleModel_KNN',\n",
       "  'LightGBMXT_BAG_L1': 'StackerEnsembleModel_LGB',\n",
       "  'LightGBM_BAG_L1': 'StackerEnsembleModel_LGB',\n",
       "  'RandomForestGini_BAG_L1': 'StackerEnsembleModel_RF',\n",
       "  'RandomForestEntr_BAG_L1': 'StackerEnsembleModel_RF',\n",
       "  'CatBoost_BAG_L1': 'StackerEnsembleModel_CatBoost',\n",
       "  'ExtraTreesGini_BAG_L1': 'StackerEnsembleModel_XT',\n",
       "  'ExtraTreesEntr_BAG_L1': 'StackerEnsembleModel_XT',\n",
       "  'NeuralNetFastAI_BAG_L1': 'StackerEnsembleModel_NNFastAiTabular',\n",
       "  'XGBoost_BAG_L1': 'StackerEnsembleModel_XGBoost',\n",
       "  'WeightedEnsemble_L2': 'WeightedEnsembleModel',\n",
       "  'LightGBMXT_BAG_L2': 'StackerEnsembleModel_LGB',\n",
       "  'LightGBM_BAG_L2': 'StackerEnsembleModel_LGB',\n",
       "  'RandomForestGini_BAG_L2': 'StackerEnsembleModel_RF',\n",
       "  'RandomForestEntr_BAG_L2': 'StackerEnsembleModel_RF',\n",
       "  'CatBoost_BAG_L2': 'StackerEnsembleModel_CatBoost',\n",
       "  'WeightedEnsemble_L3': 'WeightedEnsembleModel'},\n",
       " 'model_performance': {'KNeighborsUnif_BAG_L1': 0.9875461118489007,\n",
       "  'KNeighborsDist_BAG_L1': 0.9875461118489007,\n",
       "  'LightGBMXT_BAG_L1': 0.09786041021100782,\n",
       "  'LightGBM_BAG_L1': 0.12958536225468498,\n",
       "  'RandomForestGini_BAG_L1': 0.4345285524568393,\n",
       "  'RandomForestEntr_BAG_L1': 0.4345285524568393,\n",
       "  'CatBoost_BAG_L1': 0.13483842408145197,\n",
       "  'ExtraTreesGini_BAG_L1': 0.43455806404013575,\n",
       "  'ExtraTreesEntr_BAG_L1': 0.43455806404013575,\n",
       "  'NeuralNetFastAI_BAG_L1': 0.9875461118489007,\n",
       "  'XGBoost_BAG_L1': 0.37754168511140623,\n",
       "  'WeightedEnsemble_L2': 0.9875461118489007,\n",
       "  'LightGBMXT_BAG_L2': 0.905385863951601,\n",
       "  'LightGBM_BAG_L2': 0.9142393389405341,\n",
       "  'RandomForestGini_BAG_L2': 0.9896709458462446,\n",
       "  'RandomForestEntr_BAG_L2': 0.9903497122620628,\n",
       "  'CatBoost_BAG_L2': 0.7425409473218239,\n",
       "  'WeightedEnsemble_L3': 0.990821897594806},\n",
       " 'model_best': 'WeightedEnsemble_L3',\n",
       " 'model_paths': {'KNeighborsUnif_BAG_L1': ['KNeighborsUnif_BAG_L1'],\n",
       "  'KNeighborsDist_BAG_L1': ['KNeighborsDist_BAG_L1'],\n",
       "  'LightGBMXT_BAG_L1': ['LightGBMXT_BAG_L1'],\n",
       "  'LightGBM_BAG_L1': ['LightGBM_BAG_L1'],\n",
       "  'RandomForestGini_BAG_L1': ['RandomForestGini_BAG_L1'],\n",
       "  'RandomForestEntr_BAG_L1': ['RandomForestEntr_BAG_L1'],\n",
       "  'CatBoost_BAG_L1': ['CatBoost_BAG_L1'],\n",
       "  'ExtraTreesGini_BAG_L1': ['ExtraTreesGini_BAG_L1'],\n",
       "  'ExtraTreesEntr_BAG_L1': ['ExtraTreesEntr_BAG_L1'],\n",
       "  'NeuralNetFastAI_BAG_L1': ['NeuralNetFastAI_BAG_L1'],\n",
       "  'XGBoost_BAG_L1': ['XGBoost_BAG_L1'],\n",
       "  'WeightedEnsemble_L2': ['WeightedEnsemble_L2'],\n",
       "  'LightGBMXT_BAG_L2': ['LightGBMXT_BAG_L2'],\n",
       "  'LightGBM_BAG_L2': ['LightGBM_BAG_L2'],\n",
       "  'RandomForestGini_BAG_L2': ['RandomForestGini_BAG_L2'],\n",
       "  'RandomForestEntr_BAG_L2': ['RandomForestEntr_BAG_L2'],\n",
       "  'CatBoost_BAG_L2': ['CatBoost_BAG_L2'],\n",
       "  'WeightedEnsemble_L3': ['WeightedEnsemble_L3']},\n",
       " 'model_fit_times': {'KNeighborsUnif_BAG_L1': 0.07064008712768555,\n",
       "  'KNeighborsDist_BAG_L1': 0.06383991241455078,\n",
       "  'LightGBMXT_BAG_L1': 21.842690229415894,\n",
       "  'LightGBM_BAG_L1': 21.213485717773438,\n",
       "  'RandomForestGini_BAG_L1': 3.7536427974700928,\n",
       "  'RandomForestEntr_BAG_L1': 3.102100133895874,\n",
       "  'CatBoost_BAG_L1': 20.88394808769226,\n",
       "  'ExtraTreesGini_BAG_L1': 2.8453712463378906,\n",
       "  'ExtraTreesEntr_BAG_L1': 2.7418124675750732,\n",
       "  'NeuralNetFastAI_BAG_L1': 162.59129285812378,\n",
       "  'XGBoost_BAG_L1': 22.68683385848999,\n",
       "  'WeightedEnsemble_L2': 14.109083652496338,\n",
       "  'LightGBMXT_BAG_L2': 32.592379331588745,\n",
       "  'LightGBM_BAG_L2': 27.010193347930908,\n",
       "  'RandomForestGini_BAG_L2': 11.551436185836792,\n",
       "  'RandomForestEntr_BAG_L2': 14.902270793914795,\n",
       "  'CatBoost_BAG_L2': 19.51521062850952,\n",
       "  'WeightedEnsemble_L3': 21.86879801750183},\n",
       " 'model_pred_times': {'KNeighborsUnif_BAG_L1': 0.9750363826751709,\n",
       "  'KNeighborsDist_BAG_L1': 0.8812668323516846,\n",
       "  'LightGBMXT_BAG_L1': 0.17446374893188477,\n",
       "  'LightGBM_BAG_L1': 0.07421469688415527,\n",
       "  'RandomForestGini_BAG_L1': 1.117694616317749,\n",
       "  'RandomForestEntr_BAG_L1': 1.3467066287994385,\n",
       "  'CatBoost_BAG_L1': 0.16425251960754395,\n",
       "  'ExtraTreesGini_BAG_L1': 1.1155979633331299,\n",
       "  'ExtraTreesEntr_BAG_L1': 1.1261842250823975,\n",
       "  'NeuralNetFastAI_BAG_L1': 0.7373101711273193,\n",
       "  'XGBoost_BAG_L1': 1.0119681358337402,\n",
       "  'WeightedEnsemble_L2': 0.05895185470581055,\n",
       "  'LightGBMXT_BAG_L2': 1.313901662826538,\n",
       "  'LightGBM_BAG_L2': 0.5178897380828857,\n",
       "  'RandomForestGini_BAG_L2': 1.2356553077697754,\n",
       "  'RandomForestEntr_BAG_L2': 1.1081650257110596,\n",
       "  'CatBoost_BAG_L2': 0.16097474098205566,\n",
       "  'WeightedEnsemble_L3': 0.08607864379882812},\n",
       " 'num_bag_folds': 8,\n",
       " 'max_stack_level': 3,\n",
       " 'num_classes': 2,\n",
       " 'model_hyperparams': {'KNeighborsUnif_BAG_L1': {'use_orig_features': True,\n",
       "   'max_base_models': 25,\n",
       "   'max_base_models_per_type': 5,\n",
       "   'save_bag_folds': True,\n",
       "   'use_child_oof': True},\n",
       "  'KNeighborsDist_BAG_L1': {'use_orig_features': True,\n",
       "   'max_base_models': 25,\n",
       "   'max_base_models_per_type': 5,\n",
       "   'save_bag_folds': True,\n",
       "   'use_child_oof': True},\n",
       "  'LightGBMXT_BAG_L1': {'use_orig_features': True,\n",
       "   'max_base_models': 25,\n",
       "   'max_base_models_per_type': 5,\n",
       "   'save_bag_folds': True},\n",
       "  'LightGBM_BAG_L1': {'use_orig_features': True,\n",
       "   'max_base_models': 25,\n",
       "   'max_base_models_per_type': 5,\n",
       "   'save_bag_folds': True},\n",
       "  'RandomForestGini_BAG_L1': {'use_orig_features': True,\n",
       "   'max_base_models': 25,\n",
       "   'max_base_models_per_type': 5,\n",
       "   'save_bag_folds': True,\n",
       "   'use_child_oof': True},\n",
       "  'RandomForestEntr_BAG_L1': {'use_orig_features': True,\n",
       "   'max_base_models': 25,\n",
       "   'max_base_models_per_type': 5,\n",
       "   'save_bag_folds': True,\n",
       "   'use_child_oof': True},\n",
       "  'CatBoost_BAG_L1': {'use_orig_features': True,\n",
       "   'max_base_models': 25,\n",
       "   'max_base_models_per_type': 5,\n",
       "   'save_bag_folds': True},\n",
       "  'ExtraTreesGini_BAG_L1': {'use_orig_features': True,\n",
       "   'max_base_models': 25,\n",
       "   'max_base_models_per_type': 5,\n",
       "   'save_bag_folds': True,\n",
       "   'use_child_oof': True},\n",
       "  'ExtraTreesEntr_BAG_L1': {'use_orig_features': True,\n",
       "   'max_base_models': 25,\n",
       "   'max_base_models_per_type': 5,\n",
       "   'save_bag_folds': True,\n",
       "   'use_child_oof': True},\n",
       "  'NeuralNetFastAI_BAG_L1': {'use_orig_features': True,\n",
       "   'max_base_models': 25,\n",
       "   'max_base_models_per_type': 5,\n",
       "   'save_bag_folds': True},\n",
       "  'XGBoost_BAG_L1': {'use_orig_features': True,\n",
       "   'max_base_models': 25,\n",
       "   'max_base_models_per_type': 5,\n",
       "   'save_bag_folds': True},\n",
       "  'WeightedEnsemble_L2': {'use_orig_features': False,\n",
       "   'max_base_models': 25,\n",
       "   'max_base_models_per_type': 5,\n",
       "   'save_bag_folds': True},\n",
       "  'LightGBMXT_BAG_L2': {'use_orig_features': True,\n",
       "   'max_base_models': 25,\n",
       "   'max_base_models_per_type': 5,\n",
       "   'save_bag_folds': True},\n",
       "  'LightGBM_BAG_L2': {'use_orig_features': True,\n",
       "   'max_base_models': 25,\n",
       "   'max_base_models_per_type': 5,\n",
       "   'save_bag_folds': True},\n",
       "  'RandomForestGini_BAG_L2': {'use_orig_features': True,\n",
       "   'max_base_models': 25,\n",
       "   'max_base_models_per_type': 5,\n",
       "   'save_bag_folds': True,\n",
       "   'use_child_oof': True},\n",
       "  'RandomForestEntr_BAG_L2': {'use_orig_features': True,\n",
       "   'max_base_models': 25,\n",
       "   'max_base_models_per_type': 5,\n",
       "   'save_bag_folds': True,\n",
       "   'use_child_oof': True},\n",
       "  'CatBoost_BAG_L2': {'use_orig_features': True,\n",
       "   'max_base_models': 25,\n",
       "   'max_base_models_per_type': 5,\n",
       "   'save_bag_folds': True},\n",
       "  'WeightedEnsemble_L3': {'use_orig_features': False,\n",
       "   'max_base_models': 25,\n",
       "   'max_base_models_per_type': 5,\n",
       "   'save_bag_folds': True}},\n",
       " 'leaderboard':                       model  score_val eval_metric  pred_time_val    fit_time  \\\n",
       " 0       WeightedEnsemble_L3   0.990822    accuracy      11.232841  331.159106   \n",
       " 1   RandomForestEntr_BAG_L2   0.990350    accuracy       9.832861  276.697928   \n",
       " 2   RandomForestGini_BAG_L2   0.989671    accuracy       9.960351  273.347094   \n",
       " 3    NeuralNetFastAI_BAG_L1   0.987546    accuracy       0.737310  162.591293   \n",
       " 4     KNeighborsDist_BAG_L1   0.987546    accuracy       0.881267    0.063840   \n",
       " 5     KNeighborsUnif_BAG_L1   0.987546    accuracy       0.975036    0.070640   \n",
       " 6       WeightedEnsemble_L2   0.987546    accuracy       1.033988   14.179724   \n",
       " 7           LightGBM_BAG_L2   0.914239    accuracy       9.242586  288.805851   \n",
       " 8         LightGBMXT_BAG_L2   0.905386    accuracy      10.038598  294.388037   \n",
       " 9           CatBoost_BAG_L2   0.742541    accuracy       8.885671  281.310868   \n",
       " 10    ExtraTreesGini_BAG_L1   0.434558    accuracy       1.115598    2.845371   \n",
       " 11    ExtraTreesEntr_BAG_L1   0.434558    accuracy       1.126184    2.741812   \n",
       " 12  RandomForestGini_BAG_L1   0.434529    accuracy       1.117695    3.753643   \n",
       " 13  RandomForestEntr_BAG_L1   0.434529    accuracy       1.346707    3.102100   \n",
       " 14           XGBoost_BAG_L1   0.377542    accuracy       1.011968   22.686834   \n",
       " 15          CatBoost_BAG_L1   0.134838    accuracy       0.164253   20.883948   \n",
       " 16          LightGBM_BAG_L1   0.129585    accuracy       0.074215   21.213486   \n",
       " 17        LightGBMXT_BAG_L1   0.097860    accuracy       0.174464   21.842690   \n",
       " \n",
       "     pred_time_val_marginal  fit_time_marginal  stack_level  can_infer  \\\n",
       " 0                 0.086079          21.868798            3       True   \n",
       " 1                 1.108165          14.902271            2       True   \n",
       " 2                 1.235655          11.551436            2       True   \n",
       " 3                 0.737310         162.591293            1       True   \n",
       " 4                 0.881267           0.063840            1       True   \n",
       " 5                 0.975036           0.070640            1       True   \n",
       " 6                 0.058952          14.109084            2       True   \n",
       " 7                 0.517890          27.010193            2       True   \n",
       " 8                 1.313902          32.592379            2       True   \n",
       " 9                 0.160975          19.515211            2       True   \n",
       " 10                1.115598           2.845371            1       True   \n",
       " 11                1.126184           2.741812            1       True   \n",
       " 12                1.117695           3.753643            1       True   \n",
       " 13                1.346707           3.102100            1       True   \n",
       " 14                1.011968          22.686834            1       True   \n",
       " 15                0.164253          20.883948            1       True   \n",
       " 16                0.074215          21.213486            1       True   \n",
       " 17                0.174464          21.842690            1       True   \n",
       " \n",
       "     fit_order  \n",
       " 0          18  \n",
       " 1          16  \n",
       " 2          15  \n",
       " 3          10  \n",
       " 4           2  \n",
       " 5           1  \n",
       " 6          12  \n",
       " 7          14  \n",
       " 8          13  \n",
       " 9          17  \n",
       " 10          8  \n",
       " 11          9  \n",
       " 12          5  \n",
       " 13          6  \n",
       " 14         11  \n",
       " 15          7  \n",
       " 16          4  \n",
       " 17          3  }"
      ]
     },
     "execution_count": 166,
     "metadata": {},
     "output_type": "execute_result"
    }
   ],
   "source": [
    "predictor.fit_summary()"
   ]
  },
  {
   "cell_type": "code",
   "execution_count": 167,
   "metadata": {
    "tags": []
   },
   "outputs": [
    {
     "name": "stdout",
     "output_type": "stream",
     "text": [
      "The model was saved in: AutogluonModels/ag-20231201_133737\n"
     ]
    }
   ],
   "source": [
    "model_path = predictor.path\n",
    "print(f\"The model was saved in: {model_path}\")"
   ]
  },
  {
   "cell_type": "code",
   "execution_count": 168,
   "metadata": {
    "tags": []
   },
   "outputs": [
    {
     "name": "stderr",
     "output_type": "stream",
     "text": [
      "/tmp/ipykernel_9940/9532272.py:2: DtypeWarning: Columns (18,19) have mixed types. Specify dtype option on import or set low_memory=False.\n",
      "  test_data = pd.read_csv(f'{s3_data_path}/test.csv')\n"
     ]
    }
   ],
   "source": [
    "## Make copy of test file for submission\n",
    "test_data = pd.read_csv(f'{s3_data_path}/test.csv')"
   ]
  },
  {
   "cell_type": "code",
   "execution_count": 169,
   "metadata": {
    "tags": []
   },
   "outputs": [
    {
     "name": "stdout",
     "output_type": "stream",
     "text": [
      "<class 'pandas.core.frame.DataFrame'>\n",
      "RangeIndex: 42833 entries, 0 to 42832\n",
      "Data columns (total 5 columns):\n",
      " #   Column               Non-Null Count  Dtype  \n",
      "---  ------               --------------  -----  \n",
      " 0   LNR                  42833 non-null  int64  \n",
      " 1   LP_LEBENSPHASE_FEIN  42255 non-null  float64\n",
      " 2   LP_LEBENSPHASE_GROB  42255 non-null  float64\n",
      " 3   LP_STATUS_FEIN       42255 non-null  float64\n",
      " 4   ANREDE_KZ            42833 non-null  int64  \n",
      "dtypes: float64(3), int64(2)\n",
      "memory usage: 1.6 MB\n"
     ]
    }
   ],
   "source": [
    "init_test_columns = [col for col in selected_columns if col != 'RESPONSE']\n",
    "init_test = test_data[init_test_columns]\n",
    "init_test.info()"
   ]
  },
  {
   "cell_type": "code",
   "execution_count": 170,
   "metadata": {
    "tags": []
   },
   "outputs": [
    {
     "data": {
      "text/html": [
       "<div>\n",
       "<style scoped>\n",
       "    .dataframe tbody tr th:only-of-type {\n",
       "        vertical-align: middle;\n",
       "    }\n",
       "\n",
       "    .dataframe tbody tr th {\n",
       "        vertical-align: top;\n",
       "    }\n",
       "\n",
       "    .dataframe thead th {\n",
       "        text-align: right;\n",
       "    }\n",
       "</style>\n",
       "<table border=\"1\" class=\"dataframe\">\n",
       "  <thead>\n",
       "    <tr style=\"text-align: right;\">\n",
       "      <th></th>\n",
       "      <th>LNR</th>\n",
       "      <th>LP_LEBENSPHASE_FEIN</th>\n",
       "      <th>LP_LEBENSPHASE_GROB</th>\n",
       "      <th>LP_STATUS_FEIN</th>\n",
       "      <th>ANREDE_KZ</th>\n",
       "    </tr>\n",
       "  </thead>\n",
       "  <tbody>\n",
       "    <tr>\n",
       "      <th>count</th>\n",
       "      <td>42833.000000</td>\n",
       "      <td>42255.000000</td>\n",
       "      <td>42255.000000</td>\n",
       "      <td>42255.000000</td>\n",
       "      <td>42833.000000</td>\n",
       "    </tr>\n",
       "    <tr>\n",
       "      <th>mean</th>\n",
       "      <td>42993.165620</td>\n",
       "      <td>17.775175</td>\n",
       "      <td>5.313194</td>\n",
       "      <td>5.936528</td>\n",
       "      <td>1.595475</td>\n",
       "    </tr>\n",
       "    <tr>\n",
       "      <th>std</th>\n",
       "      <td>24755.599728</td>\n",
       "      <td>14.096616</td>\n",
       "      <td>4.475535</td>\n",
       "      <td>3.412463</td>\n",
       "      <td>0.490806</td>\n",
       "    </tr>\n",
       "    <tr>\n",
       "      <th>min</th>\n",
       "      <td>2.000000</td>\n",
       "      <td>0.000000</td>\n",
       "      <td>0.000000</td>\n",
       "      <td>1.000000</td>\n",
       "      <td>1.000000</td>\n",
       "    </tr>\n",
       "    <tr>\n",
       "      <th>25%</th>\n",
       "      <td>21650.000000</td>\n",
       "      <td>6.000000</td>\n",
       "      <td>2.000000</td>\n",
       "      <td>3.000000</td>\n",
       "      <td>1.000000</td>\n",
       "    </tr>\n",
       "    <tr>\n",
       "      <th>50%</th>\n",
       "      <td>43054.000000</td>\n",
       "      <td>15.000000</td>\n",
       "      <td>4.000000</td>\n",
       "      <td>5.000000</td>\n",
       "      <td>2.000000</td>\n",
       "    </tr>\n",
       "    <tr>\n",
       "      <th>75%</th>\n",
       "      <td>64352.000000</td>\n",
       "      <td>32.000000</td>\n",
       "      <td>10.000000</td>\n",
       "      <td>9.000000</td>\n",
       "      <td>2.000000</td>\n",
       "    </tr>\n",
       "    <tr>\n",
       "      <th>max</th>\n",
       "      <td>85794.000000</td>\n",
       "      <td>40.000000</td>\n",
       "      <td>12.000000</td>\n",
       "      <td>10.000000</td>\n",
       "      <td>2.000000</td>\n",
       "    </tr>\n",
       "  </tbody>\n",
       "</table>\n",
       "</div>"
      ],
      "text/plain": [
       "                LNR  LP_LEBENSPHASE_FEIN  LP_LEBENSPHASE_GROB  LP_STATUS_FEIN  \\\n",
       "count  42833.000000         42255.000000         42255.000000    42255.000000   \n",
       "mean   42993.165620            17.775175             5.313194        5.936528   \n",
       "std    24755.599728            14.096616             4.475535        3.412463   \n",
       "min        2.000000             0.000000             0.000000        1.000000   \n",
       "25%    21650.000000             6.000000             2.000000        3.000000   \n",
       "50%    43054.000000            15.000000             4.000000        5.000000   \n",
       "75%    64352.000000            32.000000            10.000000        9.000000   \n",
       "max    85794.000000            40.000000            12.000000       10.000000   \n",
       "\n",
       "          ANREDE_KZ  \n",
       "count  42833.000000  \n",
       "mean       1.595475  \n",
       "std        0.490806  \n",
       "min        1.000000  \n",
       "25%        1.000000  \n",
       "50%        2.000000  \n",
       "75%        2.000000  \n",
       "max        2.000000  "
      ]
     },
     "execution_count": 170,
     "metadata": {},
     "output_type": "execute_result"
    }
   ],
   "source": [
    "init_test.describe()"
   ]
  },
  {
   "cell_type": "code",
   "execution_count": 171,
   "metadata": {
    "tags": []
   },
   "outputs": [
    {
     "name": "stdout",
     "output_type": "stream",
     "text": [
      "<class 'pandas.core.frame.DataFrame'>\n",
      "RangeIndex: 42833 entries, 0 to 42832\n",
      "Data columns (total 5 columns):\n",
      " #   Column               Non-Null Count  Dtype  \n",
      "---  ------               --------------  -----  \n",
      " 0   LNR                  42833 non-null  int64  \n",
      " 1   LP_LEBENSPHASE_FEIN  42833 non-null  float64\n",
      " 2   LP_LEBENSPHASE_GROB  42833 non-null  float64\n",
      " 3   LP_STATUS_FEIN       42833 non-null  float64\n",
      " 4   ANREDE_KZ            42833 non-null  int64  \n",
      "dtypes: float64(3), int64(2)\n",
      "memory usage: 1.6 MB\n"
     ]
    }
   ],
   "source": [
    "## Need to fill in NA values\n",
    "init_test.loc[:, 'LP_LEBENSPHASE_FEIN'] = init_test['LP_LEBENSPHASE_FEIN'].fillna(init_test['LP_LEBENSPHASE_FEIN'].mean())\n",
    "init_test.loc[:, 'LP_LEBENSPHASE_GROB'] = init_test['LP_LEBENSPHASE_GROB'].fillna(init_test['LP_LEBENSPHASE_GROB'].mean())\n",
    "init_test.loc[:, 'LP_STATUS_FEIN'] = init_test['LP_STATUS_FEIN'].fillna(init_test['LP_STATUS_FEIN'].mean())\n",
    "init_test.info()"
   ]
  },
  {
   "cell_type": "code",
   "execution_count": 172,
   "metadata": {
    "tags": []
   },
   "outputs": [],
   "source": [
    "# Use the same scaler from training data\n",
    "init_test.loc[:, columns_to_normalize] = scaler.transform(init_test[columns_to_normalize])"
   ]
  },
  {
   "cell_type": "code",
   "execution_count": 173,
   "metadata": {
    "tags": []
   },
   "outputs": [
    {
     "data": {
      "text/html": [
       "<div>\n",
       "<style scoped>\n",
       "    .dataframe tbody tr th:only-of-type {\n",
       "        vertical-align: middle;\n",
       "    }\n",
       "\n",
       "    .dataframe tbody tr th {\n",
       "        vertical-align: top;\n",
       "    }\n",
       "\n",
       "    .dataframe thead th {\n",
       "        text-align: right;\n",
       "    }\n",
       "</style>\n",
       "<table border=\"1\" class=\"dataframe\">\n",
       "  <thead>\n",
       "    <tr style=\"text-align: right;\">\n",
       "      <th></th>\n",
       "      <th>LNR</th>\n",
       "      <th>LP_LEBENSPHASE_FEIN</th>\n",
       "      <th>LP_LEBENSPHASE_GROB</th>\n",
       "      <th>LP_STATUS_FEIN</th>\n",
       "      <th>ANREDE_KZ</th>\n",
       "    </tr>\n",
       "  </thead>\n",
       "  <tbody>\n",
       "    <tr>\n",
       "      <th>count</th>\n",
       "      <td>42833.000000</td>\n",
       "      <td>42833.000000</td>\n",
       "      <td>42833.000000</td>\n",
       "      <td>42833.000000</td>\n",
       "      <td>42833.000000</td>\n",
       "    </tr>\n",
       "    <tr>\n",
       "      <th>mean</th>\n",
       "      <td>42993.165620</td>\n",
       "      <td>0.008101</td>\n",
       "      <td>0.008544</td>\n",
       "      <td>0.002803</td>\n",
       "      <td>1.595475</td>\n",
       "    </tr>\n",
       "    <tr>\n",
       "      <th>std</th>\n",
       "      <td>24755.599728</td>\n",
       "      <td>0.994011</td>\n",
       "      <td>0.994352</td>\n",
       "      <td>0.997370</td>\n",
       "      <td>0.490806</td>\n",
       "    </tr>\n",
       "    <tr>\n",
       "      <th>min</th>\n",
       "      <td>2.000000</td>\n",
       "      <td>-1.253845</td>\n",
       "      <td>-1.179960</td>\n",
       "      <td>-1.449845</td>\n",
       "      <td>1.000000</td>\n",
       "    </tr>\n",
       "    <tr>\n",
       "      <th>25%</th>\n",
       "      <td>21650.000000</td>\n",
       "      <td>-0.827876</td>\n",
       "      <td>-0.732582</td>\n",
       "      <td>-0.861314</td>\n",
       "      <td>1.000000</td>\n",
       "    </tr>\n",
       "    <tr>\n",
       "      <th>50%</th>\n",
       "      <td>43054.000000</td>\n",
       "      <td>-0.188922</td>\n",
       "      <td>-0.285203</td>\n",
       "      <td>0.002803</td>\n",
       "      <td>2.000000</td>\n",
       "    </tr>\n",
       "    <tr>\n",
       "      <th>75%</th>\n",
       "      <td>64352.000000</td>\n",
       "      <td>1.017990</td>\n",
       "      <td>1.056933</td>\n",
       "      <td>0.904276</td>\n",
       "      <td>2.000000</td>\n",
       "    </tr>\n",
       "    <tr>\n",
       "      <th>max</th>\n",
       "      <td>85794.000000</td>\n",
       "      <td>1.585948</td>\n",
       "      <td>1.504312</td>\n",
       "      <td>1.198541</td>\n",
       "      <td>2.000000</td>\n",
       "    </tr>\n",
       "  </tbody>\n",
       "</table>\n",
       "</div>"
      ],
      "text/plain": [
       "                LNR  LP_LEBENSPHASE_FEIN  LP_LEBENSPHASE_GROB  LP_STATUS_FEIN  \\\n",
       "count  42833.000000         42833.000000         42833.000000    42833.000000   \n",
       "mean   42993.165620             0.008101             0.008544        0.002803   \n",
       "std    24755.599728             0.994011             0.994352        0.997370   \n",
       "min        2.000000            -1.253845            -1.179960       -1.449845   \n",
       "25%    21650.000000            -0.827876            -0.732582       -0.861314   \n",
       "50%    43054.000000            -0.188922            -0.285203        0.002803   \n",
       "75%    64352.000000             1.017990             1.056933        0.904276   \n",
       "max    85794.000000             1.585948             1.504312        1.198541   \n",
       "\n",
       "          ANREDE_KZ  \n",
       "count  42833.000000  \n",
       "mean       1.595475  \n",
       "std        0.490806  \n",
       "min        1.000000  \n",
       "25%        1.000000  \n",
       "50%        2.000000  \n",
       "75%        2.000000  \n",
       "max        2.000000  "
      ]
     },
     "execution_count": 173,
     "metadata": {},
     "output_type": "execute_result"
    }
   ],
   "source": [
    "init_test.describe()"
   ]
  },
  {
   "cell_type": "code",
   "execution_count": 174,
   "metadata": {
    "tags": []
   },
   "outputs": [],
   "source": [
    "#categorize the same as training data\n",
    "init_test.loc[:, 'ANREDE_KZ'] = init_test['ANREDE_KZ'].map({1: 'Male', 2: 'Female'}).astype('category')"
   ]
  },
  {
   "cell_type": "code",
   "execution_count": 177,
   "metadata": {
    "tags": []
   },
   "outputs": [
    {
     "data": {
      "text/html": [
       "<div>\n",
       "<style scoped>\n",
       "    .dataframe tbody tr th:only-of-type {\n",
       "        vertical-align: middle;\n",
       "    }\n",
       "\n",
       "    .dataframe tbody tr th {\n",
       "        vertical-align: top;\n",
       "    }\n",
       "\n",
       "    .dataframe thead th {\n",
       "        text-align: right;\n",
       "    }\n",
       "</style>\n",
       "<table border=\"1\" class=\"dataframe\">\n",
       "  <thead>\n",
       "    <tr style=\"text-align: right;\">\n",
       "      <th></th>\n",
       "      <th>LP_LEBENSPHASE_FEIN</th>\n",
       "      <th>LP_LEBENSPHASE_GROB</th>\n",
       "      <th>LP_STATUS_FEIN</th>\n",
       "      <th>ANREDE_KZ</th>\n",
       "    </tr>\n",
       "  </thead>\n",
       "  <tbody>\n",
       "    <tr>\n",
       "      <th>0</th>\n",
       "      <td>0.166052</td>\n",
       "      <td>-0.061514</td>\n",
       "      <td>1.198541</td>\n",
       "      <td>Male</td>\n",
       "    </tr>\n",
       "    <tr>\n",
       "      <th>1</th>\n",
       "      <td>-0.827876</td>\n",
       "      <td>-0.732582</td>\n",
       "      <td>-1.449845</td>\n",
       "      <td>Male</td>\n",
       "    </tr>\n",
       "    <tr>\n",
       "      <th>2</th>\n",
       "      <td>1.585948</td>\n",
       "      <td>1.504312</td>\n",
       "      <td>1.198541</td>\n",
       "      <td>Female</td>\n",
       "    </tr>\n",
       "    <tr>\n",
       "      <th>3</th>\n",
       "      <td>-1.253845</td>\n",
       "      <td>-1.179960</td>\n",
       "      <td>-0.861314</td>\n",
       "      <td>Female</td>\n",
       "    </tr>\n",
       "    <tr>\n",
       "      <th>4</th>\n",
       "      <td>1.372964</td>\n",
       "      <td>1.504312</td>\n",
       "      <td>0.904276</td>\n",
       "      <td>Female</td>\n",
       "    </tr>\n",
       "    <tr>\n",
       "      <th>...</th>\n",
       "      <td>...</td>\n",
       "      <td>...</td>\n",
       "      <td>...</td>\n",
       "      <td>...</td>\n",
       "    </tr>\n",
       "    <tr>\n",
       "      <th>42828</th>\n",
       "      <td>-1.253845</td>\n",
       "      <td>-1.179960</td>\n",
       "      <td>-0.272784</td>\n",
       "      <td>Female</td>\n",
       "    </tr>\n",
       "    <tr>\n",
       "      <th>42829</th>\n",
       "      <td>-0.401907</td>\n",
       "      <td>-0.508892</td>\n",
       "      <td>0.904276</td>\n",
       "      <td>Male</td>\n",
       "    </tr>\n",
       "    <tr>\n",
       "      <th>42830</th>\n",
       "      <td>1.514953</td>\n",
       "      <td>1.504312</td>\n",
       "      <td>1.198541</td>\n",
       "      <td>Male</td>\n",
       "    </tr>\n",
       "    <tr>\n",
       "      <th>42831</th>\n",
       "      <td>-0.614891</td>\n",
       "      <td>-0.508892</td>\n",
       "      <td>0.315746</td>\n",
       "      <td>Female</td>\n",
       "    </tr>\n",
       "    <tr>\n",
       "      <th>42832</th>\n",
       "      <td>-0.046933</td>\n",
       "      <td>-0.061514</td>\n",
       "      <td>0.315746</td>\n",
       "      <td>Female</td>\n",
       "    </tr>\n",
       "  </tbody>\n",
       "</table>\n",
       "<p>42833 rows × 4 columns</p>\n",
       "</div>"
      ],
      "text/plain": [
       "       LP_LEBENSPHASE_FEIN  LP_LEBENSPHASE_GROB  LP_STATUS_FEIN ANREDE_KZ\n",
       "0                 0.166052            -0.061514        1.198541      Male\n",
       "1                -0.827876            -0.732582       -1.449845      Male\n",
       "2                 1.585948             1.504312        1.198541    Female\n",
       "3                -1.253845            -1.179960       -0.861314    Female\n",
       "4                 1.372964             1.504312        0.904276    Female\n",
       "...                    ...                  ...             ...       ...\n",
       "42828            -1.253845            -1.179960       -0.272784    Female\n",
       "42829            -0.401907            -0.508892        0.904276      Male\n",
       "42830             1.514953             1.504312        1.198541      Male\n",
       "42831            -0.614891            -0.508892        0.315746    Female\n",
       "42832            -0.046933            -0.061514        0.315746    Female\n",
       "\n",
       "[42833 rows x 4 columns]"
      ]
     },
     "execution_count": 177,
     "metadata": {},
     "output_type": "execute_result"
    }
   ],
   "source": [
    "init_test.loc[:, ~init_test.columns.isin(['LNR'])]"
   ]
  },
  {
   "cell_type": "code",
   "execution_count": 178,
   "metadata": {
    "tags": []
   },
   "outputs": [
    {
     "name": "stdout",
     "output_type": "stream",
     "text": [
      "<class 'pandas.core.frame.DataFrame'>\n",
      "RangeIndex: 42833 entries, 0 to 42832\n",
      "Data columns (total 4 columns):\n",
      " #   Column               Non-Null Count  Dtype   \n",
      "---  ------               --------------  -----   \n",
      " 0   LP_LEBENSPHASE_FEIN  42833 non-null  float64 \n",
      " 1   LP_LEBENSPHASE_GROB  42833 non-null  float64 \n",
      " 2   LP_STATUS_FEIN       42833 non-null  float64 \n",
      " 3   ANREDE_KZ            42833 non-null  category\n",
      "dtypes: category(1), float64(3)\n",
      "memory usage: 1.0 MB\n"
     ]
    }
   ],
   "source": [
    "init_test.info()"
   ]
  },
  {
   "cell_type": "code",
   "execution_count": 179,
   "metadata": {
    "tags": []
   },
   "outputs": [
    {
     "data": {
      "text/html": [
       "<div>\n",
       "<style scoped>\n",
       "    .dataframe tbody tr th:only-of-type {\n",
       "        vertical-align: middle;\n",
       "    }\n",
       "\n",
       "    .dataframe tbody tr th {\n",
       "        vertical-align: top;\n",
       "    }\n",
       "\n",
       "    .dataframe thead th {\n",
       "        text-align: right;\n",
       "    }\n",
       "</style>\n",
       "<table border=\"1\" class=\"dataframe\">\n",
       "  <thead>\n",
       "    <tr style=\"text-align: right;\">\n",
       "      <th></th>\n",
       "      <th>LP_LEBENSPHASE_FEIN</th>\n",
       "      <th>LP_LEBENSPHASE_GROB</th>\n",
       "      <th>LP_STATUS_FEIN</th>\n",
       "      <th>ANREDE_KZ</th>\n",
       "    </tr>\n",
       "  </thead>\n",
       "  <tbody>\n",
       "    <tr>\n",
       "      <th>0</th>\n",
       "      <td>0.166052</td>\n",
       "      <td>-0.061514</td>\n",
       "      <td>1.198541</td>\n",
       "      <td>Male</td>\n",
       "    </tr>\n",
       "    <tr>\n",
       "      <th>1</th>\n",
       "      <td>-0.827876</td>\n",
       "      <td>-0.732582</td>\n",
       "      <td>-1.449845</td>\n",
       "      <td>Male</td>\n",
       "    </tr>\n",
       "    <tr>\n",
       "      <th>2</th>\n",
       "      <td>1.585948</td>\n",
       "      <td>1.504312</td>\n",
       "      <td>1.198541</td>\n",
       "      <td>Female</td>\n",
       "    </tr>\n",
       "    <tr>\n",
       "      <th>3</th>\n",
       "      <td>-1.253845</td>\n",
       "      <td>-1.179960</td>\n",
       "      <td>-0.861314</td>\n",
       "      <td>Female</td>\n",
       "    </tr>\n",
       "    <tr>\n",
       "      <th>4</th>\n",
       "      <td>1.372964</td>\n",
       "      <td>1.504312</td>\n",
       "      <td>0.904276</td>\n",
       "      <td>Female</td>\n",
       "    </tr>\n",
       "  </tbody>\n",
       "</table>\n",
       "</div>"
      ],
      "text/plain": [
       "   LP_LEBENSPHASE_FEIN  LP_LEBENSPHASE_GROB  LP_STATUS_FEIN ANREDE_KZ\n",
       "0             0.166052            -0.061514        1.198541      Male\n",
       "1            -0.827876            -0.732582       -1.449845      Male\n",
       "2             1.585948             1.504312        1.198541    Female\n",
       "3            -1.253845            -1.179960       -0.861314    Female\n",
       "4             1.372964             1.504312        0.904276    Female"
      ]
     },
     "execution_count": 179,
     "metadata": {},
     "output_type": "execute_result"
    }
   ],
   "source": [
    "init_test.head()"
   ]
  },
  {
   "cell_type": "code",
   "execution_count": 180,
   "metadata": {
    "tags": []
   },
   "outputs": [
    {
     "data": {
      "text/plain": [
       "count          42833\n",
       "unique             1\n",
       "top       NOPURCHASE\n",
       "freq           42833\n",
       "Name: RESPONSE, dtype: object"
      ]
     },
     "execution_count": 180,
     "metadata": {},
     "output_type": "execute_result"
    }
   ],
   "source": [
    "predictions = predictor.predict(init_test.copy())\n",
    "predictions.describe()"
   ]
  },
  {
   "cell_type": "code",
   "execution_count": 93,
   "metadata": {
    "tags": []
   },
   "outputs": [
    {
     "data": {
      "text/plain": [
       "0    NOPURCHASE\n",
       "1    NOPURCHASE\n",
       "2    NOPURCHASE\n",
       "3    NOPURCHASE\n",
       "4    NOPURCHASE\n",
       "Name: RESPONSE, dtype: object"
      ]
     },
     "execution_count": 93,
     "metadata": {},
     "output_type": "execute_result"
    }
   ],
   "source": [
    "predictions.head()"
   ]
  },
  {
   "cell_type": "code",
   "execution_count": null,
   "metadata": {},
   "outputs": [],
   "source": []
  }
 ],
 "metadata": {
  "kernelspec": {
   "display_name": "conda_python3",
   "language": "python",
   "name": "conda_python3"
  },
  "language_info": {
   "codemirror_mode": {
    "name": "ipython",
    "version": 3
   },
   "file_extension": ".py",
   "mimetype": "text/x-python",
   "name": "python",
   "nbconvert_exporter": "python",
   "pygments_lexer": "ipython3",
   "version": "3.10.13"
  }
 },
 "nbformat": 4,
 "nbformat_minor": 4
}
