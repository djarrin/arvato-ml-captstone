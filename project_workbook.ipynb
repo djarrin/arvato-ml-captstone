{
 "cells": [
  {
   "cell_type": "markdown",
   "metadata": {},
   "source": [
    "# Capstone Project: Create a Customer Segmentation Report for Arvato Financial Services\n",
    "\n",
    "In this project, you will analyze demographics data for customers of a mail-order sales company in Germany, comparing it against demographics information for the general population. You'll use unsupervised learning techniques to perform customer segmentation, identifying the parts of the population that best describe the core customer base of the company. Then, you'll apply what you've learned on a third dataset with demographics information for targets of a marketing campaign for the company, and use a model to predict which individuals are most likely to convert into becoming customers for the company. The data that you will use has been provided by our partners at Bertelsmann Arvato Analytics, and represents a real-life data science task.\n",
    "\n",
    "If you completed the first term of this program, you will be familiar with the first part of this project, from the unsupervised learning project. The versions of those two datasets used in this project will include many more features and has not been pre-cleaned. You are also free to choose whatever approach you'd like to analyzing the data rather than follow pre-determined steps. In your work on this project, make sure that you carefully document your steps and decisions, since your main deliverable for this project will be a blog post reporting your findings."
   ]
  },
  {
   "cell_type": "code",
   "execution_count": 75,
   "metadata": {
    "tags": []
   },
   "outputs": [],
   "source": [
    "# import libraries here; add more as necessary\n",
    "import numpy as np\n",
    "import pandas as pd\n",
    "import matplotlib.pyplot as plt\n",
    "import seaborn as sns\n",
    "import os\n",
    "import shutil\n",
    "import sagemaker\n",
    "from sagemaker import get_execution_role\n",
    "import subprocess\n",
    "import json\n",
    "from sklearn.model_selection import train_test_split\n",
    "from sklearn.preprocessing import StandardScaler\n",
    "import math\n",
    "\n",
    "\n",
    "\n",
    "\n",
    "# magic word for producing visualizations in notebook\n",
    "%matplotlib inline"
   ]
  },
  {
   "cell_type": "code",
   "execution_count": 2,
   "metadata": {
    "tags": []
   },
   "outputs": [
    {
     "name": "stdout",
     "output_type": "stream",
     "text": [
      "sagemaker.config INFO - Not applying SDK defaults from location: /etc/xdg/sagemaker/config.yaml\n",
      "sagemaker.config INFO - Not applying SDK defaults from location: /home/ec2-user/.config/sagemaker/config.yaml\n",
      "sagemaker.config INFO - Not applying SDK defaults from location: /etc/xdg/sagemaker/config.yaml\n",
      "sagemaker.config INFO - Not applying SDK defaults from location: /home/ec2-user/.config/sagemaker/config.yaml\n"
     ]
    }
   ],
   "source": [
    "# Setup Sagemaker Session\n",
    "sagemaker_session = sagemaker.Session()\n",
    "bucket = sagemaker_session.default_bucket()\n",
    "execution_role = sagemaker.session.get_execution_role()\n",
    "region = sagemaker_session.boto_region_name"
   ]
  },
  {
   "cell_type": "code",
   "execution_count": 3,
   "metadata": {
    "tags": []
   },
   "outputs": [],
   "source": [
    "#download data to notebook\n",
    "#define data location constants\n",
    "local_data_dir = 'data'\n",
    "s3_data_path = f's3://{bucket}/data' \n",
    "s3_model_path = f's3://{bucket}/model'"
   ]
  },
  {
   "cell_type": "markdown",
   "metadata": {
    "tags": []
   },
   "source": [
    "## Initial Model and Kaggle Submission\n",
    "\n",
    "Below I will be setting up the an initial AutoGluon run without any refienment of the data. Then I'll be submitting to Kaggle."
   ]
  },
  {
   "cell_type": "code",
   "execution_count": 4,
   "metadata": {
    "tags": []
   },
   "outputs": [],
   "source": [
    "%%capture\n",
    "\n",
    "!pip install -U pip\n",
    "!pip install -U setuptools wheel\n",
    "!pip install -U \"mxnet<2.0.0\" bokeh==2.0.1\n",
    "!pip install autogluon #--no-cache-dir\n",
    "!pip install kaggle\n",
    "!pip install python-dotenv\n",
    "from autogluon.tabular import TabularPredictor\n"
   ]
  },
  {
   "cell_type": "markdown",
   "metadata": {},
   "source": [
    "### Setting up Kaggle Creds\n"
   ]
  },
  {
   "cell_type": "code",
   "execution_count": 12,
   "metadata": {
    "tags": []
   },
   "outputs": [
    {
     "name": "stdout",
     "output_type": "stream",
     "text": [
      "env: KAGGLE_CONFIG_DIR=kaggle\n"
     ]
    }
   ],
   "source": [
    "!mkdir -p kaggle\n",
    "!touch kaggle/kaggle.json\n",
    "!chmod 600 kaggle/kaggle.json"
   ]
  },
  {
   "cell_type": "code",
   "execution_count": 162,
   "metadata": {
    "tags": []
   },
   "outputs": [
    {
     "name": "stdout",
     "output_type": "stream",
     "text": [
      "env: KAGGLE_CONFIG_DIR=kaggle\n"
     ]
    }
   ],
   "source": [
    "%env KAGGLE_CONFIG_DIR=kaggle"
   ]
  },
  {
   "cell_type": "code",
   "execution_count": 171,
   "metadata": {
    "tags": []
   },
   "outputs": [],
   "source": [
    "from dotenv import dotenv_values\n",
    "\n",
    "CONFIG = dotenv_values('env.txt')\n",
    "kaggle_username = CONFIG['KAGGLE_USERNAME']\n",
    "kaggle_key = CONFIG['KAGGLE_KEY']\n",
    "\n",
    "# Save API token the kaggle.json file\n",
    "with open(\"kaggle/kaggle.json\", \"w\") as f:\n",
    "    f.write(json.dumps({\"username\": kaggle_username, \"key\": kaggle_key}))"
   ]
  },
  {
   "cell_type": "markdown",
   "metadata": {},
   "source": [
    "### Downloading and Prepping Data"
   ]
  },
  {
   "cell_type": "code",
   "execution_count": 112,
   "metadata": {
    "tags": []
   },
   "outputs": [
    {
     "name": "stderr",
     "output_type": "stream",
     "text": [
      "/tmp/ipykernel_7054/3792393069.py:1: DtypeWarning: Columns (18,19) have mixed types. Specify dtype option on import or set low_memory=False.\n",
      "  train_data = pd.read_csv(f'{s3_data_path}/train.csv')\n"
     ]
    }
   ],
   "source": [
    "train_data = pd.read_csv(f'{s3_data_path}/train.csv')"
   ]
  },
  {
   "cell_type": "code",
   "execution_count": 113,
   "metadata": {
    "tags": []
   },
   "outputs": [
    {
     "data": {
      "text/html": [
       "<div>\n",
       "<style scoped>\n",
       "    .dataframe tbody tr th:only-of-type {\n",
       "        vertical-align: middle;\n",
       "    }\n",
       "\n",
       "    .dataframe tbody tr th {\n",
       "        vertical-align: top;\n",
       "    }\n",
       "\n",
       "    .dataframe thead th {\n",
       "        text-align: right;\n",
       "    }\n",
       "</style>\n",
       "<table border=\"1\" class=\"dataframe\">\n",
       "  <thead>\n",
       "    <tr style=\"text-align: right;\">\n",
       "      <th></th>\n",
       "      <th>LNR</th>\n",
       "      <th>AGER_TYP</th>\n",
       "      <th>AKT_DAT_KL</th>\n",
       "      <th>ALTER_HH</th>\n",
       "      <th>ALTER_KIND1</th>\n",
       "      <th>ALTER_KIND2</th>\n",
       "      <th>ALTER_KIND3</th>\n",
       "      <th>ALTER_KIND4</th>\n",
       "      <th>ALTERSKATEGORIE_FEIN</th>\n",
       "      <th>ANZ_HAUSHALTE_AKTIV</th>\n",
       "      <th>...</th>\n",
       "      <th>VK_DHT4A</th>\n",
       "      <th>VK_DISTANZ</th>\n",
       "      <th>VK_ZG11</th>\n",
       "      <th>W_KEIT_KIND_HH</th>\n",
       "      <th>WOHNDAUER_2008</th>\n",
       "      <th>WOHNLAGE</th>\n",
       "      <th>ZABEOTYP</th>\n",
       "      <th>RESPONSE</th>\n",
       "      <th>ANREDE_KZ</th>\n",
       "      <th>ALTERSKATEGORIE_GROB</th>\n",
       "    </tr>\n",
       "  </thead>\n",
       "  <tbody>\n",
       "    <tr>\n",
       "      <th>0</th>\n",
       "      <td>1763</td>\n",
       "      <td>2</td>\n",
       "      <td>1.0</td>\n",
       "      <td>8.0</td>\n",
       "      <td>NaN</td>\n",
       "      <td>NaN</td>\n",
       "      <td>NaN</td>\n",
       "      <td>NaN</td>\n",
       "      <td>8.0</td>\n",
       "      <td>15.0</td>\n",
       "      <td>...</td>\n",
       "      <td>5.0</td>\n",
       "      <td>2.0</td>\n",
       "      <td>1.0</td>\n",
       "      <td>6.0</td>\n",
       "      <td>9.0</td>\n",
       "      <td>3.0</td>\n",
       "      <td>3</td>\n",
       "      <td>0</td>\n",
       "      <td>2</td>\n",
       "      <td>4</td>\n",
       "    </tr>\n",
       "    <tr>\n",
       "      <th>1</th>\n",
       "      <td>1771</td>\n",
       "      <td>1</td>\n",
       "      <td>4.0</td>\n",
       "      <td>13.0</td>\n",
       "      <td>NaN</td>\n",
       "      <td>NaN</td>\n",
       "      <td>NaN</td>\n",
       "      <td>NaN</td>\n",
       "      <td>13.0</td>\n",
       "      <td>1.0</td>\n",
       "      <td>...</td>\n",
       "      <td>1.0</td>\n",
       "      <td>2.0</td>\n",
       "      <td>1.0</td>\n",
       "      <td>4.0</td>\n",
       "      <td>9.0</td>\n",
       "      <td>7.0</td>\n",
       "      <td>1</td>\n",
       "      <td>0</td>\n",
       "      <td>2</td>\n",
       "      <td>3</td>\n",
       "    </tr>\n",
       "    <tr>\n",
       "      <th>2</th>\n",
       "      <td>1776</td>\n",
       "      <td>1</td>\n",
       "      <td>1.0</td>\n",
       "      <td>9.0</td>\n",
       "      <td>NaN</td>\n",
       "      <td>NaN</td>\n",
       "      <td>NaN</td>\n",
       "      <td>NaN</td>\n",
       "      <td>7.0</td>\n",
       "      <td>0.0</td>\n",
       "      <td>...</td>\n",
       "      <td>6.0</td>\n",
       "      <td>4.0</td>\n",
       "      <td>2.0</td>\n",
       "      <td>NaN</td>\n",
       "      <td>9.0</td>\n",
       "      <td>2.0</td>\n",
       "      <td>3</td>\n",
       "      <td>0</td>\n",
       "      <td>1</td>\n",
       "      <td>4</td>\n",
       "    </tr>\n",
       "    <tr>\n",
       "      <th>3</th>\n",
       "      <td>1460</td>\n",
       "      <td>2</td>\n",
       "      <td>1.0</td>\n",
       "      <td>6.0</td>\n",
       "      <td>NaN</td>\n",
       "      <td>NaN</td>\n",
       "      <td>NaN</td>\n",
       "      <td>NaN</td>\n",
       "      <td>6.0</td>\n",
       "      <td>4.0</td>\n",
       "      <td>...</td>\n",
       "      <td>8.0</td>\n",
       "      <td>11.0</td>\n",
       "      <td>11.0</td>\n",
       "      <td>6.0</td>\n",
       "      <td>9.0</td>\n",
       "      <td>1.0</td>\n",
       "      <td>3</td>\n",
       "      <td>0</td>\n",
       "      <td>2</td>\n",
       "      <td>4</td>\n",
       "    </tr>\n",
       "    <tr>\n",
       "      <th>4</th>\n",
       "      <td>1783</td>\n",
       "      <td>2</td>\n",
       "      <td>1.0</td>\n",
       "      <td>9.0</td>\n",
       "      <td>NaN</td>\n",
       "      <td>NaN</td>\n",
       "      <td>NaN</td>\n",
       "      <td>NaN</td>\n",
       "      <td>9.0</td>\n",
       "      <td>53.0</td>\n",
       "      <td>...</td>\n",
       "      <td>2.0</td>\n",
       "      <td>2.0</td>\n",
       "      <td>1.0</td>\n",
       "      <td>6.0</td>\n",
       "      <td>9.0</td>\n",
       "      <td>3.0</td>\n",
       "      <td>3</td>\n",
       "      <td>0</td>\n",
       "      <td>1</td>\n",
       "      <td>3</td>\n",
       "    </tr>\n",
       "  </tbody>\n",
       "</table>\n",
       "<p>5 rows × 367 columns</p>\n",
       "</div>"
      ],
      "text/plain": [
       "    LNR  AGER_TYP  AKT_DAT_KL  ALTER_HH  ALTER_KIND1  ALTER_KIND2  \\\n",
       "0  1763         2         1.0       8.0          NaN          NaN   \n",
       "1  1771         1         4.0      13.0          NaN          NaN   \n",
       "2  1776         1         1.0       9.0          NaN          NaN   \n",
       "3  1460         2         1.0       6.0          NaN          NaN   \n",
       "4  1783         2         1.0       9.0          NaN          NaN   \n",
       "\n",
       "   ALTER_KIND3  ALTER_KIND4  ALTERSKATEGORIE_FEIN  ANZ_HAUSHALTE_AKTIV  ...  \\\n",
       "0          NaN          NaN                   8.0                 15.0  ...   \n",
       "1          NaN          NaN                  13.0                  1.0  ...   \n",
       "2          NaN          NaN                   7.0                  0.0  ...   \n",
       "3          NaN          NaN                   6.0                  4.0  ...   \n",
       "4          NaN          NaN                   9.0                 53.0  ...   \n",
       "\n",
       "   VK_DHT4A  VK_DISTANZ  VK_ZG11  W_KEIT_KIND_HH  WOHNDAUER_2008  WOHNLAGE  \\\n",
       "0       5.0         2.0      1.0             6.0             9.0       3.0   \n",
       "1       1.0         2.0      1.0             4.0             9.0       7.0   \n",
       "2       6.0         4.0      2.0             NaN             9.0       2.0   \n",
       "3       8.0        11.0     11.0             6.0             9.0       1.0   \n",
       "4       2.0         2.0      1.0             6.0             9.0       3.0   \n",
       "\n",
       "   ZABEOTYP RESPONSE ANREDE_KZ ALTERSKATEGORIE_GROB  \n",
       "0         3        0         2                    4  \n",
       "1         1        0         2                    3  \n",
       "2         3        0         1                    4  \n",
       "3         3        0         2                    4  \n",
       "4         3        0         1                    3  \n",
       "\n",
       "[5 rows x 367 columns]"
      ]
     },
     "execution_count": 113,
     "metadata": {},
     "output_type": "execute_result"
    }
   ],
   "source": [
    "train_data.head()"
   ]
  },
  {
   "cell_type": "code",
   "execution_count": 114,
   "metadata": {
    "tags": []
   },
   "outputs": [
    {
     "name": "stdout",
     "output_type": "stream",
     "text": [
      "<class 'pandas.core.frame.DataFrame'>\n",
      "RangeIndex: 42962 entries, 0 to 42961\n",
      "Columns: 367 entries, LNR to ALTERSKATEGORIE_GROB\n",
      "dtypes: float64(267), int64(94), object(6)\n",
      "memory usage: 120.3+ MB\n"
     ]
    }
   ],
   "source": [
    "train_data.info()"
   ]
  },
  {
   "cell_type": "code",
   "execution_count": 115,
   "metadata": {
    "tags": []
   },
   "outputs": [
    {
     "data": {
      "text/html": [
       "<div>\n",
       "<style scoped>\n",
       "    .dataframe tbody tr th:only-of-type {\n",
       "        vertical-align: middle;\n",
       "    }\n",
       "\n",
       "    .dataframe tbody tr th {\n",
       "        vertical-align: top;\n",
       "    }\n",
       "\n",
       "    .dataframe thead th {\n",
       "        text-align: right;\n",
       "    }\n",
       "</style>\n",
       "<table border=\"1\" class=\"dataframe\">\n",
       "  <thead>\n",
       "    <tr style=\"text-align: right;\">\n",
       "      <th></th>\n",
       "      <th>LNR</th>\n",
       "      <th>AGER_TYP</th>\n",
       "      <th>AKT_DAT_KL</th>\n",
       "      <th>ALTER_HH</th>\n",
       "      <th>ALTER_KIND1</th>\n",
       "      <th>ALTER_KIND2</th>\n",
       "      <th>ALTER_KIND3</th>\n",
       "      <th>ALTER_KIND4</th>\n",
       "      <th>ALTERSKATEGORIE_FEIN</th>\n",
       "      <th>ANZ_HAUSHALTE_AKTIV</th>\n",
       "      <th>...</th>\n",
       "      <th>VK_DHT4A</th>\n",
       "      <th>VK_DISTANZ</th>\n",
       "      <th>VK_ZG11</th>\n",
       "      <th>W_KEIT_KIND_HH</th>\n",
       "      <th>WOHNDAUER_2008</th>\n",
       "      <th>WOHNLAGE</th>\n",
       "      <th>ZABEOTYP</th>\n",
       "      <th>RESPONSE</th>\n",
       "      <th>ANREDE_KZ</th>\n",
       "      <th>ALTERSKATEGORIE_GROB</th>\n",
       "    </tr>\n",
       "  </thead>\n",
       "  <tbody>\n",
       "    <tr>\n",
       "      <th>count</th>\n",
       "      <td>42962.000000</td>\n",
       "      <td>42962.000000</td>\n",
       "      <td>35993.000000</td>\n",
       "      <td>35993.000000</td>\n",
       "      <td>1988.000000</td>\n",
       "      <td>756.000000</td>\n",
       "      <td>174.000000</td>\n",
       "      <td>41.000000</td>\n",
       "      <td>34807.000000</td>\n",
       "      <td>35185.000000</td>\n",
       "      <td>...</td>\n",
       "      <td>35695.000000</td>\n",
       "      <td>35695.000000</td>\n",
       "      <td>35695.000000</td>\n",
       "      <td>33284.000000</td>\n",
       "      <td>35993.000000</td>\n",
       "      <td>35185.000000</td>\n",
       "      <td>42962.000000</td>\n",
       "      <td>42962.000000</td>\n",
       "      <td>42962.000000</td>\n",
       "      <td>42962.000000</td>\n",
       "    </tr>\n",
       "    <tr>\n",
       "      <th>mean</th>\n",
       "      <td>42803.120129</td>\n",
       "      <td>0.542922</td>\n",
       "      <td>1.525241</td>\n",
       "      <td>10.285556</td>\n",
       "      <td>12.606137</td>\n",
       "      <td>13.783069</td>\n",
       "      <td>14.655172</td>\n",
       "      <td>14.195122</td>\n",
       "      <td>9.855058</td>\n",
       "      <td>6.706096</td>\n",
       "      <td>...</td>\n",
       "      <td>4.318644</td>\n",
       "      <td>4.505953</td>\n",
       "      <td>3.116963</td>\n",
       "      <td>4.488403</td>\n",
       "      <td>8.729947</td>\n",
       "      <td>4.059685</td>\n",
       "      <td>2.804199</td>\n",
       "      <td>0.012383</td>\n",
       "      <td>1.595084</td>\n",
       "      <td>3.213910</td>\n",
       "    </tr>\n",
       "    <tr>\n",
       "      <th>std</th>\n",
       "      <td>24778.339984</td>\n",
       "      <td>1.412924</td>\n",
       "      <td>1.741500</td>\n",
       "      <td>6.082610</td>\n",
       "      <td>3.924976</td>\n",
       "      <td>3.065817</td>\n",
       "      <td>2.615329</td>\n",
       "      <td>3.034959</td>\n",
       "      <td>4.373539</td>\n",
       "      <td>15.151790</td>\n",
       "      <td>...</td>\n",
       "      <td>3.165199</td>\n",
       "      <td>3.289502</td>\n",
       "      <td>2.534331</td>\n",
       "      <td>1.889573</td>\n",
       "      <td>1.010545</td>\n",
       "      <td>2.046697</td>\n",
       "      <td>1.121585</td>\n",
       "      <td>0.110589</td>\n",
       "      <td>0.490881</td>\n",
       "      <td>1.067475</td>\n",
       "    </tr>\n",
       "    <tr>\n",
       "      <th>min</th>\n",
       "      <td>1.000000</td>\n",
       "      <td>-1.000000</td>\n",
       "      <td>1.000000</td>\n",
       "      <td>0.000000</td>\n",
       "      <td>2.000000</td>\n",
       "      <td>5.000000</td>\n",
       "      <td>6.000000</td>\n",
       "      <td>6.000000</td>\n",
       "      <td>0.000000</td>\n",
       "      <td>0.000000</td>\n",
       "      <td>...</td>\n",
       "      <td>1.000000</td>\n",
       "      <td>1.000000</td>\n",
       "      <td>1.000000</td>\n",
       "      <td>0.000000</td>\n",
       "      <td>1.000000</td>\n",
       "      <td>0.000000</td>\n",
       "      <td>1.000000</td>\n",
       "      <td>0.000000</td>\n",
       "      <td>1.000000</td>\n",
       "      <td>1.000000</td>\n",
       "    </tr>\n",
       "    <tr>\n",
       "      <th>25%</th>\n",
       "      <td>21284.250000</td>\n",
       "      <td>-1.000000</td>\n",
       "      <td>1.000000</td>\n",
       "      <td>8.000000</td>\n",
       "      <td>9.000000</td>\n",
       "      <td>12.000000</td>\n",
       "      <td>13.000000</td>\n",
       "      <td>13.000000</td>\n",
       "      <td>8.000000</td>\n",
       "      <td>1.000000</td>\n",
       "      <td>...</td>\n",
       "      <td>1.000000</td>\n",
       "      <td>2.000000</td>\n",
       "      <td>1.000000</td>\n",
       "      <td>3.000000</td>\n",
       "      <td>9.000000</td>\n",
       "      <td>3.000000</td>\n",
       "      <td>3.000000</td>\n",
       "      <td>0.000000</td>\n",
       "      <td>1.000000</td>\n",
       "      <td>3.000000</td>\n",
       "    </tr>\n",
       "    <tr>\n",
       "      <th>50%</th>\n",
       "      <td>42710.000000</td>\n",
       "      <td>1.000000</td>\n",
       "      <td>1.000000</td>\n",
       "      <td>10.000000</td>\n",
       "      <td>13.000000</td>\n",
       "      <td>14.000000</td>\n",
       "      <td>15.000000</td>\n",
       "      <td>15.000000</td>\n",
       "      <td>10.000000</td>\n",
       "      <td>2.000000</td>\n",
       "      <td>...</td>\n",
       "      <td>3.000000</td>\n",
       "      <td>4.000000</td>\n",
       "      <td>2.000000</td>\n",
       "      <td>6.000000</td>\n",
       "      <td>9.000000</td>\n",
       "      <td>3.000000</td>\n",
       "      <td>3.000000</td>\n",
       "      <td>0.000000</td>\n",
       "      <td>2.000000</td>\n",
       "      <td>4.000000</td>\n",
       "    </tr>\n",
       "    <tr>\n",
       "      <th>75%</th>\n",
       "      <td>64340.500000</td>\n",
       "      <td>2.000000</td>\n",
       "      <td>1.000000</td>\n",
       "      <td>15.000000</td>\n",
       "      <td>16.000000</td>\n",
       "      <td>16.000000</td>\n",
       "      <td>17.000000</td>\n",
       "      <td>17.000000</td>\n",
       "      <td>13.000000</td>\n",
       "      <td>7.000000</td>\n",
       "      <td>...</td>\n",
       "      <td>7.000000</td>\n",
       "      <td>7.000000</td>\n",
       "      <td>4.000000</td>\n",
       "      <td>6.000000</td>\n",
       "      <td>9.000000</td>\n",
       "      <td>7.000000</td>\n",
       "      <td>3.000000</td>\n",
       "      <td>0.000000</td>\n",
       "      <td>2.000000</td>\n",
       "      <td>4.000000</td>\n",
       "    </tr>\n",
       "    <tr>\n",
       "      <th>max</th>\n",
       "      <td>85795.000000</td>\n",
       "      <td>3.000000</td>\n",
       "      <td>9.000000</td>\n",
       "      <td>21.000000</td>\n",
       "      <td>18.000000</td>\n",
       "      <td>18.000000</td>\n",
       "      <td>18.000000</td>\n",
       "      <td>18.000000</td>\n",
       "      <td>25.000000</td>\n",
       "      <td>438.000000</td>\n",
       "      <td>...</td>\n",
       "      <td>11.000000</td>\n",
       "      <td>13.000000</td>\n",
       "      <td>11.000000</td>\n",
       "      <td>6.000000</td>\n",
       "      <td>9.000000</td>\n",
       "      <td>8.000000</td>\n",
       "      <td>6.000000</td>\n",
       "      <td>1.000000</td>\n",
       "      <td>2.000000</td>\n",
       "      <td>9.000000</td>\n",
       "    </tr>\n",
       "  </tbody>\n",
       "</table>\n",
       "<p>8 rows × 361 columns</p>\n",
       "</div>"
      ],
      "text/plain": [
       "                LNR      AGER_TYP    AKT_DAT_KL      ALTER_HH  ALTER_KIND1  \\\n",
       "count  42962.000000  42962.000000  35993.000000  35993.000000  1988.000000   \n",
       "mean   42803.120129      0.542922      1.525241     10.285556    12.606137   \n",
       "std    24778.339984      1.412924      1.741500      6.082610     3.924976   \n",
       "min        1.000000     -1.000000      1.000000      0.000000     2.000000   \n",
       "25%    21284.250000     -1.000000      1.000000      8.000000     9.000000   \n",
       "50%    42710.000000      1.000000      1.000000     10.000000    13.000000   \n",
       "75%    64340.500000      2.000000      1.000000     15.000000    16.000000   \n",
       "max    85795.000000      3.000000      9.000000     21.000000    18.000000   \n",
       "\n",
       "       ALTER_KIND2  ALTER_KIND3  ALTER_KIND4  ALTERSKATEGORIE_FEIN  \\\n",
       "count   756.000000   174.000000    41.000000          34807.000000   \n",
       "mean     13.783069    14.655172    14.195122              9.855058   \n",
       "std       3.065817     2.615329     3.034959              4.373539   \n",
       "min       5.000000     6.000000     6.000000              0.000000   \n",
       "25%      12.000000    13.000000    13.000000              8.000000   \n",
       "50%      14.000000    15.000000    15.000000             10.000000   \n",
       "75%      16.000000    17.000000    17.000000             13.000000   \n",
       "max      18.000000    18.000000    18.000000             25.000000   \n",
       "\n",
       "       ANZ_HAUSHALTE_AKTIV  ...      VK_DHT4A    VK_DISTANZ       VK_ZG11  \\\n",
       "count         35185.000000  ...  35695.000000  35695.000000  35695.000000   \n",
       "mean              6.706096  ...      4.318644      4.505953      3.116963   \n",
       "std              15.151790  ...      3.165199      3.289502      2.534331   \n",
       "min               0.000000  ...      1.000000      1.000000      1.000000   \n",
       "25%               1.000000  ...      1.000000      2.000000      1.000000   \n",
       "50%               2.000000  ...      3.000000      4.000000      2.000000   \n",
       "75%               7.000000  ...      7.000000      7.000000      4.000000   \n",
       "max             438.000000  ...     11.000000     13.000000     11.000000   \n",
       "\n",
       "       W_KEIT_KIND_HH  WOHNDAUER_2008      WOHNLAGE      ZABEOTYP  \\\n",
       "count    33284.000000    35993.000000  35185.000000  42962.000000   \n",
       "mean         4.488403        8.729947      4.059685      2.804199   \n",
       "std          1.889573        1.010545      2.046697      1.121585   \n",
       "min          0.000000        1.000000      0.000000      1.000000   \n",
       "25%          3.000000        9.000000      3.000000      3.000000   \n",
       "50%          6.000000        9.000000      3.000000      3.000000   \n",
       "75%          6.000000        9.000000      7.000000      3.000000   \n",
       "max          6.000000        9.000000      8.000000      6.000000   \n",
       "\n",
       "           RESPONSE     ANREDE_KZ  ALTERSKATEGORIE_GROB  \n",
       "count  42962.000000  42962.000000          42962.000000  \n",
       "mean       0.012383      1.595084              3.213910  \n",
       "std        0.110589      0.490881              1.067475  \n",
       "min        0.000000      1.000000              1.000000  \n",
       "25%        0.000000      1.000000              3.000000  \n",
       "50%        0.000000      2.000000              4.000000  \n",
       "75%        0.000000      2.000000              4.000000  \n",
       "max        1.000000      2.000000              9.000000  \n",
       "\n",
       "[8 rows x 361 columns]"
      ]
     },
     "execution_count": 115,
     "metadata": {},
     "output_type": "execute_result"
    }
   ],
   "source": [
    "train_data.describe()"
   ]
  },
  {
   "cell_type": "markdown",
   "metadata": {},
   "source": [
    "#### First Submission\n",
    "To start for our first submission we're going to drop all the columns but the ones explored in the proposal section, this is simply to get a basic submission and baseline to compare against at the end of the project."
   ]
  },
  {
   "cell_type": "markdown",
   "metadata": {},
   "source": [
    "#### Drop Columns, DropNA, Normalize"
   ]
  },
  {
   "cell_type": "code",
   "execution_count": 116,
   "metadata": {
    "tags": []
   },
   "outputs": [
    {
     "data": {
      "text/html": [
       "<div>\n",
       "<style scoped>\n",
       "    .dataframe tbody tr th:only-of-type {\n",
       "        vertical-align: middle;\n",
       "    }\n",
       "\n",
       "    .dataframe tbody tr th {\n",
       "        vertical-align: top;\n",
       "    }\n",
       "\n",
       "    .dataframe thead th {\n",
       "        text-align: right;\n",
       "    }\n",
       "</style>\n",
       "<table border=\"1\" class=\"dataframe\">\n",
       "  <thead>\n",
       "    <tr style=\"text-align: right;\">\n",
       "      <th></th>\n",
       "      <th>LNR</th>\n",
       "      <th>RESPONSE</th>\n",
       "      <th>LP_LEBENSPHASE_FEIN</th>\n",
       "      <th>LP_LEBENSPHASE_GROB</th>\n",
       "      <th>LP_STATUS_FEIN</th>\n",
       "      <th>ANREDE_KZ</th>\n",
       "    </tr>\n",
       "  </thead>\n",
       "  <tbody>\n",
       "    <tr>\n",
       "      <th>count</th>\n",
       "      <td>42962.000000</td>\n",
       "      <td>42962.000000</td>\n",
       "      <td>42357.000000</td>\n",
       "      <td>42357.000000</td>\n",
       "      <td>42357.000000</td>\n",
       "      <td>42962.000000</td>\n",
       "    </tr>\n",
       "    <tr>\n",
       "      <th>mean</th>\n",
       "      <td>42803.120129</td>\n",
       "      <td>0.012383</td>\n",
       "      <td>17.661071</td>\n",
       "      <td>5.274996</td>\n",
       "      <td>5.927001</td>\n",
       "      <td>1.595084</td>\n",
       "    </tr>\n",
       "    <tr>\n",
       "      <th>std</th>\n",
       "      <td>24778.339984</td>\n",
       "      <td>0.110589</td>\n",
       "      <td>14.085702</td>\n",
       "      <td>4.470538</td>\n",
       "      <td>3.398336</td>\n",
       "      <td>0.490881</td>\n",
       "    </tr>\n",
       "    <tr>\n",
       "      <th>min</th>\n",
       "      <td>1.000000</td>\n",
       "      <td>0.000000</td>\n",
       "      <td>0.000000</td>\n",
       "      <td>0.000000</td>\n",
       "      <td>1.000000</td>\n",
       "      <td>1.000000</td>\n",
       "    </tr>\n",
       "    <tr>\n",
       "      <th>25%</th>\n",
       "      <td>21284.250000</td>\n",
       "      <td>0.000000</td>\n",
       "      <td>6.000000</td>\n",
       "      <td>2.000000</td>\n",
       "      <td>3.000000</td>\n",
       "      <td>1.000000</td>\n",
       "    </tr>\n",
       "    <tr>\n",
       "      <th>50%</th>\n",
       "      <td>42710.000000</td>\n",
       "      <td>0.000000</td>\n",
       "      <td>15.000000</td>\n",
       "      <td>4.000000</td>\n",
       "      <td>5.000000</td>\n",
       "      <td>2.000000</td>\n",
       "    </tr>\n",
       "    <tr>\n",
       "      <th>75%</th>\n",
       "      <td>64340.500000</td>\n",
       "      <td>0.000000</td>\n",
       "      <td>32.000000</td>\n",
       "      <td>10.000000</td>\n",
       "      <td>9.000000</td>\n",
       "      <td>2.000000</td>\n",
       "    </tr>\n",
       "    <tr>\n",
       "      <th>max</th>\n",
       "      <td>85795.000000</td>\n",
       "      <td>1.000000</td>\n",
       "      <td>40.000000</td>\n",
       "      <td>12.000000</td>\n",
       "      <td>10.000000</td>\n",
       "      <td>2.000000</td>\n",
       "    </tr>\n",
       "  </tbody>\n",
       "</table>\n",
       "</div>"
      ],
      "text/plain": [
       "                LNR      RESPONSE  LP_LEBENSPHASE_FEIN  LP_LEBENSPHASE_GROB  \\\n",
       "count  42962.000000  42962.000000         42357.000000         42357.000000   \n",
       "mean   42803.120129      0.012383            17.661071             5.274996   \n",
       "std    24778.339984      0.110589            14.085702             4.470538   \n",
       "min        1.000000      0.000000             0.000000             0.000000   \n",
       "25%    21284.250000      0.000000             6.000000             2.000000   \n",
       "50%    42710.000000      0.000000            15.000000             4.000000   \n",
       "75%    64340.500000      0.000000            32.000000            10.000000   \n",
       "max    85795.000000      1.000000            40.000000            12.000000   \n",
       "\n",
       "       LP_STATUS_FEIN     ANREDE_KZ  \n",
       "count    42357.000000  42962.000000  \n",
       "mean         5.927001      1.595084  \n",
       "std          3.398336      0.490881  \n",
       "min          1.000000      1.000000  \n",
       "25%          3.000000      1.000000  \n",
       "50%          5.000000      2.000000  \n",
       "75%          9.000000      2.000000  \n",
       "max         10.000000      2.000000  "
      ]
     },
     "execution_count": 116,
     "metadata": {},
     "output_type": "execute_result"
    }
   ],
   "source": [
    "train_data[['LNR', 'RESPONSE', 'LP_LEBENSPHASE_FEIN', 'LP_LEBENSPHASE_GROB', 'LP_STATUS_FEIN', 'ANREDE_KZ']].describe()"
   ]
  },
  {
   "cell_type": "code",
   "execution_count": 117,
   "metadata": {
    "tags": []
   },
   "outputs": [],
   "source": [
    "#Select Columns\n",
    "selected_columns = ['RESPONSE', 'LP_LEBENSPHASE_FEIN', 'LP_LEBENSPHASE_GROB', 'LP_STATUS_FEIN', 'ANREDE_KZ']\n",
    "init_train = train_data[selected_columns]\n",
    "\n",
    "#DropNA\n",
    "features = ['LP_LEBENSPHASE_FEIN', 'LP_LEBENSPHASE_GROB', 'LP_STATUS_FEIN', 'ANREDE_KZ']\n",
    "init_train = init_train.dropna(subset=features).copy()\n",
    "\n",
    "# Normalize key values\n",
    "scaler = StandardScaler()\n",
    "columns_to_normalize = ['LP_LEBENSPHASE_FEIN', 'LP_LEBENSPHASE_GROB', 'LP_STATUS_FEIN']\n",
    "init_train[columns_to_normalize] = scaler.fit_transform(init_train[columns_to_normalize])\n",
    "\n",
    "#categorize sex\n",
    "init_train['ANREDE_KZ'] = init_train['ANREDE_KZ'].map({1: 'Male', 2: 'Female'}).astype('category')\n",
    "\n",
    "#categorize target\n",
    "init_train['RESPONSE'] = init_train['RESPONSE'].map({0: 'NOPURCHASE', 1: 'PURCHASE'}).astype('category')"
   ]
  },
  {
   "cell_type": "code",
   "execution_count": 118,
   "metadata": {
    "tags": []
   },
   "outputs": [
    {
     "data": {
      "text/html": [
       "<div>\n",
       "<style scoped>\n",
       "    .dataframe tbody tr th:only-of-type {\n",
       "        vertical-align: middle;\n",
       "    }\n",
       "\n",
       "    .dataframe tbody tr th {\n",
       "        vertical-align: top;\n",
       "    }\n",
       "\n",
       "    .dataframe thead th {\n",
       "        text-align: right;\n",
       "    }\n",
       "</style>\n",
       "<table border=\"1\" class=\"dataframe\">\n",
       "  <thead>\n",
       "    <tr style=\"text-align: right;\">\n",
       "      <th></th>\n",
       "      <th>RESPONSE</th>\n",
       "      <th>LP_LEBENSPHASE_FEIN</th>\n",
       "      <th>LP_LEBENSPHASE_GROB</th>\n",
       "      <th>LP_STATUS_FEIN</th>\n",
       "      <th>ANREDE_KZ</th>\n",
       "    </tr>\n",
       "  </thead>\n",
       "  <tbody>\n",
       "    <tr>\n",
       "      <th>0</th>\n",
       "      <td>NOPURCHASE</td>\n",
       "      <td>-0.685886</td>\n",
       "      <td>-0.732582</td>\n",
       "      <td>-0.861314</td>\n",
       "      <td>Female</td>\n",
       "    </tr>\n",
       "    <tr>\n",
       "      <th>1</th>\n",
       "      <td>NOPURCHASE</td>\n",
       "      <td>0.095057</td>\n",
       "      <td>-0.061514</td>\n",
       "      <td>0.904276</td>\n",
       "      <td>Female</td>\n",
       "    </tr>\n",
       "    <tr>\n",
       "      <th>2</th>\n",
       "      <td>NOPURCHASE</td>\n",
       "      <td>-1.253845</td>\n",
       "      <td>-1.179960</td>\n",
       "      <td>1.198541</td>\n",
       "      <td>Male</td>\n",
       "    </tr>\n",
       "    <tr>\n",
       "      <th>3</th>\n",
       "      <td>NOPURCHASE</td>\n",
       "      <td>-0.117927</td>\n",
       "      <td>-0.285203</td>\n",
       "      <td>-0.861314</td>\n",
       "      <td>Female</td>\n",
       "    </tr>\n",
       "    <tr>\n",
       "      <th>4</th>\n",
       "      <td>NOPURCHASE</td>\n",
       "      <td>-0.614891</td>\n",
       "      <td>-0.508892</td>\n",
       "      <td>0.021481</td>\n",
       "      <td>Male</td>\n",
       "    </tr>\n",
       "  </tbody>\n",
       "</table>\n",
       "</div>"
      ],
      "text/plain": [
       "     RESPONSE  LP_LEBENSPHASE_FEIN  LP_LEBENSPHASE_GROB  LP_STATUS_FEIN  \\\n",
       "0  NOPURCHASE            -0.685886            -0.732582       -0.861314   \n",
       "1  NOPURCHASE             0.095057            -0.061514        0.904276   \n",
       "2  NOPURCHASE            -1.253845            -1.179960        1.198541   \n",
       "3  NOPURCHASE            -0.117927            -0.285203       -0.861314   \n",
       "4  NOPURCHASE            -0.614891            -0.508892        0.021481   \n",
       "\n",
       "  ANREDE_KZ  \n",
       "0    Female  \n",
       "1    Female  \n",
       "2      Male  \n",
       "3    Female  \n",
       "4      Male  "
      ]
     },
     "execution_count": 118,
     "metadata": {},
     "output_type": "execute_result"
    }
   ],
   "source": [
    "init_train.head()"
   ]
  },
  {
   "cell_type": "code",
   "execution_count": 119,
   "metadata": {
    "tags": []
   },
   "outputs": [
    {
     "name": "stdout",
     "output_type": "stream",
     "text": [
      "<class 'pandas.core.frame.DataFrame'>\n",
      "Index: 42357 entries, 0 to 42961\n",
      "Data columns (total 5 columns):\n",
      " #   Column               Non-Null Count  Dtype   \n",
      "---  ------               --------------  -----   \n",
      " 0   RESPONSE             42357 non-null  category\n",
      " 1   LP_LEBENSPHASE_FEIN  42357 non-null  float64 \n",
      " 2   LP_LEBENSPHASE_GROB  42357 non-null  float64 \n",
      " 3   LP_STATUS_FEIN       42357 non-null  float64 \n",
      " 4   ANREDE_KZ            42357 non-null  category\n",
      "dtypes: category(2), float64(3)\n",
      "memory usage: 1.4 MB\n"
     ]
    }
   ],
   "source": [
    "init_train.info()"
   ]
  },
  {
   "cell_type": "code",
   "execution_count": 120,
   "metadata": {
    "tags": []
   },
   "outputs": [
    {
     "data": {
      "text/html": [
       "<div>\n",
       "<style scoped>\n",
       "    .dataframe tbody tr th:only-of-type {\n",
       "        vertical-align: middle;\n",
       "    }\n",
       "\n",
       "    .dataframe tbody tr th {\n",
       "        vertical-align: top;\n",
       "    }\n",
       "\n",
       "    .dataframe thead th {\n",
       "        text-align: right;\n",
       "    }\n",
       "</style>\n",
       "<table border=\"1\" class=\"dataframe\">\n",
       "  <thead>\n",
       "    <tr style=\"text-align: right;\">\n",
       "      <th></th>\n",
       "      <th>LP_LEBENSPHASE_FEIN</th>\n",
       "      <th>LP_LEBENSPHASE_GROB</th>\n",
       "      <th>LP_STATUS_FEIN</th>\n",
       "    </tr>\n",
       "  </thead>\n",
       "  <tbody>\n",
       "    <tr>\n",
       "      <th>count</th>\n",
       "      <td>4.235700e+04</td>\n",
       "      <td>4.235700e+04</td>\n",
       "      <td>4.235700e+04</td>\n",
       "    </tr>\n",
       "    <tr>\n",
       "      <th>mean</th>\n",
       "      <td>-1.087026e-16</td>\n",
       "      <td>6.106135e-17</td>\n",
       "      <td>4.579601e-17</td>\n",
       "    </tr>\n",
       "    <tr>\n",
       "      <th>std</th>\n",
       "      <td>1.000012e+00</td>\n",
       "      <td>1.000012e+00</td>\n",
       "      <td>1.000012e+00</td>\n",
       "    </tr>\n",
       "    <tr>\n",
       "      <th>min</th>\n",
       "      <td>-1.253845e+00</td>\n",
       "      <td>-1.179960e+00</td>\n",
       "      <td>-1.449845e+00</td>\n",
       "    </tr>\n",
       "    <tr>\n",
       "      <th>25%</th>\n",
       "      <td>-8.278756e-01</td>\n",
       "      <td>-7.325817e-01</td>\n",
       "      <td>-8.613144e-01</td>\n",
       "    </tr>\n",
       "    <tr>\n",
       "      <th>50%</th>\n",
       "      <td>-1.889223e-01</td>\n",
       "      <td>-2.852030e-01</td>\n",
       "      <td>-2.727842e-01</td>\n",
       "    </tr>\n",
       "    <tr>\n",
       "      <th>75%</th>\n",
       "      <td>1.017990e+00</td>\n",
       "      <td>1.056933e+00</td>\n",
       "      <td>9.042763e-01</td>\n",
       "    </tr>\n",
       "    <tr>\n",
       "      <th>max</th>\n",
       "      <td>1.585948e+00</td>\n",
       "      <td>1.504312e+00</td>\n",
       "      <td>1.198541e+00</td>\n",
       "    </tr>\n",
       "  </tbody>\n",
       "</table>\n",
       "</div>"
      ],
      "text/plain": [
       "       LP_LEBENSPHASE_FEIN  LP_LEBENSPHASE_GROB  LP_STATUS_FEIN\n",
       "count         4.235700e+04         4.235700e+04    4.235700e+04\n",
       "mean         -1.087026e-16         6.106135e-17    4.579601e-17\n",
       "std           1.000012e+00         1.000012e+00    1.000012e+00\n",
       "min          -1.253845e+00        -1.179960e+00   -1.449845e+00\n",
       "25%          -8.278756e-01        -7.325817e-01   -8.613144e-01\n",
       "50%          -1.889223e-01        -2.852030e-01   -2.727842e-01\n",
       "75%           1.017990e+00         1.056933e+00    9.042763e-01\n",
       "max           1.585948e+00         1.504312e+00    1.198541e+00"
      ]
     },
     "execution_count": 120,
     "metadata": {},
     "output_type": "execute_result"
    }
   ],
   "source": [
    "init_train.describe()"
   ]
  },
  {
   "cell_type": "markdown",
   "metadata": {},
   "source": [
    "#### Create Weights"
   ]
  },
  {
   "cell_type": "code",
   "execution_count": 121,
   "metadata": {
    "tags": []
   },
   "outputs": [
    {
     "data": {
      "text/plain": [
       "<Axes: >"
      ]
     },
     "execution_count": 121,
     "metadata": {},
     "output_type": "execute_result"
    },
    {
     "data": {
      "image/png": "[encoded data removed]",
      "text/plain": [
       "<Figure size 640x480 with 1 Axes>"
      ]
     },
     "metadata": {},
     "output_type": "display_data"
    }
   ],
   "source": [
    "init_train['RESPONSE'].hist()"
   ]
  },
  {
   "cell_type": "code",
   "execution_count": 122,
   "metadata": {
    "tags": []
   },
   "outputs": [
    {
     "name": "stdout",
     "output_type": "stream",
     "text": [
      "buyer_weight_multiplier: 79\n"
     ]
    }
   ],
   "source": [
    "#Get Buyers\n",
    "purchase_records = init_train[init_train['RESPONSE'] == 'PURCHASE']\n",
    "#Get NonBuyer Records\n",
    "no_purchase_records = init_train[init_train['RESPONSE'] == 'NOPURCHASE']\n",
    "\n",
    "buyer_weight_multiplier = math.floor(len(no_purchase_records) / len(purchase_records))\n",
    "print(f'buyer_weight_multiplier: {buyer_weight_multiplier}')\n",
    "init_train['RECORD_WEIGHT'] = np.where(init_train.index.isin(purchase_records.index), buyer_weight_multiplier, 1)"
   ]
  },
  {
   "cell_type": "code",
   "execution_count": 123,
   "metadata": {
    "tags": []
   },
   "outputs": [
    {
     "data": {
      "text/html": [
       "<div>\n",
       "<style scoped>\n",
       "    .dataframe tbody tr th:only-of-type {\n",
       "        vertical-align: middle;\n",
       "    }\n",
       "\n",
       "    .dataframe tbody tr th {\n",
       "        vertical-align: top;\n",
       "    }\n",
       "\n",
       "    .dataframe thead th {\n",
       "        text-align: right;\n",
       "    }\n",
       "</style>\n",
       "<table border=\"1\" class=\"dataframe\">\n",
       "  <thead>\n",
       "    <tr style=\"text-align: right;\">\n",
       "      <th></th>\n",
       "      <th>RESPONSE</th>\n",
       "      <th>LP_LEBENSPHASE_FEIN</th>\n",
       "      <th>LP_LEBENSPHASE_GROB</th>\n",
       "      <th>LP_STATUS_FEIN</th>\n",
       "      <th>ANREDE_KZ</th>\n",
       "      <th>RECORD_WEIGHT</th>\n",
       "    </tr>\n",
       "  </thead>\n",
       "  <tbody>\n",
       "    <tr>\n",
       "      <th>0</th>\n",
       "      <td>NOPURCHASE</td>\n",
       "      <td>-0.685886</td>\n",
       "      <td>-0.732582</td>\n",
       "      <td>-0.861314</td>\n",
       "      <td>Female</td>\n",
       "      <td>1</td>\n",
       "    </tr>\n",
       "    <tr>\n",
       "      <th>1</th>\n",
       "      <td>NOPURCHASE</td>\n",
       "      <td>0.095057</td>\n",
       "      <td>-0.061514</td>\n",
       "      <td>0.904276</td>\n",
       "      <td>Female</td>\n",
       "      <td>1</td>\n",
       "    </tr>\n",
       "    <tr>\n",
       "      <th>2</th>\n",
       "      <td>NOPURCHASE</td>\n",
       "      <td>-1.253845</td>\n",
       "      <td>-1.179960</td>\n",
       "      <td>1.198541</td>\n",
       "      <td>Male</td>\n",
       "      <td>1</td>\n",
       "    </tr>\n",
       "    <tr>\n",
       "      <th>3</th>\n",
       "      <td>NOPURCHASE</td>\n",
       "      <td>-0.117927</td>\n",
       "      <td>-0.285203</td>\n",
       "      <td>-0.861314</td>\n",
       "      <td>Female</td>\n",
       "      <td>1</td>\n",
       "    </tr>\n",
       "    <tr>\n",
       "      <th>4</th>\n",
       "      <td>NOPURCHASE</td>\n",
       "      <td>-0.614891</td>\n",
       "      <td>-0.508892</td>\n",
       "      <td>0.021481</td>\n",
       "      <td>Male</td>\n",
       "      <td>1</td>\n",
       "    </tr>\n",
       "  </tbody>\n",
       "</table>\n",
       "</div>"
      ],
      "text/plain": [
       "     RESPONSE  LP_LEBENSPHASE_FEIN  LP_LEBENSPHASE_GROB  LP_STATUS_FEIN  \\\n",
       "0  NOPURCHASE            -0.685886            -0.732582       -0.861314   \n",
       "1  NOPURCHASE             0.095057            -0.061514        0.904276   \n",
       "2  NOPURCHASE            -1.253845            -1.179960        1.198541   \n",
       "3  NOPURCHASE            -0.117927            -0.285203       -0.861314   \n",
       "4  NOPURCHASE            -0.614891            -0.508892        0.021481   \n",
       "\n",
       "  ANREDE_KZ  RECORD_WEIGHT  \n",
       "0    Female              1  \n",
       "1    Female              1  \n",
       "2      Male              1  \n",
       "3    Female              1  \n",
       "4      Male              1  "
      ]
     },
     "execution_count": 123,
     "metadata": {},
     "output_type": "execute_result"
    }
   ],
   "source": [
    "init_train.head()"
   ]
  },
  {
   "cell_type": "code",
   "execution_count": 124,
   "metadata": {
    "tags": []
   },
   "outputs": [
    {
     "name": "stdout",
     "output_type": "stream",
     "text": [
      "<class 'pandas.core.frame.DataFrame'>\n",
      "Index: 42357 entries, 0 to 42961\n",
      "Data columns (total 6 columns):\n",
      " #   Column               Non-Null Count  Dtype   \n",
      "---  ------               --------------  -----   \n",
      " 0   RESPONSE             42357 non-null  category\n",
      " 1   LP_LEBENSPHASE_FEIN  42357 non-null  float64 \n",
      " 2   LP_LEBENSPHASE_GROB  42357 non-null  float64 \n",
      " 3   LP_STATUS_FEIN       42357 non-null  float64 \n",
      " 4   ANREDE_KZ            42357 non-null  category\n",
      " 5   RECORD_WEIGHT        42357 non-null  int64   \n",
      "dtypes: category(2), float64(3), int64(1)\n",
      "memory usage: 1.7 MB\n"
     ]
    }
   ],
   "source": [
    "init_train.info()"
   ]
  },
  {
   "cell_type": "code",
   "execution_count": 125,
   "metadata": {
    "tags": []
   },
   "outputs": [
    {
     "data": {
      "text/html": [
       "<div>\n",
       "<style scoped>\n",
       "    .dataframe tbody tr th:only-of-type {\n",
       "        vertical-align: middle;\n",
       "    }\n",
       "\n",
       "    .dataframe tbody tr th {\n",
       "        vertical-align: top;\n",
       "    }\n",
       "\n",
       "    .dataframe thead th {\n",
       "        text-align: right;\n",
       "    }\n",
       "</style>\n",
       "<table border=\"1\" class=\"dataframe\">\n",
       "  <thead>\n",
       "    <tr style=\"text-align: right;\">\n",
       "      <th></th>\n",
       "      <th>LP_LEBENSPHASE_FEIN</th>\n",
       "      <th>LP_LEBENSPHASE_GROB</th>\n",
       "      <th>LP_STATUS_FEIN</th>\n",
       "      <th>RECORD_WEIGHT</th>\n",
       "    </tr>\n",
       "  </thead>\n",
       "  <tbody>\n",
       "    <tr>\n",
       "      <th>count</th>\n",
       "      <td>4.235700e+04</td>\n",
       "      <td>4.235700e+04</td>\n",
       "      <td>4.235700e+04</td>\n",
       "      <td>42357.000000</td>\n",
       "    </tr>\n",
       "    <tr>\n",
       "      <th>mean</th>\n",
       "      <td>-1.087026e-16</td>\n",
       "      <td>6.106135e-17</td>\n",
       "      <td>4.579601e-17</td>\n",
       "      <td>1.970465</td>\n",
       "    </tr>\n",
       "    <tr>\n",
       "      <th>std</th>\n",
       "      <td>1.000012e+00</td>\n",
       "      <td>1.000012e+00</td>\n",
       "      <td>1.000012e+00</td>\n",
       "      <td>8.646170</td>\n",
       "    </tr>\n",
       "    <tr>\n",
       "      <th>min</th>\n",
       "      <td>-1.253845e+00</td>\n",
       "      <td>-1.179960e+00</td>\n",
       "      <td>-1.449845e+00</td>\n",
       "      <td>1.000000</td>\n",
       "    </tr>\n",
       "    <tr>\n",
       "      <th>25%</th>\n",
       "      <td>-8.278756e-01</td>\n",
       "      <td>-7.325817e-01</td>\n",
       "      <td>-8.613144e-01</td>\n",
       "      <td>1.000000</td>\n",
       "    </tr>\n",
       "    <tr>\n",
       "      <th>50%</th>\n",
       "      <td>-1.889223e-01</td>\n",
       "      <td>-2.852030e-01</td>\n",
       "      <td>-2.727842e-01</td>\n",
       "      <td>1.000000</td>\n",
       "    </tr>\n",
       "    <tr>\n",
       "      <th>75%</th>\n",
       "      <td>1.017990e+00</td>\n",
       "      <td>1.056933e+00</td>\n",
       "      <td>9.042763e-01</td>\n",
       "      <td>1.000000</td>\n",
       "    </tr>\n",
       "    <tr>\n",
       "      <th>max</th>\n",
       "      <td>1.585948e+00</td>\n",
       "      <td>1.504312e+00</td>\n",
       "      <td>1.198541e+00</td>\n",
       "      <td>79.000000</td>\n",
       "    </tr>\n",
       "  </tbody>\n",
       "</table>\n",
       "</div>"
      ],
      "text/plain": [
       "       LP_LEBENSPHASE_FEIN  LP_LEBENSPHASE_GROB  LP_STATUS_FEIN  RECORD_WEIGHT\n",
       "count         4.235700e+04         4.235700e+04    4.235700e+04   42357.000000\n",
       "mean         -1.087026e-16         6.106135e-17    4.579601e-17       1.970465\n",
       "std           1.000012e+00         1.000012e+00    1.000012e+00       8.646170\n",
       "min          -1.253845e+00        -1.179960e+00   -1.449845e+00       1.000000\n",
       "25%          -8.278756e-01        -7.325817e-01   -8.613144e-01       1.000000\n",
       "50%          -1.889223e-01        -2.852030e-01   -2.727842e-01       1.000000\n",
       "75%           1.017990e+00         1.056933e+00    9.042763e-01       1.000000\n",
       "max           1.585948e+00         1.504312e+00    1.198541e+00      79.000000"
      ]
     },
     "execution_count": 125,
     "metadata": {},
     "output_type": "execute_result"
    }
   ],
   "source": [
    "init_train.describe()"
   ]
  },
  {
   "cell_type": "code",
   "execution_count": 126,
   "metadata": {
    "tags": []
   },
   "outputs": [
    {
     "data": {
      "text/html": [
       "<div>\n",
       "<style scoped>\n",
       "    .dataframe tbody tr th:only-of-type {\n",
       "        vertical-align: middle;\n",
       "    }\n",
       "\n",
       "    .dataframe tbody tr th {\n",
       "        vertical-align: top;\n",
       "    }\n",
       "\n",
       "    .dataframe thead th {\n",
       "        text-align: right;\n",
       "    }\n",
       "</style>\n",
       "<table border=\"1\" class=\"dataframe\">\n",
       "  <thead>\n",
       "    <tr style=\"text-align: right;\">\n",
       "      <th></th>\n",
       "      <th>RESPONSE</th>\n",
       "      <th>LP_LEBENSPHASE_FEIN</th>\n",
       "      <th>LP_LEBENSPHASE_GROB</th>\n",
       "      <th>LP_STATUS_FEIN</th>\n",
       "      <th>ANREDE_KZ</th>\n",
       "      <th>RECORD_WEIGHT</th>\n",
       "    </tr>\n",
       "  </thead>\n",
       "  <tbody>\n",
       "    <tr>\n",
       "      <th>90</th>\n",
       "      <td>PURCHASE</td>\n",
       "      <td>1.585948</td>\n",
       "      <td>1.504312</td>\n",
       "      <td>1.198541</td>\n",
       "      <td>Female</td>\n",
       "      <td>79</td>\n",
       "    </tr>\n",
       "    <tr>\n",
       "      <th>129</th>\n",
       "      <td>PURCHASE</td>\n",
       "      <td>-0.614891</td>\n",
       "      <td>-0.508892</td>\n",
       "      <td>0.315746</td>\n",
       "      <td>Male</td>\n",
       "      <td>79</td>\n",
       "    </tr>\n",
       "    <tr>\n",
       "      <th>173</th>\n",
       "      <td>PURCHASE</td>\n",
       "      <td>1.514953</td>\n",
       "      <td>1.504312</td>\n",
       "      <td>1.198541</td>\n",
       "      <td>Male</td>\n",
       "      <td>79</td>\n",
       "    </tr>\n",
       "    <tr>\n",
       "      <th>205</th>\n",
       "      <td>PURCHASE</td>\n",
       "      <td>-0.117927</td>\n",
       "      <td>-0.285203</td>\n",
       "      <td>-0.861314</td>\n",
       "      <td>Male</td>\n",
       "      <td>79</td>\n",
       "    </tr>\n",
       "    <tr>\n",
       "      <th>248</th>\n",
       "      <td>PURCHASE</td>\n",
       "      <td>0.166052</td>\n",
       "      <td>-0.061514</td>\n",
       "      <td>1.198541</td>\n",
       "      <td>Male</td>\n",
       "      <td>79</td>\n",
       "    </tr>\n",
       "  </tbody>\n",
       "</table>\n",
       "</div>"
      ],
      "text/plain": [
       "     RESPONSE  LP_LEBENSPHASE_FEIN  LP_LEBENSPHASE_GROB  LP_STATUS_FEIN  \\\n",
       "90   PURCHASE             1.585948             1.504312        1.198541   \n",
       "129  PURCHASE            -0.614891            -0.508892        0.315746   \n",
       "173  PURCHASE             1.514953             1.504312        1.198541   \n",
       "205  PURCHASE            -0.117927            -0.285203       -0.861314   \n",
       "248  PURCHASE             0.166052            -0.061514        1.198541   \n",
       "\n",
       "    ANREDE_KZ  RECORD_WEIGHT  \n",
       "90     Female             79  \n",
       "129      Male             79  \n",
       "173      Male             79  \n",
       "205      Male             79  \n",
       "248      Male             79  "
      ]
     },
     "execution_count": 126,
     "metadata": {},
     "output_type": "execute_result"
    }
   ],
   "source": [
    "#Buyer Record Head\n",
    "purchase_records_head = init_train[init_train['RESPONSE'] == 'PURCHASE']\n",
    "purchase_records_head.head()"
   ]
  },
  {
   "cell_type": "markdown",
   "metadata": {},
   "source": [
    "### Doing Simple Training"
   ]
  },
  {
   "cell_type": "code",
   "execution_count": 127,
   "metadata": {
    "tags": []
   },
   "outputs": [
    {
     "data": {
      "text/plain": [
       "count    42357.000000\n",
       "mean         0.000024\n",
       "std          0.000104\n",
       "min          0.000012\n",
       "25%          0.000012\n",
       "50%          0.000012\n",
       "75%          0.000012\n",
       "max          0.000947\n",
       "Name: RECORD_WEIGHT, dtype: float64"
      ]
     },
     "execution_count": 127,
     "metadata": {},
     "output_type": "execute_result"
    }
   ],
   "source": [
    "# Normalize the weights\n",
    "init_train['RECORD_WEIGHT'] /= init_train['RECORD_WEIGHT'].sum()\n",
    "init_train['RECORD_WEIGHT'].describe()"
   ]
  },
  {
   "cell_type": "code",
   "execution_count": 128,
   "metadata": {
    "tags": []
   },
   "outputs": [],
   "source": [
    "## Split Data into Training and Validation sets\n",
    "init_train_data, init_valid_data = train_test_split(init_train, test_size=0.2, random_state=1)"
   ]
  },
  {
   "cell_type": "code",
   "execution_count": 129,
   "metadata": {
    "tags": []
   },
   "outputs": [],
   "source": [
    "predictor = TabularPredictor(label=\"RESPONSE\", verbosity=4, sample_weight='RECORD_WEIGHT', weight_evaluation=True).fit(\n",
    "    train_data=init_train_data,\n",
    "    time_limit=600,\n",
    "    presets=\"best_quality\"\n",
    ")"
   ]
  },
  {
   "cell_type": "code",
   "execution_count": 130,
   "metadata": {
    "tags": []
   },
   "outputs": [],
   "source": [
    "results = predictor.evaluate(init_valid_data)"
   ]
  },
  {
   "cell_type": "code",
   "execution_count": 131,
   "metadata": {
    "tags": []
   },
   "outputs": [
    {
     "data": {
      "text/plain": [
       "{'accuracy': 0.5192922374429224,\n",
       " 'balanced_accuracy': 0.5248097588352784,\n",
       " 'mcc': 0.05102013171866195,\n",
       " 'roc_auc': 0.5381529481191072,\n",
       " 'f1': 0.4685764765270084,\n",
       " 'precision': 0.5555056852184351,\n",
       " 'recall': 0.40517241379310454}"
      ]
     },
     "execution_count": 131,
     "metadata": {},
     "output_type": "execute_result"
    }
   ],
   "source": [
    "results"
   ]
  },
  {
   "cell_type": "code",
   "execution_count": 132,
   "metadata": {
    "tags": []
   },
   "outputs": [
    {
     "name": "stdout",
     "output_type": "stream",
     "text": [
      "*** Summary of fit() ***\n",
      "Estimated performance of each model:\n",
      "                      model  score_val eval_metric  pred_time_val    fit_time  pred_time_val_marginal  fit_time_marginal  stack_level  can_infer  fit_order\n",
      "0       WeightedEnsemble_L2   0.546942    accuracy       0.439539   80.032187                0.065970          17.003350            2       True         13\n",
      "1         LightGBMXT_BAG_L1   0.546836    accuracy       0.198783   22.908805                0.198783          22.908805            1       True          3\n",
      "2           CatBoost_BAG_L1   0.544622    accuracy       0.063812   22.889361                0.063812          22.889361            1       True          7\n",
      "3           LightGBM_BAG_L1   0.537115    accuracy       0.096161   21.718514                0.096161          21.718514            1       True          4\n",
      "4     ExtraTreesEntr_BAG_L1   0.522239    accuracy       1.133869    2.390440                1.133869           2.390440            1       True          9\n",
      "5     ExtraTreesGini_BAG_L1   0.522239    accuracy       1.197522    2.870109                1.197522           2.870109            1       True          8\n",
      "6   RandomForestEntr_BAG_L1   0.522224    accuracy       1.438756    3.004354                1.438756           3.004354            1       True          6\n",
      "7   RandomForestGini_BAG_L1   0.522209    accuracy       1.063955    3.363084                1.063955           3.363084            1       True          5\n",
      "8     NeuralNetTorch_BAG_L1   0.507620    accuracy       0.314185  100.854712                0.314185         100.854712            1       True         12\n",
      "9     KNeighborsDist_BAG_L1   0.507620    accuracy       0.833482    0.070814                0.833482           0.070814            1       True          2\n",
      "10   NeuralNetFastAI_BAG_L1   0.507620    accuracy       0.926910  195.693548                0.926910         195.693548            1       True         10\n",
      "11    KNeighborsUnif_BAG_L1   0.507620    accuracy       0.991539    0.065788                0.991539           0.065788            1       True          1\n",
      "12           XGBoost_BAG_L1   0.500038    accuracy       0.110975   17.230670                0.110975          17.230670            1       True         11\n",
      "Number of models trained: 13\n",
      "Types of models trained:\n",
      "{'StackerEnsembleModel_CatBoost', 'StackerEnsembleModel_RF', 'StackerEnsembleModel_XGBoost', 'WeightedEnsembleModel', 'StackerEnsembleModel_NNFastAiTabular', 'StackerEnsembleModel_KNN', 'StackerEnsembleModel_XT', 'StackerEnsembleModel_TabularNeuralNetTorch', 'StackerEnsembleModel_LGB'}\n",
      "Bagging used: True  (with 8 folds)\n",
      "Multi-layer stack-ensembling used: False \n",
      "Feature Metadata (Processed):\n",
      "(raw dtype, special dtypes):\n",
      "('float', [])     : 3 | ['LP_LEBENSPHASE_FEIN', 'LP_LEBENSPHASE_GROB', 'LP_STATUS_FEIN']\n",
      "('int', ['bool']) : 1 | ['ANREDE_KZ']\n",
      "*** End of fit() summary ***\n"
     ]
    },
    {
     "name": "stderr",
     "output_type": "stream",
     "text": [
      "/home/ec2-user/anaconda3/envs/python3/lib/python3.10/site-packages/autogluon/core/utils/plots.py:169: UserWarning: AutoGluon summary plots cannot be created because bokeh is not installed. To see plots, please do: \"pip install bokeh==2.0.1\"\n",
      "  warnings.warn('AutoGluon summary plots cannot be created because bokeh is not installed. To see plots, please do: \"pip install bokeh==2.0.1\"')\n"
     ]
    },
    {
     "data": {
      "text/plain": [
       "{'model_types': {'KNeighborsUnif_BAG_L1': 'StackerEnsembleModel_KNN',\n",
       "  'KNeighborsDist_BAG_L1': 'StackerEnsembleModel_KNN',\n",
       "  'LightGBMXT_BAG_L1': 'StackerEnsembleModel_LGB',\n",
       "  'LightGBM_BAG_L1': 'StackerEnsembleModel_LGB',\n",
       "  'RandomForestGini_BAG_L1': 'StackerEnsembleModel_RF',\n",
       "  'RandomForestEntr_BAG_L1': 'StackerEnsembleModel_RF',\n",
       "  'CatBoost_BAG_L1': 'StackerEnsembleModel_CatBoost',\n",
       "  'ExtraTreesGini_BAG_L1': 'StackerEnsembleModel_XT',\n",
       "  'ExtraTreesEntr_BAG_L1': 'StackerEnsembleModel_XT',\n",
       "  'NeuralNetFastAI_BAG_L1': 'StackerEnsembleModel_NNFastAiTabular',\n",
       "  'XGBoost_BAG_L1': 'StackerEnsembleModel_XGBoost',\n",
       "  'NeuralNetTorch_BAG_L1': 'StackerEnsembleModel_TabularNeuralNetTorch',\n",
       "  'WeightedEnsemble_L2': 'WeightedEnsembleModel'},\n",
       " 'model_performance': {'KNeighborsUnif_BAG_L1': 0.5076202174605342,\n",
       "  'KNeighborsDist_BAG_L1': 0.5076202174605342,\n",
       "  'LightGBMXT_BAG_L1': 0.546835903735044,\n",
       "  'LightGBM_BAG_L1': 0.5371153875316561,\n",
       "  'RandomForestGini_BAG_L1': 0.5222085740715469,\n",
       "  'RandomForestEntr_BAG_L1': 0.5222237386834085,\n",
       "  'CatBoost_BAG_L1': 0.5446218704032271,\n",
       "  'ExtraTreesGini_BAG_L1': 0.5222389032952703,\n",
       "  'ExtraTreesEntr_BAG_L1': 0.5222389032952703,\n",
       "  'NeuralNetFastAI_BAG_L1': 0.5076202174605342,\n",
       "  'XGBoost_BAG_L1': 0.5000379115296546,\n",
       "  'NeuralNetTorch_BAG_L1': 0.5076202174605342,\n",
       "  'WeightedEnsemble_L2': 0.5469420560180763},\n",
       " 'model_best': 'WeightedEnsemble_L2',\n",
       " 'model_paths': {'KNeighborsUnif_BAG_L1': ['KNeighborsUnif_BAG_L1'],\n",
       "  'KNeighborsDist_BAG_L1': ['KNeighborsDist_BAG_L1'],\n",
       "  'LightGBMXT_BAG_L1': ['LightGBMXT_BAG_L1'],\n",
       "  'LightGBM_BAG_L1': ['LightGBM_BAG_L1'],\n",
       "  'RandomForestGini_BAG_L1': ['RandomForestGini_BAG_L1'],\n",
       "  'RandomForestEntr_BAG_L1': ['RandomForestEntr_BAG_L1'],\n",
       "  'CatBoost_BAG_L1': ['CatBoost_BAG_L1'],\n",
       "  'ExtraTreesGini_BAG_L1': ['ExtraTreesGini_BAG_L1'],\n",
       "  'ExtraTreesEntr_BAG_L1': ['ExtraTreesEntr_BAG_L1'],\n",
       "  'NeuralNetFastAI_BAG_L1': ['NeuralNetFastAI_BAG_L1'],\n",
       "  'XGBoost_BAG_L1': ['XGBoost_BAG_L1'],\n",
       "  'NeuralNetTorch_BAG_L1': ['NeuralNetTorch_BAG_L1'],\n",
       "  'WeightedEnsemble_L2': ['WeightedEnsemble_L2']},\n",
       " 'model_fit_times': {'KNeighborsUnif_BAG_L1': 0.06578826904296875,\n",
       "  'KNeighborsDist_BAG_L1': 0.07081437110900879,\n",
       "  'LightGBMXT_BAG_L1': 22.90880537033081,\n",
       "  'LightGBM_BAG_L1': 21.71851396560669,\n",
       "  'RandomForestGini_BAG_L1': 3.363083839416504,\n",
       "  'RandomForestEntr_BAG_L1': 3.004354476928711,\n",
       "  'CatBoost_BAG_L1': 22.889361143112183,\n",
       "  'ExtraTreesGini_BAG_L1': 2.8701088428497314,\n",
       "  'ExtraTreesEntr_BAG_L1': 2.390439987182617,\n",
       "  'NeuralNetFastAI_BAG_L1': 195.69354820251465,\n",
       "  'XGBoost_BAG_L1': 17.23067021369934,\n",
       "  'NeuralNetTorch_BAG_L1': 100.85471200942993,\n",
       "  'WeightedEnsemble_L2': 17.003350496292114},\n",
       " 'model_pred_times': {'KNeighborsUnif_BAG_L1': 0.9915387630462646,\n",
       "  'KNeighborsDist_BAG_L1': 0.8334822654724121,\n",
       "  'LightGBMXT_BAG_L1': 0.19878268241882324,\n",
       "  'LightGBM_BAG_L1': 0.0961606502532959,\n",
       "  'RandomForestGini_BAG_L1': 1.0639550685882568,\n",
       "  'RandomForestEntr_BAG_L1': 1.4387562274932861,\n",
       "  'CatBoost_BAG_L1': 0.0638115406036377,\n",
       "  'ExtraTreesGini_BAG_L1': 1.1975224018096924,\n",
       "  'ExtraTreesEntr_BAG_L1': 1.13386869430542,\n",
       "  'NeuralNetFastAI_BAG_L1': 0.9269099235534668,\n",
       "  'XGBoost_BAG_L1': 0.11097455024719238,\n",
       "  'NeuralNetTorch_BAG_L1': 0.31418466567993164,\n",
       "  'WeightedEnsemble_L2': 0.06597042083740234},\n",
       " 'num_bag_folds': 8,\n",
       " 'max_stack_level': 2,\n",
       " 'num_classes': 2,\n",
       " 'model_hyperparams': {'KNeighborsUnif_BAG_L1': {'use_orig_features': True,\n",
       "   'max_base_models': 25,\n",
       "   'max_base_models_per_type': 5,\n",
       "   'save_bag_folds': True,\n",
       "   'use_child_oof': True},\n",
       "  'KNeighborsDist_BAG_L1': {'use_orig_features': True,\n",
       "   'max_base_models': 25,\n",
       "   'max_base_models_per_type': 5,\n",
       "   'save_bag_folds': True,\n",
       "   'use_child_oof': True},\n",
       "  'LightGBMXT_BAG_L1': {'use_orig_features': True,\n",
       "   'max_base_models': 25,\n",
       "   'max_base_models_per_type': 5,\n",
       "   'save_bag_folds': True},\n",
       "  'LightGBM_BAG_L1': {'use_orig_features': True,\n",
       "   'max_base_models': 25,\n",
       "   'max_base_models_per_type': 5,\n",
       "   'save_bag_folds': True},\n",
       "  'RandomForestGini_BAG_L1': {'use_orig_features': True,\n",
       "   'max_base_models': 25,\n",
       "   'max_base_models_per_type': 5,\n",
       "   'save_bag_folds': True,\n",
       "   'use_child_oof': True},\n",
       "  'RandomForestEntr_BAG_L1': {'use_orig_features': True,\n",
       "   'max_base_models': 25,\n",
       "   'max_base_models_per_type': 5,\n",
       "   'save_bag_folds': True,\n",
       "   'use_child_oof': True},\n",
       "  'CatBoost_BAG_L1': {'use_orig_features': True,\n",
       "   'max_base_models': 25,\n",
       "   'max_base_models_per_type': 5,\n",
       "   'save_bag_folds': True},\n",
       "  'ExtraTreesGini_BAG_L1': {'use_orig_features': True,\n",
       "   'max_base_models': 25,\n",
       "   'max_base_models_per_type': 5,\n",
       "   'save_bag_folds': True,\n",
       "   'use_child_oof': True},\n",
       "  'ExtraTreesEntr_BAG_L1': {'use_orig_features': True,\n",
       "   'max_base_models': 25,\n",
       "   'max_base_models_per_type': 5,\n",
       "   'save_bag_folds': True,\n",
       "   'use_child_oof': True},\n",
       "  'NeuralNetFastAI_BAG_L1': {'use_orig_features': True,\n",
       "   'max_base_models': 25,\n",
       "   'max_base_models_per_type': 5,\n",
       "   'save_bag_folds': True},\n",
       "  'XGBoost_BAG_L1': {'use_orig_features': True,\n",
       "   'max_base_models': 25,\n",
       "   'max_base_models_per_type': 5,\n",
       "   'save_bag_folds': True},\n",
       "  'NeuralNetTorch_BAG_L1': {'use_orig_features': True,\n",
       "   'max_base_models': 25,\n",
       "   'max_base_models_per_type': 5,\n",
       "   'save_bag_folds': True},\n",
       "  'WeightedEnsemble_L2': {'use_orig_features': False,\n",
       "   'max_base_models': 25,\n",
       "   'max_base_models_per_type': 5,\n",
       "   'save_bag_folds': True}},\n",
       " 'leaderboard':                       model  score_val eval_metric  pred_time_val    fit_time  \\\n",
       " 0       WeightedEnsemble_L2   0.546942    accuracy       0.439539   80.032187   \n",
       " 1         LightGBMXT_BAG_L1   0.546836    accuracy       0.198783   22.908805   \n",
       " 2           CatBoost_BAG_L1   0.544622    accuracy       0.063812   22.889361   \n",
       " 3           LightGBM_BAG_L1   0.537115    accuracy       0.096161   21.718514   \n",
       " 4     ExtraTreesEntr_BAG_L1   0.522239    accuracy       1.133869    2.390440   \n",
       " 5     ExtraTreesGini_BAG_L1   0.522239    accuracy       1.197522    2.870109   \n",
       " 6   RandomForestEntr_BAG_L1   0.522224    accuracy       1.438756    3.004354   \n",
       " 7   RandomForestGini_BAG_L1   0.522209    accuracy       1.063955    3.363084   \n",
       " 8     NeuralNetTorch_BAG_L1   0.507620    accuracy       0.314185  100.854712   \n",
       " 9     KNeighborsDist_BAG_L1   0.507620    accuracy       0.833482    0.070814   \n",
       " 10   NeuralNetFastAI_BAG_L1   0.507620    accuracy       0.926910  195.693548   \n",
       " 11    KNeighborsUnif_BAG_L1   0.507620    accuracy       0.991539    0.065788   \n",
       " 12           XGBoost_BAG_L1   0.500038    accuracy       0.110975   17.230670   \n",
       " \n",
       "     pred_time_val_marginal  fit_time_marginal  stack_level  can_infer  \\\n",
       " 0                 0.065970          17.003350            2       True   \n",
       " 1                 0.198783          22.908805            1       True   \n",
       " 2                 0.063812          22.889361            1       True   \n",
       " 3                 0.096161          21.718514            1       True   \n",
       " 4                 1.133869           2.390440            1       True   \n",
       " 5                 1.197522           2.870109            1       True   \n",
       " 6                 1.438756           3.004354            1       True   \n",
       " 7                 1.063955           3.363084            1       True   \n",
       " 8                 0.314185         100.854712            1       True   \n",
       " 9                 0.833482           0.070814            1       True   \n",
       " 10                0.926910         195.693548            1       True   \n",
       " 11                0.991539           0.065788            1       True   \n",
       " 12                0.110975          17.230670            1       True   \n",
       " \n",
       "     fit_order  \n",
       " 0          13  \n",
       " 1           3  \n",
       " 2           7  \n",
       " 3           4  \n",
       " 4           9  \n",
       " 5           8  \n",
       " 6           6  \n",
       " 7           5  \n",
       " 8          12  \n",
       " 9           2  \n",
       " 10         10  \n",
       " 11          1  \n",
       " 12         11  }"
      ]
     },
     "execution_count": 132,
     "metadata": {},
     "output_type": "execute_result"
    }
   ],
   "source": [
    "predictor.fit_summary()"
   ]
  },
  {
   "cell_type": "code",
   "execution_count": 133,
   "metadata": {
    "tags": []
   },
   "outputs": [
    {
     "name": "stdout",
     "output_type": "stream",
     "text": [
      "The model was saved in: AutogluonModels/ag-20231202_165959\n"
     ]
    }
   ],
   "source": [
    "model_path = predictor.path\n",
    "print(f\"The model was saved in: {model_path}\")"
   ]
  },
  {
   "cell_type": "markdown",
   "metadata": {},
   "source": [
    "### Create Submission File and Submit"
   ]
  },
  {
   "cell_type": "code",
   "execution_count": 136,
   "metadata": {
    "tags": []
   },
   "outputs": [
    {
     "name": "stderr",
     "output_type": "stream",
     "text": [
      "/tmp/ipykernel_7054/9532272.py:2: DtypeWarning: Columns (18,19) have mixed types. Specify dtype option on import or set low_memory=False.\n",
      "  test_data = pd.read_csv(f'{s3_data_path}/test.csv')\n"
     ]
    }
   ],
   "source": [
    "## Make copy of test file for submission\n",
    "test_data = pd.read_csv(f'{s3_data_path}/test.csv')"
   ]
  },
  {
   "cell_type": "markdown",
   "metadata": {},
   "source": [
    "#### Transform Features"
   ]
  },
  {
   "cell_type": "code",
   "execution_count": 137,
   "metadata": {
    "tags": []
   },
   "outputs": [],
   "source": [
    "## Get Neccisary Columns\n",
    "init_test_columns = [col for col in selected_columns if col != 'RESPONSE']\n",
    "init_test = test_data[init_test_columns].copy()\n",
    "\n",
    "## Need to fill in NA values\n",
    "init_test.loc[:, 'LP_LEBENSPHASE_FEIN'] = init_test['LP_LEBENSPHASE_FEIN'].fillna(init_test['LP_LEBENSPHASE_FEIN'].mean())\n",
    "init_test.loc[:, 'LP_LEBENSPHASE_GROB'] = init_test['LP_LEBENSPHASE_GROB'].fillna(init_test['LP_LEBENSPHASE_GROB'].mean())\n",
    "init_test.loc[:, 'LP_STATUS_FEIN'] = init_test['LP_STATUS_FEIN'].fillna(init_test['LP_STATUS_FEIN'].mean())\n",
    "\n",
    "# Use the same scaler from training data to normalize\n",
    "init_test.loc[:, columns_to_normalize] = scaler.transform(init_test[columns_to_normalize])\n",
    "\n",
    "#categorize the same as training data\n",
    "init_test.loc[:, 'ANREDE_KZ'] = init_test['ANREDE_KZ'].map({1: 'Male', 2: 'Female'}).astype('category')"
   ]
  },
  {
   "cell_type": "code",
   "execution_count": 138,
   "metadata": {
    "tags": []
   },
   "outputs": [
    {
     "data": {
      "text/html": [
       "<div>\n",
       "<style scoped>\n",
       "    .dataframe tbody tr th:only-of-type {\n",
       "        vertical-align: middle;\n",
       "    }\n",
       "\n",
       "    .dataframe tbody tr th {\n",
       "        vertical-align: top;\n",
       "    }\n",
       "\n",
       "    .dataframe thead th {\n",
       "        text-align: right;\n",
       "    }\n",
       "</style>\n",
       "<table border=\"1\" class=\"dataframe\">\n",
       "  <thead>\n",
       "    <tr style=\"text-align: right;\">\n",
       "      <th></th>\n",
       "      <th>LP_LEBENSPHASE_FEIN</th>\n",
       "      <th>LP_LEBENSPHASE_GROB</th>\n",
       "      <th>LP_STATUS_FEIN</th>\n",
       "      <th>ANREDE_KZ</th>\n",
       "    </tr>\n",
       "  </thead>\n",
       "  <tbody>\n",
       "    <tr>\n",
       "      <th>0</th>\n",
       "      <td>0.166052</td>\n",
       "      <td>-0.061514</td>\n",
       "      <td>1.198541</td>\n",
       "      <td>Male</td>\n",
       "    </tr>\n",
       "    <tr>\n",
       "      <th>1</th>\n",
       "      <td>-0.827876</td>\n",
       "      <td>-0.732582</td>\n",
       "      <td>-1.449845</td>\n",
       "      <td>Male</td>\n",
       "    </tr>\n",
       "    <tr>\n",
       "      <th>2</th>\n",
       "      <td>1.585948</td>\n",
       "      <td>1.504312</td>\n",
       "      <td>1.198541</td>\n",
       "      <td>Female</td>\n",
       "    </tr>\n",
       "    <tr>\n",
       "      <th>3</th>\n",
       "      <td>-1.253845</td>\n",
       "      <td>-1.179960</td>\n",
       "      <td>-0.861314</td>\n",
       "      <td>Female</td>\n",
       "    </tr>\n",
       "    <tr>\n",
       "      <th>4</th>\n",
       "      <td>1.372964</td>\n",
       "      <td>1.504312</td>\n",
       "      <td>0.904276</td>\n",
       "      <td>Female</td>\n",
       "    </tr>\n",
       "  </tbody>\n",
       "</table>\n",
       "</div>"
      ],
      "text/plain": [
       "   LP_LEBENSPHASE_FEIN  LP_LEBENSPHASE_GROB  LP_STATUS_FEIN ANREDE_KZ\n",
       "0             0.166052            -0.061514        1.198541      Male\n",
       "1            -0.827876            -0.732582       -1.449845      Male\n",
       "2             1.585948             1.504312        1.198541    Female\n",
       "3            -1.253845            -1.179960       -0.861314    Female\n",
       "4             1.372964             1.504312        0.904276    Female"
      ]
     },
     "execution_count": 138,
     "metadata": {},
     "output_type": "execute_result"
    }
   ],
   "source": [
    "init_test.head()"
   ]
  },
  {
   "cell_type": "code",
   "execution_count": 139,
   "metadata": {
    "tags": []
   },
   "outputs": [
    {
     "name": "stdout",
     "output_type": "stream",
     "text": [
      "<class 'pandas.core.frame.DataFrame'>\n",
      "RangeIndex: 42833 entries, 0 to 42832\n",
      "Data columns (total 4 columns):\n",
      " #   Column               Non-Null Count  Dtype   \n",
      "---  ------               --------------  -----   \n",
      " 0   LP_LEBENSPHASE_FEIN  42833 non-null  float64 \n",
      " 1   LP_LEBENSPHASE_GROB  42833 non-null  float64 \n",
      " 2   LP_STATUS_FEIN       42833 non-null  float64 \n",
      " 3   ANREDE_KZ            42833 non-null  category\n",
      "dtypes: category(1), float64(3)\n",
      "memory usage: 1.0 MB\n"
     ]
    }
   ],
   "source": [
    "init_test.info()"
   ]
  },
  {
   "cell_type": "code",
   "execution_count": 140,
   "metadata": {
    "tags": []
   },
   "outputs": [
    {
     "data": {
      "text/html": [
       "<div>\n",
       "<style scoped>\n",
       "    .dataframe tbody tr th:only-of-type {\n",
       "        vertical-align: middle;\n",
       "    }\n",
       "\n",
       "    .dataframe tbody tr th {\n",
       "        vertical-align: top;\n",
       "    }\n",
       "\n",
       "    .dataframe thead th {\n",
       "        text-align: right;\n",
       "    }\n",
       "</style>\n",
       "<table border=\"1\" class=\"dataframe\">\n",
       "  <thead>\n",
       "    <tr style=\"text-align: right;\">\n",
       "      <th></th>\n",
       "      <th>LP_LEBENSPHASE_FEIN</th>\n",
       "      <th>LP_LEBENSPHASE_GROB</th>\n",
       "      <th>LP_STATUS_FEIN</th>\n",
       "    </tr>\n",
       "  </thead>\n",
       "  <tbody>\n",
       "    <tr>\n",
       "      <th>count</th>\n",
       "      <td>42833.000000</td>\n",
       "      <td>42833.000000</td>\n",
       "      <td>42833.000000</td>\n",
       "    </tr>\n",
       "    <tr>\n",
       "      <th>mean</th>\n",
       "      <td>0.008101</td>\n",
       "      <td>0.008544</td>\n",
       "      <td>0.002803</td>\n",
       "    </tr>\n",
       "    <tr>\n",
       "      <th>std</th>\n",
       "      <td>0.994011</td>\n",
       "      <td>0.994352</td>\n",
       "      <td>0.997370</td>\n",
       "    </tr>\n",
       "    <tr>\n",
       "      <th>min</th>\n",
       "      <td>-1.253845</td>\n",
       "      <td>-1.179960</td>\n",
       "      <td>-1.449845</td>\n",
       "    </tr>\n",
       "    <tr>\n",
       "      <th>25%</th>\n",
       "      <td>-0.827876</td>\n",
       "      <td>-0.732582</td>\n",
       "      <td>-0.861314</td>\n",
       "    </tr>\n",
       "    <tr>\n",
       "      <th>50%</th>\n",
       "      <td>-0.188922</td>\n",
       "      <td>-0.285203</td>\n",
       "      <td>0.002803</td>\n",
       "    </tr>\n",
       "    <tr>\n",
       "      <th>75%</th>\n",
       "      <td>1.017990</td>\n",
       "      <td>1.056933</td>\n",
       "      <td>0.904276</td>\n",
       "    </tr>\n",
       "    <tr>\n",
       "      <th>max</th>\n",
       "      <td>1.585948</td>\n",
       "      <td>1.504312</td>\n",
       "      <td>1.198541</td>\n",
       "    </tr>\n",
       "  </tbody>\n",
       "</table>\n",
       "</div>"
      ],
      "text/plain": [
       "       LP_LEBENSPHASE_FEIN  LP_LEBENSPHASE_GROB  LP_STATUS_FEIN\n",
       "count         42833.000000         42833.000000    42833.000000\n",
       "mean              0.008101             0.008544        0.002803\n",
       "std               0.994011             0.994352        0.997370\n",
       "min              -1.253845            -1.179960       -1.449845\n",
       "25%              -0.827876            -0.732582       -0.861314\n",
       "50%              -0.188922            -0.285203        0.002803\n",
       "75%               1.017990             1.056933        0.904276\n",
       "max               1.585948             1.504312        1.198541"
      ]
     },
     "execution_count": 140,
     "metadata": {},
     "output_type": "execute_result"
    }
   ],
   "source": [
    "init_test.describe()"
   ]
  },
  {
   "cell_type": "code",
   "execution_count": 141,
   "metadata": {
    "tags": []
   },
   "outputs": [
    {
     "data": {
      "text/plain": [
       "count          42833\n",
       "unique             2\n",
       "top       NOPURCHASE\n",
       "freq           27274\n",
       "Name: RESPONSE, dtype: object"
      ]
     },
     "execution_count": 141,
     "metadata": {},
     "output_type": "execute_result"
    }
   ],
   "source": [
    "predictions = predictor.predict(init_test)\n",
    "predictions.describe()"
   ]
  },
  {
   "cell_type": "code",
   "execution_count": 142,
   "metadata": {
    "tags": []
   },
   "outputs": [
    {
     "data": {
      "text/plain": [
       "<Axes: >"
      ]
     },
     "execution_count": 142,
     "metadata": {},
     "output_type": "execute_result"
    },
    {
     "data": {
      "image/png": "[encoded data removed]",
      "text/plain": [
       "<Figure size 640x480 with 1 Axes>"
      ]
     },
     "metadata": {},
     "output_type": "display_data"
    }
   ],
   "source": [
    "predictions.hist()"
   ]
  },
  {
   "cell_type": "markdown",
   "metadata": {},
   "source": [
    "This proportion is perfect (or particularly close) but for the baseline submission I think this is fine"
   ]
  },
  {
   "cell_type": "markdown",
   "metadata": {},
   "source": [
    "For sumbission file we to submit the probabilities of each record "
   ]
  },
  {
   "cell_type": "code",
   "execution_count": 152,
   "metadata": {
    "tags": []
   },
   "outputs": [
    {
     "data": {
      "text/html": [
       "<div>\n",
       "<style scoped>\n",
       "    .dataframe tbody tr th:only-of-type {\n",
       "        vertical-align: middle;\n",
       "    }\n",
       "\n",
       "    .dataframe tbody tr th {\n",
       "        vertical-align: top;\n",
       "    }\n",
       "\n",
       "    .dataframe thead th {\n",
       "        text-align: right;\n",
       "    }\n",
       "</style>\n",
       "<table border=\"1\" class=\"dataframe\">\n",
       "  <thead>\n",
       "    <tr style=\"text-align: right;\">\n",
       "      <th></th>\n",
       "      <th>NOPURCHASE</th>\n",
       "      <th>PURCHASE</th>\n",
       "    </tr>\n",
       "  </thead>\n",
       "  <tbody>\n",
       "    <tr>\n",
       "      <th>0</th>\n",
       "      <td>0.450253</td>\n",
       "      <td>0.549747</td>\n",
       "    </tr>\n",
       "    <tr>\n",
       "      <th>1</th>\n",
       "      <td>0.470324</td>\n",
       "      <td>0.529676</td>\n",
       "    </tr>\n",
       "    <tr>\n",
       "      <th>2</th>\n",
       "      <td>0.517010</td>\n",
       "      <td>0.482990</td>\n",
       "    </tr>\n",
       "    <tr>\n",
       "      <th>3</th>\n",
       "      <td>0.546453</td>\n",
       "      <td>0.453547</td>\n",
       "    </tr>\n",
       "    <tr>\n",
       "      <th>4</th>\n",
       "      <td>0.508679</td>\n",
       "      <td>0.491321</td>\n",
       "    </tr>\n",
       "  </tbody>\n",
       "</table>\n",
       "</div>"
      ],
      "text/plain": [
       "   NOPURCHASE  PURCHASE\n",
       "0    0.450253  0.549747\n",
       "1    0.470324  0.529676\n",
       "2    0.517010  0.482990\n",
       "3    0.546453  0.453547\n",
       "4    0.508679  0.491321"
      ]
     },
     "execution_count": 152,
     "metadata": {},
     "output_type": "execute_result"
    }
   ],
   "source": [
    "prediction_probabilities = predictor.predict_proba(init_test)\n",
    "prediction_probabilities.head()"
   ]
  },
  {
   "cell_type": "code",
   "execution_count": 155,
   "metadata": {
    "tags": []
   },
   "outputs": [
    {
     "data": {
      "text/plain": [
       "0    0.549747\n",
       "1    0.529676\n",
       "2    0.482990\n",
       "3    0.453547\n",
       "4    0.491321\n",
       "Name: PURCHASE, dtype: float64"
      ]
     },
     "execution_count": 155,
     "metadata": {},
     "output_type": "execute_result"
    }
   ],
   "source": [
    "prediction_probabilities['PURCHASE'].head()"
   ]
  },
  {
   "cell_type": "code",
   "execution_count": 157,
   "metadata": {
    "tags": []
   },
   "outputs": [],
   "source": [
    "submission_init = pd.DataFrame({'LNR': test_data['LNR'].copy(), 'RESPONSE': prediction_probabilities['PURCHASE']})"
   ]
  },
  {
   "cell_type": "code",
   "execution_count": 158,
   "metadata": {
    "tags": []
   },
   "outputs": [],
   "source": [
    "submission_init.to_csv(\"init_submission.csv\", index=False)"
   ]
  },
  {
   "cell_type": "code",
   "execution_count": 172,
   "metadata": {
    "tags": []
   },
   "outputs": [
    {
     "name": "stdout",
     "output_type": "stream",
     "text": [
      "Warning: Your Kaggle API key is readable by other users on this system! To fix this, you can run 'chmod 600 kaggle/kaggle.json'\n",
      "403 - Forbidden - Permission 'competitions.participate' was denied\n"
     ]
    }
   ],
   "source": [
    "!kaggle competitions submit -c udacity-arvato-identify-customers -f init_submission.csv -m \"first raw submission\""
   ]
  },
  {
   "cell_type": "code",
   "execution_count": null,
   "metadata": {},
   "outputs": [],
   "source": []
  }
 ],
 "metadata": {
  "kernelspec": {
   "display_name": "conda_python3",
   "language": "python",
   "name": "conda_python3"
  },
  "language_info": {
   "codemirror_mode": {
    "name": "ipython",
    "version": 3
   },
   "file_extension": ".py",
   "mimetype": "text/x-python",
   "name": "python",
   "nbconvert_exporter": "python",
   "pygments_lexer": "ipython3",
   "version": "3.10.13"
  }
 },
 "nbformat": 4,
 "nbformat_minor": 4
}
